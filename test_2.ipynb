{
 "cells": [
  {
   "cell_type": "code",
   "execution_count": 1,
   "metadata": {},
   "outputs": [],
   "source": [
    "# notebook dependencies \n",
    "import pandas as pd\n",
    "import numpy as np\n",
    "import os\n",
    "\n",
    "# visualization imports\n",
    "import matplotlib.pyplot as plt\n",
    "import seaborn as sns\n",
    "sns.set()\n"
   ]
  },
  {
   "cell_type": "code",
   "execution_count": 2,
   "metadata": {},
   "outputs": [],
   "source": [
    "# checks local foldere for following files\n",
    "filename_01 = \"FieldOfStudyData1718_1819_PP.csv\"\n",
    "filename_02 = \"MERGED2018_19_PP.csv\""
   ]
  },
  {
   "cell_type": "code",
   "execution_count": 3,
   "metadata": {},
   "outputs": [],
   "source": [
    "# created the necessary parent and child tables\n",
    "df_parent = pd.read_csv(filename_01, low_memory=False)\n",
    "df_child = pd.read_csv(filename_02, low_memory=False)"
   ]
  },
  {
   "cell_type": "code",
   "execution_count": 4,
   "metadata": {},
   "outputs": [],
   "source": [
    "df_parent[\"UNITID\"] = df_parent[\"UNITID\"].astype(\"Int32\", errors=\"ignore\")\n",
    "df_child[\"UNITID\"] = df_child[\"UNITID\"].astype(\"Int32\", errors=\"ignore\")"
   ]
  },
  {
   "cell_type": "code",
   "execution_count": 5,
   "metadata": {},
   "outputs": [],
   "source": [
    "df = df_parent.merge( \n",
    "        df_child,\n",
    "        how = \"left\",\n",
    "        on = \"UNITID\",\n",
    "        copy = False\n",
    "        )"
   ]
  },
  {
   "cell_type": "code",
   "execution_count": 6,
   "metadata": {},
   "outputs": [
    {
     "data": {
      "text/plain": [
       "(224849, 3109)"
      ]
     },
     "execution_count": 6,
     "metadata": {},
     "output_type": "execute_result"
    }
   ],
   "source": [
    "df.shape"
   ]
  },
  {
   "cell_type": "code",
   "execution_count": 8,
   "metadata": {},
   "outputs": [],
   "source": [
    "# filters for just bachelor specific records\n",
    "df = df[df[\"CREDDESC\"] == \"Bachelors Degree\"]"
   ]
  },
  {
   "cell_type": "code",
   "execution_count": 10,
   "metadata": {},
   "outputs": [],
   "source": [
    "# # initial filter of columns with >= 50% missing records\n",
    "df = df[[ \n",
    "        \"UNITID\",\n",
    "        \"INSTNM_x\",\n",
    "        \"CONTROL_x\",\n",
    "        \"STABBR\",\n",
    "        \"ZIP\",\n",
    "        \"CITY\",\n",
    "        \"REGION\",\n",
    "        \"OPEFLAG\",\n",
    "        \"PREDDEG\",\n",
    "        \"SCH_DEG\",\n",
    "        \"CREDDESC\",\n",
    "        \"CREDLEV\",\n",
    "        \"CIPCODE\",\n",
    "        \"CIPDESC\",\n",
    "        \"NUMBRANCH\",\n",
    "        \"NPT4_PUB\",\n",
    "        \"NPT4_PRIV\",\n",
    "        \"NPT4_PROG\",\n",
    "        \"NPT4_OTHER\",\n",
    "        \"NUM4_PRIV\",\n",
    "        'NUM41_PUB',\n",
    "        'NUM41_PRIV',\n",
    "        'NUM41_PROG',\n",
    "        'NUM41_OTHER',\n",
    "        'NUM42_PUB',\n",
    "        'NUM42_PRIV',\n",
    "        'NUM42_PROG',\n",
    "        'NUM42_OTHER',\n",
    "        'NUM43_PUB',\n",
    "        'NUM43_PRIV',\n",
    "        'NUM43_PROG',\n",
    "        'NUM43_OTHER',\n",
    "        'NUM44_PUB',\n",
    "        'NUM44_PRIV',\n",
    "        'NUM44_PROG',\n",
    "        'NUM44_OTHER',\n",
    "        'NUM45_PUB',\n",
    "        'NUM45_PRIV',\n",
    "        'NUM45_PROG',\n",
    "        'NUM45_OTHER',\n",
    "        \"TUITFTE\",\n",
    "        \"ROOMBOARD_OFF\",\n",
    "        \"ROOMBOARD_ON\",\n",
    "        \"ADM_RATE\",\n",
    "        \"GRADS\",\n",
    "        \"ACTCMMID\",\n",
    "        \"SAT_AVG\",\n",
    "        \"ADMCON7\",\n",
    "        \"AVGFACSAL\",\n",
    "        \"DISTANCEONLY\",\n",
    "        \"C150_4\",\n",
    "        \"C150_4_2MOR\",\n",
    "        \"C150_4_AIAN\",\n",
    "        \"C150_4_ASIAN\",\n",
    "        \"C150_4_BLACK\",\n",
    "        \"C150_4_HISP\",\n",
    "        \"C150_4_NRA\",\n",
    "        \"C150_4_UNKN\",\n",
    "        \"C150_4_WHITE\",\n",
    "        \"PFTFTUG1_EF\",\n",
    "        \"PPTUG_EF\",\n",
    "        \"RET_FT4\",\n",
    "        \"RET_PT4\",\n",
    "        \"UGDS_2MOR\",\n",
    "        \"UGDS_AIAN\",\n",
    "        \"UGDS_ASIAN\",\n",
    "        \"UGDS_BLACK\",\n",
    "        \"UGDS_HISP\",\n",
    "        \"UGDS_NHPI\",\n",
    "        \"UGDS_NRA\",\n",
    "        \"UGDS_UNKN\",\n",
    "        \"UGDS_WHITE\",\n",
    "        \"D_PCTPELL_PCTFLOAN\",\n",
    "        \"DEBT_MDN\",\n",
    "        \"PELL_DEBT_MDN\",\n",
    "        \"LO_INC_DEBT_MDN\",\n",
    "        \"MD_INC_DEBT_MDN\",\n",
    "        \"HI_INC_DEBT_MDN\",\n",
    "        \"GRAD_DEBT_MDN\",\n",
    "        \"WDRAW_DEBT_MDN\",\n",
    "        \"MALE_DEBT_MDN\",\n",
    "        \"FEMALE_DEBT_MDN\",\n",
    "        \"IND_DEBT_MDN\",\n",
    "        \"FIRSTGEN_DEBT_MDN\",\n",
    "        \"NOTFIRSTGEN_DEBT_MDN\",\n",
    "        \"NOPELL_DEBT_MDN\",\n",
    "        \"FTFTPCTFLOAN\",\n",
    "        \"FTFTPCTPELL\",\n",
    "        \"DEBT_PELL_PP_EVAL_MDN\",\n",
    "        \"DEBT_PELL_PP_EVAL_MEAN\",\n",
    "        \"DEBT_PELL_STGP_EVAL_MDN\",\n",
    "        \"DEBT_PELL_STGP_EVAL_MEAN\",\n",
    "        \"DEBT_ALL_PP_EVAL_MDN\",\n",
    "        \"DEBT_ALL_PP_EVAL_MEAN\",\n",
    "        \"DEBT_ALL_STGP_EVAL_MDN\",\n",
    "        \"DEBT_ALL_STGP_EVAL_MEAN\",\n",
    "        \"DEBT_ALL_STGP_EVAL_MDN10YRPAY\",\n",
    "        \"DEBT_NOPELL_STGP_EVAL_MDN\",\n",
    "        \"DEBT_NOPELL_STGP_EVAL_MEAN\",\n",
    "        \"DEBT_ALL_PP_EVAL_MDN10YRPAY\",\n",
    "        \"PCIP01\",\n",
    "        \"PCIP03\",\n",
    "        \"PCIP04\",\n",
    "        \"PCIP05\",\n",
    "        \"PCIP09\",\n",
    "        \"PCIP10\",\n",
    "        \"PCIP11\",\n",
    "        \"PCIP12\",\n",
    "        \"PCIP13\",\n",
    "        \"PCIP14\",\n",
    "        \"PCIP15\",\n",
    "        \"PCIP16\",\n",
    "        \"PCIP19\",\n",
    "        \"PCIP22\",\n",
    "        \"PCIP23\",\n",
    "        \"PCIP24\",\n",
    "        \"PCIP25\",\n",
    "        \"PCIP26\",\n",
    "        \"PCIP27\",\n",
    "        \"PCIP29\",\n",
    "        \"PCIP30\",\n",
    "        \"PCIP31\",\n",
    "        \"PCIP38\",\n",
    "        \"PCIP39\",\n",
    "        \"PCIP40\",\n",
    "        \"PCIP41\",\n",
    "        \"PCIP42\",\n",
    "        \"PCIP43\",\n",
    "        \"PCIP44\",\n",
    "        \"PCIP45\",\n",
    "        \"PCIP46\",\n",
    "        \"PCIP47\",\n",
    "        \"PCIP48\",\n",
    "        \"PCIP49\",\n",
    "        \"PCIP50\",\n",
    "        \"PCIP51\",\n",
    "        \"PCIP52\",\n",
    "        \"PCIP54\",\n",
    "        \"UGNONDS\"\n",
    "    ]]"
   ]
  },
  {
   "cell_type": "code",
   "execution_count": 11,
   "metadata": {},
   "outputs": [
    {
     "data": {
      "text/plain": [
       "(71901, 139)"
      ]
     },
     "execution_count": 11,
     "metadata": {},
     "output_type": "execute_result"
    }
   ],
   "source": [
    "df.shape"
   ]
  }
 ],
 "metadata": {
  "kernelspec": {
   "display_name": "Python 3.9.12 ('base')",
   "language": "python",
   "name": "python3"
  },
  "language_info": {
   "codemirror_mode": {
    "name": "ipython",
    "version": 3
   },
   "file_extension": ".py",
   "mimetype": "text/x-python",
   "name": "python",
   "nbconvert_exporter": "python",
   "pygments_lexer": "ipython3",
   "version": "3.9.12"
  },
  "orig_nbformat": 4,
  "vscode": {
   "interpreter": {
    "hash": "3067ead486e059ec00ffe7555bdb889e6e264a24dc711bf108106cc7baee8d5d"
   }
  }
 },
 "nbformat": 4,
 "nbformat_minor": 2
}

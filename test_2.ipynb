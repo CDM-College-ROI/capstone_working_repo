{
 "cells": [
  {
   "cell_type": "code",
   "execution_count": 1,
   "metadata": {},
   "outputs": [],
   "source": [
    "# notebook dependencies \n",
    "import pandas as pd\n",
    "import numpy as np\n",
    "import os\n",
    "\n",
    "# visualization imports\n",
    "import matplotlib.pyplot as plt\n",
    "import seaborn as sns\n",
    "sns.set()\n"
   ]
  },
  {
   "cell_type": "code",
   "execution_count": 2,
   "metadata": {},
   "outputs": [],
   "source": [
    "# checks local foldere for following files\n",
    "filename_01 = \"FieldOfStudyData1718_1819_PP.csv\"\n",
    "filename_02 = \"MERGED2018_19_PP.csv\""
   ]
  },
  {
   "cell_type": "code",
   "execution_count": 3,
   "metadata": {},
   "outputs": [],
   "source": [
    "# created the necessary parent and child tables\n",
    "df_parent = pd.read_csv(filename_01, low_memory=False)\n",
    "df_child = pd.read_csv(filename_02, low_memory=False)"
   ]
  },
  {
   "cell_type": "code",
   "execution_count": 4,
   "metadata": {},
   "outputs": [],
   "source": [
    "df_parent[\"UNITID\"] = df_parent[\"UNITID\"].astype(\"Int32\", errors=\"ignore\")\n",
    "df_child[\"UNITID\"] = df_child[\"UNITID\"].astype(\"Int32\", errors=\"ignore\")"
   ]
  },
  {
   "cell_type": "code",
   "execution_count": 5,
   "metadata": {},
   "outputs": [],
   "source": [
    "df = df_parent.merge( \n",
    "        df_child,\n",
    "        how = \"left\",\n",
    "        on = \"UNITID\",\n",
    "        copy = False\n",
    "        )"
   ]
  },
  {
   "cell_type": "code",
   "execution_count": 6,
   "metadata": {},
   "outputs": [
    {
     "data": {
      "text/plain": [
       "(224849, 3109)"
      ]
     },
     "execution_count": 6,
     "metadata": {},
     "output_type": "execute_result"
    }
   ],
   "source": [
    "df.shape"
   ]
  },
  {
   "cell_type": "code",
   "execution_count": 7,
   "metadata": {},
   "outputs": [
    {
     "data": {
      "text/plain": [
       "0                             Bachelors Degree\n",
       "1                             Bachelors Degree\n",
       "2                             Bachelors Degree\n",
       "3                              Master's Degree\n",
       "4                              Doctoral Degree\n",
       "                          ...                 \n",
       "224844    Undergraduate Certificate or Diploma\n",
       "224845                         Doctoral Degree\n",
       "224846    Undergraduate Certificate or Diploma\n",
       "224847                      Associate's Degree\n",
       "224848                      Associate's Degree\n",
       "Name: CREDDESC, Length: 224849, dtype: object"
      ]
     },
     "execution_count": 7,
     "metadata": {},
     "output_type": "execute_result"
    }
   ],
   "source": [
    "df.CREDDESC"
   ]
  }
 ],
 "metadata": {
  "kernelspec": {
   "display_name": "Python 3.9.12 ('base')",
   "language": "python",
   "name": "python3"
  },
  "language_info": {
   "codemirror_mode": {
    "name": "ipython",
    "version": 3
   },
   "file_extension": ".py",
   "mimetype": "text/x-python",
   "name": "python",
   "nbconvert_exporter": "python",
   "pygments_lexer": "ipython3",
   "version": "3.9.12"
  },
  "orig_nbformat": 4,
  "vscode": {
   "interpreter": {
    "hash": "3067ead486e059ec00ffe7555bdb889e6e264a24dc711bf108106cc7baee8d5d"
   }
  }
 },
 "nbformat": 4,
 "nbformat_minor": 2
}

{
 "cells": [
  {
   "cell_type": "code",
   "execution_count": 1,
   "metadata": {},
   "outputs": [],
   "source": [
    "# notebook dependencies \n",
    "%matplotlib inline\n",
    "import matplotlib as mlp\n",
    "mlp.rcParams['figure.dpi'] = 300\n",
    "\n",
    "import pandas as pd\n",
    "import numpy as np\n",
    "import os\n",
    "\n",
    "# visualization imports\n",
    "import matplotlib.pyplot as plt\n",
    "import seaborn as sns\n",
    "sns.set()\n",
    "\n",
    "# time module\n",
    "from time import time\n",
    "\n",
    "import mm_prepare\n",
    "import mm_acquire"
   ]
  },
  {
   "cell_type": "code",
   "execution_count": null,
   "metadata": {},
   "outputs": [],
   "source": [
    "#Generate test data from same distribution of training data\n",
    "test_data, test_labels = make_moons(n_samples=2000, noise=0.3, random_state=seed+5)\n",
    "training_cluster_features = kmf_hint.transform(training_data)\n",
    "test_cluster_features = kmf_hint.transform(test_data)\n",
    "training_with_cluster = scipy.sparse.hstack((training_data, training_cluster_features))\n",
    "test_with_cluster = scipy.sparse.hstack((test_data, test_cluster_features))\n",
    "#Run the models\n",
    "lr_cluster = LogisticRegression(random_state=seed).fit(training_with_cluster, training_labels)\n",
    "classifier_names = ['LR',\n",
    "                    'kNN']\n",
    "classifiers = [LogisticRegression(random_state=seed),\n",
    "               KNeighborsClassifier(5)]\n",
    "for model in classifiers:\n",
    "    model.fit(training_data, training_labels)   \n",
    "    \n",
    "#Plot the ROC\n",
    "def test_roc(model, data, labels):\n",
    "    if hasattr(model, \"decision_function\"):\n",
    "        predictions = model.decision_function(data)\n",
    "    else:\n",
    "        predictions = model.predict_proba(data)[:,1]\n",
    "    fpr, tpr, _ = sklearn.metrics.roc_curve(labels, predictions)\n",
    "    return fpr, tpr\n",
    "plt.figure()\n",
    "fpr_cluster, tpr_cluster = test_roc(lr_cluster, test_with_cluster, test_labels)\n",
    "plt.plot(fpr_cluster, tpr_cluster, 'r-', label='LR with k-means')\n",
    "for i, model in enumerate(classifiers):\n",
    "    fpr, tpr = test_roc(model, test_data, test_labels)\n",
    "    plt.plot(fpr, tpr, label=classifier_names[i])\n",
    "    \n",
    "plt.plot([0, 1], [0, 1], 'k--')\n",
    "plt.legend()\n",
    "plt.xlabel('False Positive Rate', fontsize=14)\n",
    "plt.ylabel('True Positive Rate', fontsize=14)"
   ]
  }
 ],
 "metadata": {
  "kernelspec": {
   "display_name": "Python 3.9.12 ('base')",
   "language": "python",
   "name": "python3"
  },
  "language_info": {
   "codemirror_mode": {
    "name": "ipython",
    "version": 3
   },
   "file_extension": ".py",
   "mimetype": "text/x-python",
   "name": "python",
   "nbconvert_exporter": "python",
   "pygments_lexer": "ipython3",
   "version": "3.9.12"
  },
  "orig_nbformat": 4,
  "vscode": {
   "interpreter": {
    "hash": "40d3a090f54c6569ab1632332b64b2c03c39dcf918b08424e98f38b5ae0af88f"
   }
  }
 },
 "nbformat": 4,
 "nbformat_minor": 2
}

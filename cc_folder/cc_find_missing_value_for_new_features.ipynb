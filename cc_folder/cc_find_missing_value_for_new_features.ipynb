{
 "cells": [
  {
   "cell_type": "code",
   "execution_count": 1,
   "id": "9ac0918f",
   "metadata": {},
   "outputs": [],
   "source": [
    "# regular imports\n",
    "import pandas as pd\n",
    "import numpy as np\n",
    "import matplotlib.pyplot as plt\n",
    "import seaborn as sns\n",
    "import scipy\n",
    "import math\n",
    "\n",
    "# default pandas decimal number display format\n",
    "pd.options.display.float_format = '{:20,.2f}'.format\n",
    "\n",
    "import warnings\n",
    "warnings.filterwarnings(\"ignore\")\n",
    "\n",
    "# Wrangling\n",
    "from sklearn.model_selection import train_test_split, learning_curve\n",
    "from sklearn.feature_selection import SelectKBest, RFE, f_regression, SequentialFeatureSelector\n",
    "from sklearn.linear_model import LinearRegression, LassoLars, TweedieRegressor\n",
    "from sklearn.cluster import KMeans\n",
    "from scipy import stats\n",
    "import sklearn.preprocessing\n",
    "from sklearn.metrics import mean_squared_error\n",
    "from scipy.stats import pearsonr, spearmanr, kruskal\n",
    "\n",
    "import csv\n",
    "import cc_acquire\n",
    "import cc_prepare"
   ]
  },
  {
   "cell_type": "code",
   "execution_count": 2,
   "id": "eda45037",
   "metadata": {},
   "outputs": [
    {
     "name": "stdout",
     "output_type": "stream",
     "text": [
      "dataframe shape: (71901, 115)\n",
      "modified df shape: (71901, 100)\n"
     ]
    }
   ],
   "source": [
    "df = cc_acquire.get_bach_df()\n",
    "df = cc_prepare.clean_col_names(df)\n",
    "df = cc_prepare.clean_bach_df(df)"
   ]
  },
  {
   "cell_type": "code",
   "execution_count": 3,
   "id": "fd03ab7e",
   "metadata": {},
   "outputs": [
    {
     "data": {
      "text/html": [
       "<div>\n",
       "<style scoped>\n",
       "    .dataframe tbody tr th:only-of-type {\n",
       "        vertical-align: middle;\n",
       "    }\n",
       "\n",
       "    .dataframe tbody tr th {\n",
       "        vertical-align: top;\n",
       "    }\n",
       "\n",
       "    .dataframe thead th {\n",
       "        text-align: right;\n",
       "    }\n",
       "</style>\n",
       "<table border=\"1\" class=\"dataframe\">\n",
       "  <thead>\n",
       "    <tr style=\"text-align: right;\">\n",
       "      <th></th>\n",
       "      <th>unit_id_institution</th>\n",
       "      <th>college_name</th>\n",
       "      <th>state_post_code</th>\n",
       "      <th>zip_code</th>\n",
       "      <th>city</th>\n",
       "      <th>region_ipeds</th>\n",
       "      <th>title_IV_eligibility</th>\n",
       "      <th>pred_degree</th>\n",
       "      <th>pred_degree_0and4</th>\n",
       "      <th>degree_name</th>\n",
       "      <th>...</th>\n",
       "      <th>deg_percent_awarded_social_sciences</th>\n",
       "      <th>deg_percent_awarded_construction_trades</th>\n",
       "      <th>deg_percent_awarded_mechanic_repair</th>\n",
       "      <th>deg_percent_awarded_precision_production</th>\n",
       "      <th>deg_percent_awarded_transportation_materials</th>\n",
       "      <th>deg_percent_awarded_visual_and_performing_arts</th>\n",
       "      <th>deg_percent_awarded_health</th>\n",
       "      <th>deg_percent_awarded_business_management</th>\n",
       "      <th>deg_percent_awarded_history</th>\n",
       "      <th>non_deg_seeking</th>\n",
       "    </tr>\n",
       "  </thead>\n",
       "  <tbody>\n",
       "    <tr>\n",
       "      <th>0</th>\n",
       "      <td>100654</td>\n",
       "      <td>Alabama A &amp; M University</td>\n",
       "      <td>AL</td>\n",
       "      <td>35762</td>\n",
       "      <td>Normal</td>\n",
       "      <td>5.00</td>\n",
       "      <td>1.00</td>\n",
       "      <td>3.00</td>\n",
       "      <td>3.00</td>\n",
       "      <td>Bachelors Degree</td>\n",
       "      <td>...</td>\n",
       "      <td>0.04</td>\n",
       "      <td>0.00</td>\n",
       "      <td>0.00</td>\n",
       "      <td>0.00</td>\n",
       "      <td>0.00</td>\n",
       "      <td>0.02</td>\n",
       "      <td>0.00</td>\n",
       "      <td>0.16</td>\n",
       "      <td>0.00</td>\n",
       "      <td>153.00</td>\n",
       "    </tr>\n",
       "    <tr>\n",
       "      <th>1</th>\n",
       "      <td>100654</td>\n",
       "      <td>Alabama A &amp; M University</td>\n",
       "      <td>AL</td>\n",
       "      <td>35762</td>\n",
       "      <td>Normal</td>\n",
       "      <td>5.00</td>\n",
       "      <td>1.00</td>\n",
       "      <td>3.00</td>\n",
       "      <td>3.00</td>\n",
       "      <td>Bachelors Degree</td>\n",
       "      <td>...</td>\n",
       "      <td>0.04</td>\n",
       "      <td>0.00</td>\n",
       "      <td>0.00</td>\n",
       "      <td>0.00</td>\n",
       "      <td>0.00</td>\n",
       "      <td>0.02</td>\n",
       "      <td>0.00</td>\n",
       "      <td>0.16</td>\n",
       "      <td>0.00</td>\n",
       "      <td>153.00</td>\n",
       "    </tr>\n",
       "    <tr>\n",
       "      <th>2</th>\n",
       "      <td>100654</td>\n",
       "      <td>Alabama A &amp; M University</td>\n",
       "      <td>AL</td>\n",
       "      <td>35762</td>\n",
       "      <td>Normal</td>\n",
       "      <td>5.00</td>\n",
       "      <td>1.00</td>\n",
       "      <td>3.00</td>\n",
       "      <td>3.00</td>\n",
       "      <td>Bachelors Degree</td>\n",
       "      <td>...</td>\n",
       "      <td>0.04</td>\n",
       "      <td>0.00</td>\n",
       "      <td>0.00</td>\n",
       "      <td>0.00</td>\n",
       "      <td>0.00</td>\n",
       "      <td>0.02</td>\n",
       "      <td>0.00</td>\n",
       "      <td>0.16</td>\n",
       "      <td>0.00</td>\n",
       "      <td>153.00</td>\n",
       "    </tr>\n",
       "    <tr>\n",
       "      <th>5</th>\n",
       "      <td>100654</td>\n",
       "      <td>Alabama A &amp; M University</td>\n",
       "      <td>AL</td>\n",
       "      <td>35762</td>\n",
       "      <td>Normal</td>\n",
       "      <td>5.00</td>\n",
       "      <td>1.00</td>\n",
       "      <td>3.00</td>\n",
       "      <td>3.00</td>\n",
       "      <td>Bachelors Degree</td>\n",
       "      <td>...</td>\n",
       "      <td>0.04</td>\n",
       "      <td>0.00</td>\n",
       "      <td>0.00</td>\n",
       "      <td>0.00</td>\n",
       "      <td>0.00</td>\n",
       "      <td>0.02</td>\n",
       "      <td>0.00</td>\n",
       "      <td>0.16</td>\n",
       "      <td>0.00</td>\n",
       "      <td>153.00</td>\n",
       "    </tr>\n",
       "    <tr>\n",
       "      <th>6</th>\n",
       "      <td>100654</td>\n",
       "      <td>Alabama A &amp; M University</td>\n",
       "      <td>AL</td>\n",
       "      <td>35762</td>\n",
       "      <td>Normal</td>\n",
       "      <td>5.00</td>\n",
       "      <td>1.00</td>\n",
       "      <td>3.00</td>\n",
       "      <td>3.00</td>\n",
       "      <td>Bachelors Degree</td>\n",
       "      <td>...</td>\n",
       "      <td>0.04</td>\n",
       "      <td>0.00</td>\n",
       "      <td>0.00</td>\n",
       "      <td>0.00</td>\n",
       "      <td>0.00</td>\n",
       "      <td>0.02</td>\n",
       "      <td>0.00</td>\n",
       "      <td>0.16</td>\n",
       "      <td>0.00</td>\n",
       "      <td>153.00</td>\n",
       "    </tr>\n",
       "  </tbody>\n",
       "</table>\n",
       "<p>5 rows × 100 columns</p>\n",
       "</div>"
      ],
      "text/plain": [
       "   unit_id_institution              college_name state_post_code zip_code  \\\n",
       "0               100654  Alabama A & M University              AL    35762   \n",
       "1               100654  Alabama A & M University              AL    35762   \n",
       "2               100654  Alabama A & M University              AL    35762   \n",
       "5               100654  Alabama A & M University              AL    35762   \n",
       "6               100654  Alabama A & M University              AL    35762   \n",
       "\n",
       "     city         region_ipeds  title_IV_eligibility          pred_degree  \\\n",
       "0  Normal                 5.00                  1.00                 3.00   \n",
       "1  Normal                 5.00                  1.00                 3.00   \n",
       "2  Normal                 5.00                  1.00                 3.00   \n",
       "5  Normal                 5.00                  1.00                 3.00   \n",
       "6  Normal                 5.00                  1.00                 3.00   \n",
       "\n",
       "     pred_degree_0and4       degree_name  ...  \\\n",
       "0                 3.00  Bachelors Degree  ...   \n",
       "1                 3.00  Bachelors Degree  ...   \n",
       "2                 3.00  Bachelors Degree  ...   \n",
       "5                 3.00  Bachelors Degree  ...   \n",
       "6                 3.00  Bachelors Degree  ...   \n",
       "\n",
       "   deg_percent_awarded_social_sciences  \\\n",
       "0                                 0.04   \n",
       "1                                 0.04   \n",
       "2                                 0.04   \n",
       "5                                 0.04   \n",
       "6                                 0.04   \n",
       "\n",
       "   deg_percent_awarded_construction_trades  \\\n",
       "0                                     0.00   \n",
       "1                                     0.00   \n",
       "2                                     0.00   \n",
       "5                                     0.00   \n",
       "6                                     0.00   \n",
       "\n",
       "  deg_percent_awarded_mechanic_repair  \\\n",
       "0                                0.00   \n",
       "1                                0.00   \n",
       "2                                0.00   \n",
       "5                                0.00   \n",
       "6                                0.00   \n",
       "\n",
       "   deg_percent_awarded_precision_production  \\\n",
       "0                                      0.00   \n",
       "1                                      0.00   \n",
       "2                                      0.00   \n",
       "5                                      0.00   \n",
       "6                                      0.00   \n",
       "\n",
       "   deg_percent_awarded_transportation_materials  \\\n",
       "0                                          0.00   \n",
       "1                                          0.00   \n",
       "2                                          0.00   \n",
       "5                                          0.00   \n",
       "6                                          0.00   \n",
       "\n",
       "   deg_percent_awarded_visual_and_performing_arts  deg_percent_awarded_health  \\\n",
       "0                                            0.02                        0.00   \n",
       "1                                            0.02                        0.00   \n",
       "2                                            0.02                        0.00   \n",
       "5                                            0.02                        0.00   \n",
       "6                                            0.02                        0.00   \n",
       "\n",
       "   deg_percent_awarded_business_management  deg_percent_awarded_history  \\\n",
       "0                                     0.16                         0.00   \n",
       "1                                     0.16                         0.00   \n",
       "2                                     0.16                         0.00   \n",
       "5                                     0.16                         0.00   \n",
       "6                                     0.16                         0.00   \n",
       "\n",
       "       non_deg_seeking  \n",
       "0               153.00  \n",
       "1               153.00  \n",
       "2               153.00  \n",
       "5               153.00  \n",
       "6               153.00  \n",
       "\n",
       "[5 rows x 100 columns]"
      ]
     },
     "execution_count": 3,
     "metadata": {},
     "output_type": "execute_result"
    }
   ],
   "source": [
    "df.head()"
   ]
  },
  {
   "cell_type": "code",
   "execution_count": 8,
   "id": "fefbc93b",
   "metadata": {},
   "outputs": [],
   "source": [
    "df.to_csv('ba_cleaned.csv')"
   ]
  },
  {
   "cell_type": "code",
   "execution_count": 6,
   "id": "1a1a88f6",
   "metadata": {},
   "outputs": [
    {
     "data": {
      "text/plain": [
       "(71901, 100)"
      ]
     },
     "execution_count": 6,
     "metadata": {},
     "output_type": "execute_result"
    }
   ],
   "source": [
    "df = pd.read_csv('ba_cleaned.csv' ,index_col=0)\n",
    "df.shape"
   ]
  },
  {
   "cell_type": "code",
   "execution_count": 9,
   "id": "0332199c",
   "metadata": {},
   "outputs": [
    {
     "data": {
      "text/plain": [
       "unit_id_institution                               2227\n",
       "college_name                                         0\n",
       "state_post_code                                   2889\n",
       "zip_code                                          2889\n",
       "city                                              2889\n",
       "                                                  ... \n",
       "deg_percent_awarded_visual_and_performing_arts    2898\n",
       "deg_percent_awarded_health                        2898\n",
       "deg_percent_awarded_business_management           2898\n",
       "deg_percent_awarded_history.1                     2898\n",
       "non_deg_seeking                                   8065\n",
       "Length: 100, dtype: int64"
      ]
     },
     "execution_count": 9,
     "metadata": {},
     "output_type": "execute_result"
    }
   ],
   "source": [
    "df.isnull().sum()"
   ]
  },
  {
   "cell_type": "code",
   "execution_count": 10,
   "id": "f4f00b97",
   "metadata": {},
   "outputs": [],
   "source": [
    "def nulls_by_col(df):\n",
    "    num_missing = df.isnull().sum()\n",
    "    rows = df.shape[0]\n",
    "    prcnt_miss = num_missing / rows * 100\n",
    "    cols_missing = pd.DataFrame({'num_rows_missing': num_missing, 'percent_rows_missing': prcnt_miss})\n",
    "    return cols_missing.sort_values(by='num_rows_missing', ascending=False)"
   ]
  },
  {
   "cell_type": "code",
   "execution_count": 16,
   "id": "911fb696",
   "metadata": {},
   "outputs": [],
   "source": [
    "missing_value = (nulls_by_col(df))[(nulls_by_col(df)).percent_rows_missing != 0]"
   ]
  },
  {
   "cell_type": "code",
   "execution_count": 21,
   "id": "39aff8b3",
   "metadata": {},
   "outputs": [
    {
     "data": {
      "text/html": [
       "<div>\n",
       "<style scoped>\n",
       "    .dataframe tbody tr th:only-of-type {\n",
       "        vertical-align: middle;\n",
       "    }\n",
       "\n",
       "    .dataframe tbody tr th {\n",
       "        vertical-align: top;\n",
       "    }\n",
       "\n",
       "    .dataframe thead th {\n",
       "        text-align: right;\n",
       "    }\n",
       "</style>\n",
       "<table border=\"1\" class=\"dataframe\">\n",
       "  <thead>\n",
       "    <tr style=\"text-align: right;\">\n",
       "      <th></th>\n",
       "      <th>num_rows_missing</th>\n",
       "      <th>percent_rows_missing</th>\n",
       "    </tr>\n",
       "  </thead>\n",
       "  <tbody>\n",
       "    <tr>\n",
       "      <th>avg_net_price_private</th>\n",
       "      <td>33685</td>\n",
       "      <td>46.85</td>\n",
       "    </tr>\n",
       "    <tr>\n",
       "      <th>title_IV_student_number</th>\n",
       "      <td>33685</td>\n",
       "      <td>46.85</td>\n",
       "    </tr>\n",
       "    <tr>\n",
       "      <th>first_time_pt_student_retention</th>\n",
       "      <td>24298</td>\n",
       "      <td>33.79</td>\n",
       "    </tr>\n",
       "    <tr>\n",
       "      <th>comp_rt_ft_150over_expected_time_native_american</th>\n",
       "      <td>20295</td>\n",
       "      <td>28.23</td>\n",
       "    </tr>\n",
       "    <tr>\n",
       "      <th>ACT_score_mid</th>\n",
       "      <td>19527</td>\n",
       "      <td>27.16</td>\n",
       "    </tr>\n",
       "  </tbody>\n",
       "</table>\n",
       "</div>"
      ],
      "text/plain": [
       "                                                  num_rows_missing  \\\n",
       "avg_net_price_private                                        33685   \n",
       "title_IV_student_number                                      33685   \n",
       "first_time_pt_student_retention                              24298   \n",
       "comp_rt_ft_150over_expected_time_native_american             20295   \n",
       "ACT_score_mid                                                19527   \n",
       "\n",
       "                                                  percent_rows_missing  \n",
       "avg_net_price_private                                            46.85  \n",
       "title_IV_student_number                                          46.85  \n",
       "first_time_pt_student_retention                                  33.79  \n",
       "comp_rt_ft_150over_expected_time_native_american                 28.23  \n",
       "ACT_score_mid                                                    27.16  "
      ]
     },
     "execution_count": 21,
     "metadata": {},
     "output_type": "execute_result"
    }
   ],
   "source": [
    "missing_value.head()"
   ]
  },
  {
   "cell_type": "code",
   "execution_count": 22,
   "id": "5ab355c8",
   "metadata": {},
   "outputs": [],
   "source": [
    "missing_value.to_csv('ba_missing_value')"
   ]
  },
  {
   "cell_type": "code",
   "execution_count": null,
   "id": "f44013e5",
   "metadata": {},
   "outputs": [],
   "source": []
  },
  {
   "cell_type": "code",
   "execution_count": 30,
   "id": "5d5a4683",
   "metadata": {},
   "outputs": [],
   "source": [
    "# see if we need to bring more features back\n",
    "x = pd.read_csv('MERGED2018_19_PP.csv')"
   ]
  },
  {
   "cell_type": "code",
   "execution_count": 38,
   "id": "b5e82dbf",
   "metadata": {},
   "outputs": [],
   "source": [
    "x1 = x[['TUITIONFEE_IN','TUITIONFEE_OUT']]\n",
    "x2 = x[['TUITIONFEE_PROG','TUITFTE']]"
   ]
  },
  {
   "cell_type": "code",
   "execution_count": 39,
   "id": "922189bc",
   "metadata": {},
   "outputs": [
    {
     "data": {
      "text/html": [
       "<div>\n",
       "<style scoped>\n",
       "    .dataframe tbody tr th:only-of-type {\n",
       "        vertical-align: middle;\n",
       "    }\n",
       "\n",
       "    .dataframe tbody tr th {\n",
       "        vertical-align: top;\n",
       "    }\n",
       "\n",
       "    .dataframe thead th {\n",
       "        text-align: right;\n",
       "    }\n",
       "</style>\n",
       "<table border=\"1\" class=\"dataframe\">\n",
       "  <thead>\n",
       "    <tr style=\"text-align: right;\">\n",
       "      <th></th>\n",
       "      <th>TUITIONFEE_IN</th>\n",
       "      <th>TUITIONFEE_OUT</th>\n",
       "    </tr>\n",
       "  </thead>\n",
       "  <tbody>\n",
       "    <tr>\n",
       "      <th>0</th>\n",
       "      <td>9,744.00</td>\n",
       "      <td>18,354.00</td>\n",
       "    </tr>\n",
       "    <tr>\n",
       "      <th>1</th>\n",
       "      <td>8,568.00</td>\n",
       "      <td>19,704.00</td>\n",
       "    </tr>\n",
       "    <tr>\n",
       "      <th>2</th>\n",
       "      <td>6,900.00</td>\n",
       "      <td>6,900.00</td>\n",
       "    </tr>\n",
       "    <tr>\n",
       "      <th>3</th>\n",
       "      <td>10,714.00</td>\n",
       "      <td>22,362.00</td>\n",
       "    </tr>\n",
       "    <tr>\n",
       "      <th>4</th>\n",
       "      <td>11,068.00</td>\n",
       "      <td>19,396.00</td>\n",
       "    </tr>\n",
       "  </tbody>\n",
       "</table>\n",
       "</div>"
      ],
      "text/plain": [
       "         TUITIONFEE_IN       TUITIONFEE_OUT\n",
       "0             9,744.00            18,354.00\n",
       "1             8,568.00            19,704.00\n",
       "2             6,900.00             6,900.00\n",
       "3            10,714.00            22,362.00\n",
       "4            11,068.00            19,396.00"
      ]
     },
     "execution_count": 39,
     "metadata": {},
     "output_type": "execute_result"
    }
   ],
   "source": [
    "x1.head()"
   ]
  },
  {
   "cell_type": "code",
   "execution_count": 40,
   "id": "63da6e47",
   "metadata": {},
   "outputs": [
    {
     "data": {
      "text/plain": [
       "TUITIONFEE_IN     2941\n",
       "TUITIONFEE_OUT    3185\n",
       "dtype: int64"
      ]
     },
     "execution_count": 40,
     "metadata": {},
     "output_type": "execute_result"
    }
   ],
   "source": [
    "x1.isnull().sum()"
   ]
  },
  {
   "cell_type": "code",
   "execution_count": 34,
   "id": "93bea929",
   "metadata": {},
   "outputs": [
    {
     "data": {
      "text/plain": [
       "(6807, 4)"
      ]
     },
     "execution_count": 34,
     "metadata": {},
     "output_type": "execute_result"
    }
   ],
   "source": [
    "x1.shape"
   ]
  },
  {
   "cell_type": "code",
   "execution_count": 47,
   "id": "efccd5f3",
   "metadata": {},
   "outputs": [
    {
     "name": "stdout",
     "output_type": "stream",
     "text": [
      "<class 'pandas.core.frame.DataFrame'>\n",
      "Int64Index: 2941 entries, 7 to 6806\n",
      "Data columns (total 2 columns):\n",
      " #   Column          Non-Null Count  Dtype  \n",
      "---  ------          --------------  -----  \n",
      " 0   TUITIONFEE_IN   0 non-null      float64\n",
      " 1   TUITIONFEE_OUT  0 non-null      float64\n",
      "dtypes: float64(2)\n",
      "memory usage: 68.9 KB\n"
     ]
    }
   ],
   "source": [
    "in_null = x1[x1.TUITIONFEE_IN.isnull()]\n",
    "in_null.info()"
   ]
  },
  {
   "cell_type": "code",
   "execution_count": 48,
   "id": "5ebcd625",
   "metadata": {},
   "outputs": [
    {
     "name": "stdout",
     "output_type": "stream",
     "text": [
      "<class 'pandas.core.frame.DataFrame'>\n",
      "Int64Index: 3185 entries, 7 to 6806\n",
      "Data columns (total 2 columns):\n",
      " #   Column          Non-Null Count  Dtype  \n",
      "---  ------          --------------  -----  \n",
      " 0   TUITIONFEE_IN   244 non-null    float64\n",
      " 1   TUITIONFEE_OUT  0 non-null      float64\n",
      "dtypes: float64(2)\n",
      "memory usage: 74.6 KB\n"
     ]
    }
   ],
   "source": [
    "out_null = x1[x1.TUITIONFEE_OUT.isnull()]\n",
    "out_null.info()"
   ]
  },
  {
   "cell_type": "code",
   "execution_count": 49,
   "id": "732c6d62",
   "metadata": {},
   "outputs": [
    {
     "data": {
      "text/plain": [
       "TUITIONFEE_PROG    4446\n",
       "TUITFTE             503\n",
       "dtype: int64"
      ]
     },
     "execution_count": 49,
     "metadata": {},
     "output_type": "execute_result"
    }
   ],
   "source": [
    "x2.isnull().sum()"
   ]
  },
  {
   "cell_type": "code",
   "execution_count": 50,
   "id": "9ada3673",
   "metadata": {},
   "outputs": [
    {
     "data": {
      "text/plain": [
       "COSTT4_A    3376\n",
       "COSTT4_P    4631\n",
       "dtype: int64"
      ]
     },
     "execution_count": 50,
     "metadata": {},
     "output_type": "execute_result"
    }
   ],
   "source": [
    "x3 = x[['COSTT4_A','COSTT4_P']]\n",
    "x3.isnull().sum()"
   ]
  },
  {
   "cell_type": "code",
   "execution_count": 51,
   "id": "389537f2",
   "metadata": {},
   "outputs": [
    {
     "data": {
      "text/plain": [
       "MDCOMP_PD     6807\n",
       "MDCOST_PD     6807\n",
       "MDEARN_PD     6807\n",
       "MDCOMP_ALL    6807\n",
       "MDCOST_ALL    6807\n",
       "MDEARN_ALL    6807\n",
       "dtype: int64"
      ]
     },
     "execution_count": 51,
     "metadata": {},
     "output_type": "execute_result"
    }
   ],
   "source": [
    "x4 = x[['MDCOMP_PD','MDCOST_PD','MDEARN_PD','MDCOMP_ALL','MDCOST_ALL','MDEARN_ALL']]\n",
    "x4.isnull().sum()"
   ]
  },
  {
   "cell_type": "code",
   "execution_count": 52,
   "id": "1f46d611",
   "metadata": {},
   "outputs": [
    {
     "data": {
      "text/plain": [
       "BOOKSUPPLY          3328\n",
       "ROOMBOARD_ON        4806\n",
       "OTHEREXPENSE_ON     4804\n",
       "ROOMBOARD_OFF       3331\n",
       "OTHEREXPENSE_OFF    3331\n",
       "OTHEREXPENSE_FAM    3326\n",
       "dtype: int64"
      ]
     },
     "execution_count": 52,
     "metadata": {},
     "output_type": "execute_result"
    }
   ],
   "source": [
    "x5 = x[['BOOKSUPPLY','ROOMBOARD_ON','OTHEREXPENSE_ON','ROOMBOARD_OFF','OTHEREXPENSE_OFF','OTHEREXPENSE_FAM']]\n",
    "x5.isnull().sum()"
   ]
  },
  {
   "cell_type": "code",
   "execution_count": 62,
   "id": "87e8ccf8",
   "metadata": {},
   "outputs": [
    {
     "data": {
      "text/plain": [
       "ROOMBOARD_ON     4806\n",
       "ROOMBOARD_OFF    3331\n",
       "dtype: int64"
      ]
     },
     "execution_count": 62,
     "metadata": {},
     "output_type": "execute_result"
    }
   ],
   "source": [
    "x6 = x[['ROOMBOARD_ON','ROOMBOARD_OFF']]\n",
    "x6.isnull().sum()"
   ]
  },
  {
   "cell_type": "code",
   "execution_count": 63,
   "id": "a052aef5",
   "metadata": {},
   "outputs": [
    {
     "data": {
      "text/plain": [
       "(3254, 2)"
      ]
     },
     "execution_count": 63,
     "metadata": {},
     "output_type": "execute_result"
    }
   ],
   "source": [
    "a = x6[(x6.ROOMBOARD_ON.isnull()) & (x6.ROOMBOARD_OFF.isnull())]\n",
    "a.shape"
   ]
  },
  {
   "cell_type": "code",
   "execution_count": 64,
   "id": "1982de86",
   "metadata": {},
   "outputs": [
    {
     "data": {
      "text/plain": [
       "OTHEREXPENSE_ON     4804\n",
       "OTHEREXPENSE_OFF    3331\n",
       "dtype: int64"
      ]
     },
     "execution_count": 64,
     "metadata": {},
     "output_type": "execute_result"
    }
   ],
   "source": [
    "x7 = x[['OTHEREXPENSE_ON','OTHEREXPENSE_OFF']]\n",
    "x7.isnull().sum()"
   ]
  },
  {
   "cell_type": "code",
   "execution_count": 66,
   "id": "7fe68c29",
   "metadata": {},
   "outputs": [
    {
     "data": {
      "text/plain": [
       "(3253, 2)"
      ]
     },
     "execution_count": 66,
     "metadata": {},
     "output_type": "execute_result"
    }
   ],
   "source": [
    "b = x7[(x7.OTHEREXPENSE_ON.isnull()) & (x7.OTHEREXPENSE_OFF.isnull())]\n",
    "b.shape"
   ]
  },
  {
   "cell_type": "code",
   "execution_count": 69,
   "id": "5644b768",
   "metadata": {},
   "outputs": [
    {
     "data": {
      "text/plain": [
       "OTHEREXPENSE_FAM    3326\n",
       "dtype: int64"
      ]
     },
     "execution_count": 69,
     "metadata": {},
     "output_type": "execute_result"
    }
   ],
   "source": [
    "x8 = x[['OTHEREXPENSE_FAM']]\n",
    "x8.isnull().sum()"
   ]
  },
  {
   "cell_type": "code",
   "execution_count": 70,
   "id": "f1e22aa8",
   "metadata": {},
   "outputs": [
    {
     "data": {
      "text/plain": [
       "NUM41_PUB      4929\n",
       "NUM41_PRIV     3079\n",
       "NUM41_PROG     6807\n",
       "NUM41_OTHER    6807\n",
       "dtype: int64"
      ]
     },
     "execution_count": 70,
     "metadata": {},
     "output_type": "execute_result"
    }
   ],
   "source": [
    "x9 = x[['NUM41_PUB','NUM41_PRIV','NUM41_PROG','NUM41_OTHER']]\n",
    "x9.isnull().sum()"
   ]
  },
  {
   "cell_type": "code",
   "execution_count": 71,
   "id": "8ad9b25c",
   "metadata": {},
   "outputs": [
    {
     "data": {
      "text/plain": [
       "(1201, 4)"
      ]
     },
     "execution_count": 71,
     "metadata": {},
     "output_type": "execute_result"
    }
   ],
   "source": [
    "c = x9[(x9.NUM41_PUB.isnull()) & (x9.NUM41_PRIV.isnull()) & (x9.NUM41_PROG.isnull()) & (x9.NUM41_OTHER.isnull())]\n",
    "c.shape"
   ]
  },
  {
   "cell_type": "code",
   "execution_count": 75,
   "id": "f5731913",
   "metadata": {},
   "outputs": [
    {
     "data": {
      "text/plain": [
       "NUM42_PUB      4929\n",
       "NUM42_PRIV     3079\n",
       "NUM42_PROG     6807\n",
       "NUM42_OTHER    6807\n",
       "dtype: int64"
      ]
     },
     "execution_count": 75,
     "metadata": {},
     "output_type": "execute_result"
    }
   ],
   "source": [
    "x10 = x[['NUM42_PUB','NUM42_PRIV','NUM42_PROG','NUM42_OTHER']]\n",
    "x10.isnull().sum()"
   ]
  },
  {
   "cell_type": "code",
   "execution_count": 76,
   "id": "026f9370",
   "metadata": {},
   "outputs": [
    {
     "data": {
      "text/plain": [
       "(1201, 4)"
      ]
     },
     "execution_count": 76,
     "metadata": {},
     "output_type": "execute_result"
    }
   ],
   "source": [
    "d = x10[(x10.NUM42_PUB.isnull()) & (x10.NUM42_PRIV.isnull()) & (x10.NUM42_PROG.isnull()) & (x10.NUM42_OTHER.isnull())]\n",
    "d.shape"
   ]
  },
  {
   "cell_type": "code",
   "execution_count": 78,
   "id": "a56f09dc",
   "metadata": {},
   "outputs": [
    {
     "data": {
      "text/plain": [
       "NUM43_PUB      4929\n",
       "NUM43_PRIV     3079\n",
       "NUM43_PROG     6807\n",
       "NUM43_OTHER    6807\n",
       "dtype: int64"
      ]
     },
     "execution_count": 78,
     "metadata": {},
     "output_type": "execute_result"
    }
   ],
   "source": [
    "x11 = x[['NUM43_PUB','NUM43_PRIV','NUM43_PROG','NUM43_OTHER']]\n",
    "x11.isnull().sum()"
   ]
  },
  {
   "cell_type": "code",
   "execution_count": 79,
   "id": "e17b46bd",
   "metadata": {},
   "outputs": [
    {
     "data": {
      "text/plain": [
       "(1201, 4)"
      ]
     },
     "execution_count": 79,
     "metadata": {},
     "output_type": "execute_result"
    }
   ],
   "source": [
    "e = x11[(x11.NUM43_PUB.isnull()) & (x11.NUM43_PRIV.isnull()) & (x11.NUM43_PROG.isnull()) & (x11.NUM43_OTHER.isnull())]\n",
    "e.shape"
   ]
  },
  {
   "cell_type": "code",
   "execution_count": 80,
   "id": "7abc2959",
   "metadata": {},
   "outputs": [
    {
     "data": {
      "text/plain": [
       "NUM44_PUB      4929\n",
       "NUM44_PRIV     3079\n",
       "NUM44_PROG     6807\n",
       "NUM44_OTHER    6807\n",
       "dtype: int64"
      ]
     },
     "execution_count": 80,
     "metadata": {},
     "output_type": "execute_result"
    }
   ],
   "source": [
    "x12 = x[['NUM44_PUB','NUM44_PRIV','NUM44_PROG','NUM44_OTHER']]\n",
    "x12.isnull().sum()"
   ]
  },
  {
   "cell_type": "code",
   "execution_count": 81,
   "id": "73ce358f",
   "metadata": {},
   "outputs": [
    {
     "data": {
      "text/plain": [
       "(1201, 4)"
      ]
     },
     "execution_count": 81,
     "metadata": {},
     "output_type": "execute_result"
    }
   ],
   "source": [
    "f = x12[(x12.NUM44_PUB.isnull()) & (x12.NUM44_PRIV.isnull()) & (x12.NUM44_PROG.isnull()) & (x12.NUM44_OTHER.isnull())]\n",
    "f.shape"
   ]
  },
  {
   "cell_type": "code",
   "execution_count": 82,
   "id": "0b9076ca",
   "metadata": {},
   "outputs": [
    {
     "data": {
      "text/plain": [
       "NUM45_PUB      4929\n",
       "NUM45_PRIV     3079\n",
       "NUM45_PROG     6807\n",
       "NUM45_OTHER    6807\n",
       "dtype: int64"
      ]
     },
     "execution_count": 82,
     "metadata": {},
     "output_type": "execute_result"
    }
   ],
   "source": [
    "x13 = x[['NUM45_PUB','NUM45_PRIV','NUM45_PROG','NUM45_OTHER']]\n",
    "x13.isnull().sum()"
   ]
  },
  {
   "cell_type": "code",
   "execution_count": 83,
   "id": "3817c4fa",
   "metadata": {},
   "outputs": [
    {
     "data": {
      "text/plain": [
       "(1201, 4)"
      ]
     },
     "execution_count": 83,
     "metadata": {},
     "output_type": "execute_result"
    }
   ],
   "source": [
    "g = x13[(x13.NUM45_PUB.isnull()) & (x13.NUM45_PRIV.isnull()) & (x13.NUM45_PROG.isnull()) & (x13.NUM45_OTHER.isnull())]\n",
    "g.shape"
   ]
  },
  {
   "cell_type": "code",
   "execution_count": null,
   "id": "a47a28aa",
   "metadata": {},
   "outputs": [],
   "source": []
  },
  {
   "cell_type": "code",
   "execution_count": null,
   "id": "3ef12cdd",
   "metadata": {},
   "outputs": [],
   "source": []
  },
  {
   "cell_type": "code",
   "execution_count": null,
   "id": "9cade0c5",
   "metadata": {},
   "outputs": [],
   "source": []
  },
  {
   "cell_type": "code",
   "execution_count": null,
   "id": "6c5521c7",
   "metadata": {},
   "outputs": [],
   "source": []
  },
  {
   "cell_type": "code",
   "execution_count": null,
   "id": "f0404aa8",
   "metadata": {},
   "outputs": [],
   "source": []
  },
  {
   "cell_type": "code",
   "execution_count": null,
   "id": "8cb29fdd",
   "metadata": {},
   "outputs": [],
   "source": []
  },
  {
   "cell_type": "code",
   "execution_count": null,
   "id": "9aca4abf",
   "metadata": {},
   "outputs": [],
   "source": []
  },
  {
   "cell_type": "code",
   "execution_count": null,
   "id": "66661eab",
   "metadata": {},
   "outputs": [],
   "source": []
  },
  {
   "cell_type": "code",
   "execution_count": null,
   "id": "ae458de5",
   "metadata": {},
   "outputs": [],
   "source": []
  }
 ],
 "metadata": {
  "kernelspec": {
   "display_name": "Python 3 (ipykernel)",
   "language": "python",
   "name": "python3"
  },
  "language_info": {
   "codemirror_mode": {
    "name": "ipython",
    "version": 3
   },
   "file_extension": ".py",
   "mimetype": "text/x-python",
   "name": "python",
   "nbconvert_exporter": "python",
   "pygments_lexer": "ipython3",
   "version": "3.9.12"
  }
 },
 "nbformat": 4,
 "nbformat_minor": 5
}

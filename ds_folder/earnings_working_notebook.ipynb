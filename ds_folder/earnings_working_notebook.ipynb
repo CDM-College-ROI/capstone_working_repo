{
 "cells": [
  {
   "cell_type": "markdown",
   "metadata": {},
   "source": [
    "# IPUMS Dataset\n",
    "#### Preparing annual earnings per major for merging with primary dataset"
   ]
  },
  {
   "cell_type": "markdown",
   "metadata": {},
   "source": []
  },
  {
   "cell_type": "code",
   "execution_count": 1,
   "metadata": {},
   "outputs": [],
   "source": [
    "import pandas as pd\n",
    "import numpy as np\n",
    "\n",
    "import csv\n",
    "import ds_earnings_acquire_prep\n"
   ]
  },
  {
   "cell_type": "code",
   "execution_count": 2,
   "metadata": {},
   "outputs": [
    {
     "name": "stdout",
     "output_type": "stream",
     "text": [
      "dataframe shape: (6947306, 39)\n"
     ]
    }
   ],
   "source": [
    "ipums_earnings = ds_earnings_acquire_prep.get_earnings_df()"
   ]
  },
  {
   "cell_type": "code",
   "execution_count": 3,
   "metadata": {},
   "outputs": [
    {
     "data": {
      "text/plain": [
       "(6947306, 39)"
      ]
     },
     "execution_count": 3,
     "metadata": {},
     "output_type": "execute_result"
    }
   ],
   "source": [
    "ipums_earnings.shape"
   ]
  },
  {
   "cell_type": "code",
   "execution_count": 4,
   "metadata": {},
   "outputs": [
    {
     "data": {
      "text/html": [
       "<div>\n",
       "<style scoped>\n",
       "    .dataframe tbody tr th:only-of-type {\n",
       "        vertical-align: middle;\n",
       "    }\n",
       "\n",
       "    .dataframe tbody tr th {\n",
       "        vertical-align: top;\n",
       "    }\n",
       "\n",
       "    .dataframe thead th {\n",
       "        text-align: right;\n",
       "    }\n",
       "</style>\n",
       "<table border=\"1\" class=\"dataframe\">\n",
       "  <thead>\n",
       "    <tr style=\"text-align: right;\">\n",
       "      <th></th>\n",
       "      <th>YEAR</th>\n",
       "      <th>SAMPLE</th>\n",
       "      <th>SERIAL</th>\n",
       "      <th>CBSERIAL</th>\n",
       "      <th>HHWT</th>\n",
       "      <th>CLUSTER</th>\n",
       "      <th>REGION</th>\n",
       "      <th>STATEICP</th>\n",
       "      <th>STATEFIP</th>\n",
       "      <th>COUNTYICP</th>\n",
       "      <th>...</th>\n",
       "      <th>SCHLTYPE</th>\n",
       "      <th>DEGFIELD</th>\n",
       "      <th>DEGFIELDD</th>\n",
       "      <th>EMPSTAT</th>\n",
       "      <th>EMPSTATD</th>\n",
       "      <th>OCC</th>\n",
       "      <th>IND</th>\n",
       "      <th>INCTOT</th>\n",
       "      <th>INCWAGE</th>\n",
       "      <th>INCEARN</th>\n",
       "    </tr>\n",
       "  </thead>\n",
       "  <tbody>\n",
       "    <tr>\n",
       "      <th>0</th>\n",
       "      <td>2015</td>\n",
       "      <td>201501</td>\n",
       "      <td>4</td>\n",
       "      <td>463</td>\n",
       "      <td>36.0</td>\n",
       "      <td>2015000000041</td>\n",
       "      <td>32</td>\n",
       "      <td>41</td>\n",
       "      <td>1</td>\n",
       "      <td>970</td>\n",
       "      <td>...</td>\n",
       "      <td>3</td>\n",
       "      <td>0</td>\n",
       "      <td>0</td>\n",
       "      <td>3</td>\n",
       "      <td>30</td>\n",
       "      <td>0</td>\n",
       "      <td>0</td>\n",
       "      <td>0</td>\n",
       "      <td>0</td>\n",
       "      <td>0</td>\n",
       "    </tr>\n",
       "    <tr>\n",
       "      <th>1</th>\n",
       "      <td>2015</td>\n",
       "      <td>201501</td>\n",
       "      <td>6</td>\n",
       "      <td>518</td>\n",
       "      <td>175.0</td>\n",
       "      <td>2015000000061</td>\n",
       "      <td>32</td>\n",
       "      <td>41</td>\n",
       "      <td>1</td>\n",
       "      <td>0</td>\n",
       "      <td>...</td>\n",
       "      <td>1</td>\n",
       "      <td>0</td>\n",
       "      <td>0</td>\n",
       "      <td>1</td>\n",
       "      <td>10</td>\n",
       "      <td>5620</td>\n",
       "      <td>4580</td>\n",
       "      <td>29400</td>\n",
       "      <td>27000</td>\n",
       "      <td>29400</td>\n",
       "    </tr>\n",
       "    <tr>\n",
       "      <th>2</th>\n",
       "      <td>2015</td>\n",
       "      <td>201501</td>\n",
       "      <td>6</td>\n",
       "      <td>518</td>\n",
       "      <td>175.0</td>\n",
       "      <td>2015000000061</td>\n",
       "      <td>32</td>\n",
       "      <td>41</td>\n",
       "      <td>1</td>\n",
       "      <td>0</td>\n",
       "      <td>...</td>\n",
       "      <td>1</td>\n",
       "      <td>0</td>\n",
       "      <td>0</td>\n",
       "      <td>3</td>\n",
       "      <td>30</td>\n",
       "      <td>0</td>\n",
       "      <td>0</td>\n",
       "      <td>0</td>\n",
       "      <td>0</td>\n",
       "      <td>0</td>\n",
       "    </tr>\n",
       "    <tr>\n",
       "      <th>3</th>\n",
       "      <td>2015</td>\n",
       "      <td>201501</td>\n",
       "      <td>6</td>\n",
       "      <td>518</td>\n",
       "      <td>175.0</td>\n",
       "      <td>2015000000061</td>\n",
       "      <td>32</td>\n",
       "      <td>41</td>\n",
       "      <td>1</td>\n",
       "      <td>0</td>\n",
       "      <td>...</td>\n",
       "      <td>1</td>\n",
       "      <td>0</td>\n",
       "      <td>0</td>\n",
       "      <td>1</td>\n",
       "      <td>10</td>\n",
       "      <td>5620</td>\n",
       "      <td>4270</td>\n",
       "      <td>4400</td>\n",
       "      <td>4400</td>\n",
       "      <td>4400</td>\n",
       "    </tr>\n",
       "    <tr>\n",
       "      <th>4</th>\n",
       "      <td>2015</td>\n",
       "      <td>201501</td>\n",
       "      <td>9</td>\n",
       "      <td>717</td>\n",
       "      <td>119.0</td>\n",
       "      <td>2015000000091</td>\n",
       "      <td>32</td>\n",
       "      <td>41</td>\n",
       "      <td>1</td>\n",
       "      <td>810</td>\n",
       "      <td>...</td>\n",
       "      <td>1</td>\n",
       "      <td>62</td>\n",
       "      <td>6203</td>\n",
       "      <td>1</td>\n",
       "      <td>10</td>\n",
       "      <td>430</td>\n",
       "      <td>7970</td>\n",
       "      <td>89500</td>\n",
       "      <td>89000</td>\n",
       "      <td>89000</td>\n",
       "    </tr>\n",
       "  </tbody>\n",
       "</table>\n",
       "<p>5 rows × 39 columns</p>\n",
       "</div>"
      ],
      "text/plain": [
       "   YEAR  SAMPLE  SERIAL  CBSERIAL   HHWT        CLUSTER  REGION  STATEICP  \\\n",
       "0  2015  201501       4       463   36.0  2015000000041      32        41   \n",
       "1  2015  201501       6       518  175.0  2015000000061      32        41   \n",
       "2  2015  201501       6       518  175.0  2015000000061      32        41   \n",
       "3  2015  201501       6       518  175.0  2015000000061      32        41   \n",
       "4  2015  201501       9       717  119.0  2015000000091      32        41   \n",
       "\n",
       "   STATEFIP  COUNTYICP  ...  SCHLTYPE  DEGFIELD  DEGFIELDD  EMPSTAT  EMPSTATD  \\\n",
       "0         1        970  ...         3         0          0        3        30   \n",
       "1         1          0  ...         1         0          0        1        10   \n",
       "2         1          0  ...         1         0          0        3        30   \n",
       "3         1          0  ...         1         0          0        1        10   \n",
       "4         1        810  ...         1        62       6203        1        10   \n",
       "\n",
       "    OCC   IND  INCTOT  INCWAGE  INCEARN  \n",
       "0     0     0       0        0        0  \n",
       "1  5620  4580   29400    27000    29400  \n",
       "2     0     0       0        0        0  \n",
       "3  5620  4270    4400     4400     4400  \n",
       "4   430  7970   89500    89000    89000  \n",
       "\n",
       "[5 rows x 39 columns]"
      ]
     },
     "execution_count": 4,
     "metadata": {},
     "output_type": "execute_result"
    }
   ],
   "source": [
    "ipums_earnings.head()"
   ]
  },
  {
   "cell_type": "code",
   "execution_count": 5,
   "metadata": {},
   "outputs": [
    {
     "name": "stdout",
     "output_type": "stream",
     "text": [
      "<class 'pandas.core.frame.DataFrame'>\n",
      "RangeIndex: 6947306 entries, 0 to 6947305\n",
      "Data columns (total 39 columns):\n",
      " #   Column     Dtype  \n",
      "---  ------     -----  \n",
      " 0   YEAR       int64  \n",
      " 1   SAMPLE     int64  \n",
      " 2   SERIAL     int64  \n",
      " 3   CBSERIAL   int64  \n",
      " 4   HHWT       float64\n",
      " 5   CLUSTER    int64  \n",
      " 6   REGION     int64  \n",
      " 7   STATEICP   int64  \n",
      " 8   STATEFIP   int64  \n",
      " 9   COUNTYICP  int64  \n",
      " 10  COUNTYFIP  int64  \n",
      " 11  METRO      int64  \n",
      " 12  CITY       int64  \n",
      " 13  STRATA     int64  \n",
      " 14  GQ         int64  \n",
      " 15  PERNUM     int64  \n",
      " 16  PERWT      float64\n",
      " 17  SEX        int64  \n",
      " 18  AGE        int64  \n",
      " 19  RACE       int64  \n",
      " 20  RACED      int64  \n",
      " 21  HISPAN     int64  \n",
      " 22  HISPAND    int64  \n",
      " 23  LANGUAGE   int64  \n",
      " 24  LANGUAGED  int64  \n",
      " 25  SPEAKENG   int64  \n",
      " 26  RACHSING   int64  \n",
      " 27  EDUC       int64  \n",
      " 28  EDUCD      int64  \n",
      " 29  SCHLTYPE   int64  \n",
      " 30  DEGFIELD   int64  \n",
      " 31  DEGFIELDD  int64  \n",
      " 32  EMPSTAT    int64  \n",
      " 33  EMPSTATD   int64  \n",
      " 34  OCC        int64  \n",
      " 35  IND        int64  \n",
      " 36  INCTOT     int64  \n",
      " 37  INCWAGE    int64  \n",
      " 38  INCEARN    int64  \n",
      "dtypes: float64(2), int64(37)\n",
      "memory usage: 2.0 GB\n"
     ]
    }
   ],
   "source": [
    "ipums_earnings.info()"
   ]
  },
  {
   "cell_type": "code",
   "execution_count": 6,
   "metadata": {},
   "outputs": [
    {
     "data": {
      "text/plain": [
       "1    5241853\n",
       "2    1347728\n",
       "3     357725\n",
       "Name: SCHLTYPE, dtype: int64"
      ]
     },
     "execution_count": 6,
     "metadata": {},
     "output_type": "execute_result"
    }
   ],
   "source": [
    "ipums_earnings.SCHLTYPE.value_counts()"
   ]
  },
  {
   "cell_type": "code",
   "execution_count": 7,
   "metadata": {},
   "outputs": [],
   "source": [
    "df_earnings = ipums_earnings[['YEAR','EDUCD','SCHLTYPE','DEGFIELD','INCTOT','INCWAGE','INCEARN','EMPSTAT','STATEFIP','REGION','METRO','SEX','AGE','RACHSING','SPEAKENG','LANGUAGE','DEGFIELDD']]"
   ]
  },
  {
   "cell_type": "code",
   "execution_count": 8,
   "metadata": {},
   "outputs": [
    {
     "name": "stdout",
     "output_type": "stream",
     "text": [
      "<class 'pandas.core.frame.DataFrame'>\n",
      "RangeIndex: 6947306 entries, 0 to 6947305\n",
      "Data columns (total 17 columns):\n",
      " #   Column     Dtype\n",
      "---  ------     -----\n",
      " 0   YEAR       int64\n",
      " 1   EDUCD      int64\n",
      " 2   SCHLTYPE   int64\n",
      " 3   DEGFIELD   int64\n",
      " 4   INCTOT     int64\n",
      " 5   INCWAGE    int64\n",
      " 6   INCEARN    int64\n",
      " 7   EMPSTAT    int64\n",
      " 8   STATEFIP   int64\n",
      " 9   REGION     int64\n",
      " 10  METRO      int64\n",
      " 11  SEX        int64\n",
      " 12  AGE        int64\n",
      " 13  RACHSING   int64\n",
      " 14  SPEAKENG   int64\n",
      " 15  LANGUAGE   int64\n",
      " 16  DEGFIELDD  int64\n",
      "dtypes: int64(17)\n",
      "memory usage: 901.1 MB\n"
     ]
    }
   ],
   "source": [
    "df_earnings.info()"
   ]
  },
  {
   "cell_type": "code",
   "execution_count": 9,
   "metadata": {},
   "outputs": [
    {
     "data": {
      "text/plain": [
       "0     4927893\n",
       "62     401309\n",
       "23     176858\n",
       "24     155427\n",
       "55     151539\n",
       "61     150156\n",
       "36     113721\n",
       "52     111583\n",
       "19      96011\n",
       "60      94575\n",
       "21      80035\n",
       "33      62958\n",
       "50      54086\n",
       "53      44366\n",
       "64      39744\n",
       "41      29599\n",
       "54      27462\n",
       "37      26077\n",
       "34      25535\n",
       "11      22027\n",
       "26      20263\n",
       "40      19414\n",
       "29      16991\n",
       "13      16129\n",
       "14      14441\n",
       "25      14048\n",
       "48      13915\n",
       "49      11086\n",
       "15       7975\n",
       "59       5631\n",
       "56       4504\n",
       "20       3923\n",
       "32       3746\n",
       "22       2194\n",
       "57        692\n",
       "35        623\n",
       "51        619\n",
       "38        151\n",
       "Name: DEGFIELD, dtype: int64"
      ]
     },
     "execution_count": 9,
     "metadata": {},
     "output_type": "execute_result"
    }
   ],
   "source": [
    "df_earnings.DEGFIELD.value_counts()"
   ]
  },
  {
   "cell_type": "code",
   "execution_count": 10,
   "metadata": {},
   "outputs": [
    {
     "data": {
      "text/plain": [
       "6     885266\n",
       "48    604861\n",
       "36    439287\n",
       "12    398788\n",
       "17    277637\n",
       "42    268567\n",
       "39    250750\n",
       "13    223548\n",
       "37    218260\n",
       "26    204491\n",
       "34    190945\n",
       "51    188797\n",
       "53    165036\n",
       "25    159122\n",
       "4     147757\n",
       "18    144491\n",
       "47    143215\n",
       "29    130973\n",
       "24    130687\n",
       "8     126902\n",
       "55    118598\n",
       "27    112429\n",
       "45    103661\n",
       "1      99752\n",
       "21     96601\n",
       "22     93493\n",
       "41     89617\n",
       "40     81915\n",
       "9      76369\n",
       "49     73813\n",
       "19     66122\n",
       "5      62588\n",
       "32     61827\n",
       "28     61493\n",
       "20     60956\n",
       "31     40188\n",
       "35     39736\n",
       "54     36515\n",
       "16     34318\n",
       "15     30995\n",
       "33     27908\n",
       "23     24824\n",
       "44     22736\n",
       "30     19535\n",
       "11     19096\n",
       "46     18193\n",
       "10     18036\n",
       "38     16175\n",
       "2      15514\n",
       "50     12812\n",
       "56     12111\n",
       "Name: STATEFIP, dtype: int64"
      ]
     },
     "execution_count": 10,
     "metadata": {},
     "output_type": "execute_result"
    }
   ],
   "source": [
    "df_earnings.STATEFIP.value_counts()"
   ]
  },
  {
   "cell_type": "code",
   "execution_count": 11,
   "metadata": {},
   "outputs": [
    {
     "name": "stderr",
     "output_type": "stream",
     "text": [
      "/var/folders/f4/zvhcnx4s015b5glz2c1q5hth0000gn/T/ipykernel_5007/198500171.py:3: SettingWithCopyWarning: \n",
      "A value is trying to be set on a copy of a slice from a DataFrame.\n",
      "Try using .loc[row_indexer,col_indexer] = value instead\n",
      "\n",
      "See the caveats in the documentation: https://pandas.pydata.org/pandas-docs/stable/user_guide/indexing.html#returning-a-view-versus-a-copy\n",
      "  df_earnings['state_post_code'] = df_earnings['STATEFIP'].replace({\n"
     ]
    }
   ],
   "source": [
    "# Creating `state_post_code` col in order to merge with cleaned main df\n",
    "\n",
    "df_earnings['state_post_code'] = df_earnings['STATEFIP'].replace({\n",
    "    1: 'AL',\n",
    "    2: 'AK',\n",
    "    3: 'AZ',\n",
    "    5: 'AR',\n",
    "    6: 'CA',\n",
    "    8: 'CO',\n",
    "    9: 'CT',\n",
    "    10: 'DE',\n",
    "    11: 'DC',\n",
    "    12: 'FL',\n",
    "    13:\t'GA',\n",
    "    15:\t'HI',\n",
    "    16:\t'ID',\n",
    "    17:\t'IL',\n",
    "    18:\t'IN',\n",
    "    19:\t'IA',\n",
    "    20:\t'KS',\n",
    "    21:\t'KY',\n",
    "    22:\t'LA',\n",
    "    23:\t'ME',\n",
    "    24:\t'MD',\n",
    "    25:\t'MA',\n",
    "    26:\t'MI',\n",
    "    27:\t'MN',\n",
    "    28:\t'MS',\n",
    "    29:\t'MO',\n",
    "    30:\t'MT',\n",
    "    31:\t'NE',\n",
    "    32:\t'NV',\n",
    "    33:\t'NH',\n",
    "    34:\t'NJ',\n",
    "    35:\t'NM',\n",
    "    36:\t'NY',\n",
    "    37:\t'NC',\n",
    "    38:\t'ND',\n",
    "    39:\t'OH',\n",
    "    40:\t'OK',\n",
    "    41:\t'OR',\n",
    "    42:\t'PA',\n",
    "    44:\t'RI',\n",
    "    45:\t'SC',\n",
    "    46:\t'SD',\n",
    "    47:\t'TN',\n",
    "    48:\t'TX',\n",
    "    49:\t'UT',\n",
    "    50:\t'VT',\n",
    "    51:\t'VA',\n",
    "    53:\t'WA',\n",
    "    54:\t'WV',\n",
    "    55:\t'WI',\n",
    "    56:\t'WY',\n",
    "    60:\t'AS',\n",
    "    64:\t'FM',\n",
    "    66:\t'GU',\n",
    "    67:\t'JA',\n",
    "    68:\t'MH',\n",
    "    69:\t'MP',\n",
    "    70:\t'PW',\n",
    "    71:\t'MI',\n",
    "    72:\t'PR',\n",
    "    74:\t'UM',\n",
    "    76:\t'NI',\n",
    "    78:\t'VI',\n",
    "    79:\t'WI',\n",
    "    81:\t'BI',\n",
    "    84:\t'HI',\n",
    "    86:\t'JI',\n",
    "    89:\t'KR',\n",
    "    95:\t'PA'\n",
    "})"
   ]
  },
  {
   "cell_type": "code",
   "execution_count": 12,
   "metadata": {},
   "outputs": [
    {
     "name": "stdout",
     "output_type": "stream",
     "text": [
      "<class 'pandas.core.frame.DataFrame'>\n",
      "RangeIndex: 6947306 entries, 0 to 6947305\n",
      "Data columns (total 18 columns):\n",
      " #   Column           Dtype \n",
      "---  ------           ----- \n",
      " 0   YEAR             int64 \n",
      " 1   EDUCD            int64 \n",
      " 2   SCHLTYPE         int64 \n",
      " 3   DEGFIELD         int64 \n",
      " 4   INCTOT           int64 \n",
      " 5   INCWAGE          int64 \n",
      " 6   INCEARN          int64 \n",
      " 7   EMPSTAT          int64 \n",
      " 8   STATEFIP         int64 \n",
      " 9   REGION           int64 \n",
      " 10  METRO            int64 \n",
      " 11  SEX              int64 \n",
      " 12  AGE              int64 \n",
      " 13  RACHSING         int64 \n",
      " 14  SPEAKENG         int64 \n",
      " 15  LANGUAGE         int64 \n",
      " 16  DEGFIELDD        int64 \n",
      " 17  state_post_code  object\n",
      "dtypes: int64(17), object(1)\n",
      "memory usage: 954.1+ MB\n"
     ]
    }
   ],
   "source": [
    "df_earnings.info()"
   ]
  },
  {
   "cell_type": "code",
   "execution_count": 13,
   "metadata": {},
   "outputs": [
    {
     "data": {
      "text/plain": [
       "38"
      ]
     },
     "execution_count": 13,
     "metadata": {},
     "output_type": "execute_result"
    }
   ],
   "source": [
    "df_earnings.DEGFIELD.nunique()"
   ]
  },
  {
   "cell_type": "code",
   "execution_count": 14,
   "metadata": {},
   "outputs": [
    {
     "data": {
      "text/plain": [
       "2018    1399165\n",
       "2017    1397130\n",
       "2019    1388021\n",
       "2015    1384710\n",
       "2016    1378280\n",
       "Name: YEAR, dtype: int64"
      ]
     },
     "execution_count": 14,
     "metadata": {},
     "output_type": "execute_result"
    }
   ],
   "source": [
    "df_earnings.YEAR.value_counts()"
   ]
  },
  {
   "cell_type": "code",
   "execution_count": 15,
   "metadata": {},
   "outputs": [],
   "source": [
    "df_bachelors_earnings = df_earnings.loc[df_earnings['EDUCD'] == 101]"
   ]
  },
  {
   "cell_type": "code",
   "execution_count": 16,
   "metadata": {},
   "outputs": [],
   "source": [
    "df_bachelors_earnings = df_bachelors_earnings.loc[df_bachelors_earnings['YEAR'].isin([2017,2018,2019])]"
   ]
  },
  {
   "cell_type": "code",
   "execution_count": 17,
   "metadata": {},
   "outputs": [
    {
     "data": {
      "text/plain": [
       "2019    277697\n",
       "2018    270140\n",
       "2017    264788\n",
       "Name: YEAR, dtype: int64"
      ]
     },
     "execution_count": 17,
     "metadata": {},
     "output_type": "execute_result"
    }
   ],
   "source": [
    "df_bachelors_earnings.YEAR.value_counts()"
   ]
  },
  {
   "cell_type": "code",
   "execution_count": 18,
   "metadata": {},
   "outputs": [
    {
     "name": "stdout",
     "output_type": "stream",
     "text": [
      "<class 'pandas.core.frame.DataFrame'>\n",
      "Int64Index: 812625 entries, 2762990 to 6947303\n",
      "Data columns (total 18 columns):\n",
      " #   Column           Non-Null Count   Dtype \n",
      "---  ------           --------------   ----- \n",
      " 0   YEAR             812625 non-null  int64 \n",
      " 1   EDUCD            812625 non-null  int64 \n",
      " 2   SCHLTYPE         812625 non-null  int64 \n",
      " 3   DEGFIELD         812625 non-null  int64 \n",
      " 4   INCTOT           812625 non-null  int64 \n",
      " 5   INCWAGE          812625 non-null  int64 \n",
      " 6   INCEARN          812625 non-null  int64 \n",
      " 7   EMPSTAT          812625 non-null  int64 \n",
      " 8   STATEFIP         812625 non-null  int64 \n",
      " 9   REGION           812625 non-null  int64 \n",
      " 10  METRO            812625 non-null  int64 \n",
      " 11  SEX              812625 non-null  int64 \n",
      " 12  AGE              812625 non-null  int64 \n",
      " 13  RACHSING         812625 non-null  int64 \n",
      " 14  SPEAKENG         812625 non-null  int64 \n",
      " 15  LANGUAGE         812625 non-null  int64 \n",
      " 16  DEGFIELDD        812625 non-null  int64 \n",
      " 17  state_post_code  812625 non-null  object\n",
      "dtypes: int64(17), object(1)\n",
      "memory usage: 117.8+ MB\n"
     ]
    }
   ],
   "source": [
    "df_bachelors_earnings.info()"
   ]
  },
  {
   "cell_type": "code",
   "execution_count": 19,
   "metadata": {},
   "outputs": [
    {
     "data": {
      "text/plain": [
       "1    698570\n",
       "3     93586\n",
       "2     20469\n",
       "Name: EMPSTAT, dtype: int64"
      ]
     },
     "execution_count": 19,
     "metadata": {},
     "output_type": "execute_result"
    }
   ],
   "source": [
    "df_bachelors_earnings.EMPSTAT.value_counts()"
   ]
  },
  {
   "cell_type": "code",
   "execution_count": 20,
   "metadata": {},
   "outputs": [
    {
     "data": {
      "text/plain": [
       "101    812625\n",
       "Name: EDUCD, dtype: int64"
      ]
     },
     "execution_count": 20,
     "metadata": {},
     "output_type": "execute_result"
    }
   ],
   "source": [
    "df_bachelors_earnings.EDUCD.value_counts()"
   ]
  },
  {
   "cell_type": "code",
   "execution_count": 21,
   "metadata": {},
   "outputs": [
    {
     "data": {
      "text/plain": [
       "0         105163\n",
       "50000      27334\n",
       "40000      24503\n",
       "60000      24038\n",
       "30000      20148\n",
       "           ...  \n",
       "370000         1\n",
       "373000         1\n",
       "371000         1\n",
       "460000         1\n",
       "336000         1\n",
       "Name: INCWAGE, Length: 1005, dtype: int64"
      ]
     },
     "execution_count": 21,
     "metadata": {},
     "output_type": "execute_result"
    }
   ],
   "source": [
    "df_bachelors_earnings.INCWAGE.value_counts()"
   ]
  },
  {
   "cell_type": "code",
   "execution_count": 22,
   "metadata": {},
   "outputs": [
    {
     "data": {
      "text/plain": [
       "count    812625.000000\n",
       "mean      56657.259245\n",
       "std       66153.855554\n",
       "min           0.000000\n",
       "25%       16000.000000\n",
       "50%       45000.000000\n",
       "75%       75000.000000\n",
       "max      736000.000000\n",
       "Name: INCWAGE, dtype: float64"
      ]
     },
     "execution_count": 22,
     "metadata": {},
     "output_type": "execute_result"
    }
   ],
   "source": [
    "df_bachelors_earnings.INCWAGE.describe()"
   ]
  },
  {
   "cell_type": "code",
   "execution_count": 23,
   "metadata": {},
   "outputs": [
    {
     "data": {
      "text/plain": [
       "62    186939\n",
       "61     62664\n",
       "23     58385\n",
       "24     57873\n",
       "55     55051\n",
       "19     47099\n",
       "60     45448\n",
       "52     38478\n",
       "21     35609\n",
       "36     33479\n",
       "53     22423\n",
       "33     22089\n",
       "50     16716\n",
       "64     13328\n",
       "41     13301\n",
       "34     11172\n",
       "11     10310\n",
       "54      9420\n",
       "37      8450\n",
       "40      7942\n",
       "13      7536\n",
       "29      7512\n",
       "26      6733\n",
       "25      6615\n",
       "14      5495\n",
       "49      4334\n",
       "48      4132\n",
       "15      2802\n",
       "59      2772\n",
       "56      2569\n",
       "20      2231\n",
       "32      1639\n",
       "22      1222\n",
       "57       365\n",
       "51       339\n",
       "35       106\n",
       "38        47\n",
       "Name: DEGFIELD, dtype: int64"
      ]
     },
     "execution_count": 23,
     "metadata": {},
     "output_type": "execute_result"
    }
   ],
   "source": [
    "df_bachelors_earnings.DEGFIELD.value_counts()"
   ]
  },
  {
   "cell_type": "code",
   "execution_count": 24,
   "metadata": {},
   "outputs": [],
   "source": [
    "# Creating `major_category` col in order to merge with cleaned main df\n",
    "\n",
    "df_bachelors_earnings['major_category'] = df_bachelors_earnings['DEGFIELD'].replace({\n",
    "    00: 'N/A',\n",
    "    11: 'Agriculture',\n",
    "    13: 'Environment and Natural Resources',\n",
    "    14: 'Architecture',\n",
    "    15: 'Area, Ethnic, and Civilization Studies',\n",
    "    19: 'Communications',\n",
    "    20:'Communication Technologies',\n",
    "    21:'Computer and Information Sciences',\n",
    "    22:'Cosmetology Services and Culinary Arts',\n",
    "    23:'Education Administration and Teaching',\n",
    "    24:'Engineering',\n",
    "    25:'Engineering Technologies',\n",
    "    26:'Linguistics and Foreign Languages',\n",
    "    29:'Family and Consumer Sciences',\n",
    "    32:'Law',\n",
    "    33:'English Language, Literature, and Composition',\n",
    "    34:'Liberal Arts and Humanities',\n",
    "    35:'Library Science',\n",
    "    36:'Biology and Life Sciences',\n",
    "    37:'Mathematics and Statistics',\n",
    "    38:'Military Technologies',\n",
    "    40:'Interdisciplinary and Multi-Disciplinary Studies (General)',\n",
    "    41:'Physical Fitness, Parks, Recreation, and Leisure',\n",
    "    48:'Philosophy and Religious Studies',\n",
    "    49:'Theology and Religious Vocations',\n",
    "    50:'Physical Sciences',\n",
    "    51:'Nuclear, Industrial Radiology, and Biological Technologies',\n",
    "    52:'Psychology',\n",
    "    53:'Criminal Justice and Fire Protection',\n",
    "    54:'Public Affairs, Policy, and Social Work',\n",
    "    55:'Social Sciences',\n",
    "    56:'Construction Services',\n",
    "    57:'Electrical and Mechanic Repairs and Technologies',\n",
    "    58:'Precision Production and Industrial Arts',\n",
    "    59:'Transportation Sciences and Technologies',\n",
    "    60:'Fine Arts',\n",
    "    61:'Medical and Health Sciences and Services',\n",
    "    62:'Business',\n",
    "    64:'History'\n",
    "})"
   ]
  },
  {
   "cell_type": "code",
   "execution_count": 25,
   "metadata": {},
   "outputs": [
    {
     "name": "stdout",
     "output_type": "stream",
     "text": [
      "<class 'pandas.core.frame.DataFrame'>\n",
      "Int64Index: 812625 entries, 2762990 to 6947303\n",
      "Data columns (total 19 columns):\n",
      " #   Column           Non-Null Count   Dtype \n",
      "---  ------           --------------   ----- \n",
      " 0   YEAR             812625 non-null  int64 \n",
      " 1   EDUCD            812625 non-null  int64 \n",
      " 2   SCHLTYPE         812625 non-null  int64 \n",
      " 3   DEGFIELD         812625 non-null  int64 \n",
      " 4   INCTOT           812625 non-null  int64 \n",
      " 5   INCWAGE          812625 non-null  int64 \n",
      " 6   INCEARN          812625 non-null  int64 \n",
      " 7   EMPSTAT          812625 non-null  int64 \n",
      " 8   STATEFIP         812625 non-null  int64 \n",
      " 9   REGION           812625 non-null  int64 \n",
      " 10  METRO            812625 non-null  int64 \n",
      " 11  SEX              812625 non-null  int64 \n",
      " 12  AGE              812625 non-null  int64 \n",
      " 13  RACHSING         812625 non-null  int64 \n",
      " 14  SPEAKENG         812625 non-null  int64 \n",
      " 15  LANGUAGE         812625 non-null  int64 \n",
      " 16  DEGFIELDD        812625 non-null  int64 \n",
      " 17  state_post_code  812625 non-null  object\n",
      " 18  major_category   812625 non-null  object\n",
      "dtypes: int64(17), object(2)\n",
      "memory usage: 124.0+ MB\n"
     ]
    }
   ],
   "source": [
    "df_bachelors_earnings.info()"
   ]
  },
  {
   "cell_type": "code",
   "execution_count": 26,
   "metadata": {},
   "outputs": [
    {
     "data": {
      "text/plain": [
       "Business                                                      186939\n",
       "Medical and Health Sciences and Services                       62664\n",
       "Education Administration and Teaching                          58385\n",
       "Engineering                                                    57873\n",
       "Social Sciences                                                55051\n",
       "Communications                                                 47099\n",
       "Fine Arts                                                      45448\n",
       "Psychology                                                     38478\n",
       "Computer and Information Sciences                              35609\n",
       "Biology and Life Sciences                                      33479\n",
       "Criminal Justice and Fire Protection                           22423\n",
       "English Language, Literature, and Composition                  22089\n",
       "Physical Sciences                                              16716\n",
       "History                                                        13328\n",
       "Physical Fitness, Parks, Recreation, and Leisure               13301\n",
       "Liberal Arts and Humanities                                    11172\n",
       "Agriculture                                                    10310\n",
       "Public Affairs, Policy, and Social Work                         9420\n",
       "Mathematics and Statistics                                      8450\n",
       "Interdisciplinary and Multi-Disciplinary Studies (General)      7942\n",
       "Environment and Natural Resources                               7536\n",
       "Family and Consumer Sciences                                    7512\n",
       "Linguistics and Foreign Languages                               6733\n",
       "Engineering Technologies                                        6615\n",
       "Architecture                                                    5495\n",
       "Theology and Religious Vocations                                4334\n",
       "Philosophy and Religious Studies                                4132\n",
       "Area, Ethnic, and Civilization Studies                          2802\n",
       "Transportation Sciences and Technologies                        2772\n",
       "Construction Services                                           2569\n",
       "Communication Technologies                                      2231\n",
       "Law                                                             1639\n",
       "Cosmetology Services and Culinary Arts                          1222\n",
       "Electrical and Mechanic Repairs and Technologies                 365\n",
       "Nuclear, Industrial Radiology, and Biological Technologies       339\n",
       "Library Science                                                  106\n",
       "Military Technologies                                             47\n",
       "Name: major_category, dtype: int64"
      ]
     },
     "execution_count": 26,
     "metadata": {},
     "output_type": "execute_result"
    }
   ],
   "source": [
    "df_bachelors_earnings.major_category.value_counts()"
   ]
  },
  {
   "cell_type": "code",
   "execution_count": 27,
   "metadata": {},
   "outputs": [
    {
     "name": "stdout",
     "output_type": "stream",
     "text": [
      "<class 'pandas.core.frame.DataFrame'>\n",
      "Int64Index: 812625 entries, 2762990 to 6947303\n",
      "Data columns (total 19 columns):\n",
      " #   Column           Non-Null Count   Dtype \n",
      "---  ------           --------------   ----- \n",
      " 0   YEAR             812625 non-null  int64 \n",
      " 1   EDUCD            812625 non-null  int64 \n",
      " 2   SCHLTYPE         812625 non-null  int64 \n",
      " 3   DEGFIELD         812625 non-null  int64 \n",
      " 4   INCTOT           812625 non-null  int64 \n",
      " 5   INCWAGE          812625 non-null  int64 \n",
      " 6   INCEARN          812625 non-null  int64 \n",
      " 7   EMPSTAT          812625 non-null  int64 \n",
      " 8   STATEFIP         812625 non-null  int64 \n",
      " 9   REGION           812625 non-null  int64 \n",
      " 10  METRO            812625 non-null  int64 \n",
      " 11  SEX              812625 non-null  int64 \n",
      " 12  AGE              812625 non-null  int64 \n",
      " 13  RACHSING         812625 non-null  int64 \n",
      " 14  SPEAKENG         812625 non-null  int64 \n",
      " 15  LANGUAGE         812625 non-null  int64 \n",
      " 16  DEGFIELDD        812625 non-null  int64 \n",
      " 17  state_post_code  812625 non-null  object\n",
      " 18  major_category   812625 non-null  object\n",
      "dtypes: int64(17), object(2)\n",
      "memory usage: 124.0+ MB\n"
     ]
    }
   ],
   "source": [
    "df_bachelors_earnings.info()"
   ]
  },
  {
   "cell_type": "code",
   "execution_count": 28,
   "metadata": {},
   "outputs": [
    {
     "data": {
      "text/plain": [
       "0         59610\n",
       "50000     24989\n",
       "40000     22570\n",
       "60000     21464\n",
       "30000     18867\n",
       "          ...  \n",
       "258800        1\n",
       "246500        1\n",
       "118270        1\n",
       "72380         1\n",
       "64910         1\n",
       "Name: INCTOT, Length: 12368, dtype: int64"
      ]
     },
     "execution_count": 28,
     "metadata": {},
     "output_type": "execute_result"
    }
   ],
   "source": [
    "df_bachelors_earnings.INCTOT.value_counts()"
   ]
  },
  {
   "cell_type": "code",
   "execution_count": 29,
   "metadata": {},
   "outputs": [
    {
     "data": {
      "text/plain": [
       "0         78615\n",
       "50000     27663\n",
       "40000     24848\n",
       "60000     24114\n",
       "30000     20638\n",
       "          ...  \n",
       "173900        1\n",
       "154800        1\n",
       "107900        1\n",
       "215790        1\n",
       "45620         1\n",
       "Name: INCEARN, Length: 3876, dtype: int64"
      ]
     },
     "execution_count": 29,
     "metadata": {},
     "output_type": "execute_result"
    }
   ],
   "source": [
    "df_bachelors_earnings.INCEARN.value_counts()"
   ]
  },
  {
   "cell_type": "code",
   "execution_count": 30,
   "metadata": {},
   "outputs": [
    {
     "data": {
      "text/plain": [
       "0         105163\n",
       "50000      27334\n",
       "40000      24503\n",
       "60000      24038\n",
       "30000      20148\n",
       "           ...  \n",
       "370000         1\n",
       "373000         1\n",
       "371000         1\n",
       "460000         1\n",
       "336000         1\n",
       "Name: INCWAGE, Length: 1005, dtype: int64"
      ]
     },
     "execution_count": 30,
     "metadata": {},
     "output_type": "execute_result"
    }
   ],
   "source": [
    "df_bachelors_earnings.INCWAGE.value_counts()"
   ]
  },
  {
   "cell_type": "code",
   "execution_count": 31,
   "metadata": {},
   "outputs": [
    {
     "data": {
      "text/plain": [
       "50000     27334\n",
       "40000     24503\n",
       "60000     24038\n",
       "30000     20148\n",
       "100000    17582\n",
       "          ...  \n",
       "373000        1\n",
       "299000        1\n",
       "370000        1\n",
       "339000        1\n",
       "336000        1\n",
       "Name: INCWAGE, Length: 1004, dtype: int64"
      ]
     },
     "execution_count": 31,
     "metadata": {},
     "output_type": "execute_result"
    }
   ],
   "source": [
    "df_bachelors_earnings = df_bachelors_earnings.loc[df_bachelors_earnings['INCWAGE'] != 0]\n",
    "df_bachelors_earnings.INCWAGE.value_counts()"
   ]
  },
  {
   "cell_type": "code",
   "execution_count": 32,
   "metadata": {},
   "outputs": [
    {
     "name": "stdout",
     "output_type": "stream",
     "text": [
      "<class 'pandas.core.frame.DataFrame'>\n",
      "Int64Index: 707462 entries, 2762990 to 6947303\n",
      "Data columns (total 19 columns):\n",
      " #   Column           Non-Null Count   Dtype \n",
      "---  ------           --------------   ----- \n",
      " 0   YEAR             707462 non-null  int64 \n",
      " 1   EDUCD            707462 non-null  int64 \n",
      " 2   SCHLTYPE         707462 non-null  int64 \n",
      " 3   DEGFIELD         707462 non-null  int64 \n",
      " 4   INCTOT           707462 non-null  int64 \n",
      " 5   INCWAGE          707462 non-null  int64 \n",
      " 6   INCEARN          707462 non-null  int64 \n",
      " 7   EMPSTAT          707462 non-null  int64 \n",
      " 8   STATEFIP         707462 non-null  int64 \n",
      " 9   REGION           707462 non-null  int64 \n",
      " 10  METRO            707462 non-null  int64 \n",
      " 11  SEX              707462 non-null  int64 \n",
      " 12  AGE              707462 non-null  int64 \n",
      " 13  RACHSING         707462 non-null  int64 \n",
      " 14  SPEAKENG         707462 non-null  int64 \n",
      " 15  LANGUAGE         707462 non-null  int64 \n",
      " 16  DEGFIELDD        707462 non-null  int64 \n",
      " 17  state_post_code  707462 non-null  object\n",
      " 18  major_category   707462 non-null  object\n",
      "dtypes: int64(17), object(2)\n",
      "memory usage: 108.0+ MB\n"
     ]
    }
   ],
   "source": [
    "df_bachelors_earnings.info()"
   ]
  },
  {
   "cell_type": "code",
   "execution_count": 33,
   "metadata": {},
   "outputs": [],
   "source": [
    "df_bachelors_earnings = df_bachelors_earnings.rename(columns = {\n",
    "    \"YEAR\": 'earning_year',\n",
    "    \"EDUCD\": 'earnings_degree',\n",
    "    \"SCHLTYPE\": 'earnings_school_type',\n",
    "    \"DEGFIELD\": 'earnings_major',\n",
    "    \"INCTOT\": 'earnings_total_pers_income',\n",
    "    \"INCWAGE\": 'earnings_wage/salary',\n",
    "    \"INCEARN\": 'earnings_total_pers_earned_income',\n",
    "    \"EMPSTATE\": 'earnings_employed_status',\n",
    "    \"RACHSING\": 'earnings_race',\n",
    "    \"SPEAKENG\": 'earnings_speaks_english',\n",
    "    \"DEGFIELDD\": 'earnings_specific_degree',\n",
    "})"
   ]
  },
  {
   "cell_type": "code",
   "execution_count": 34,
   "metadata": {},
   "outputs": [
    {
     "name": "stdout",
     "output_type": "stream",
     "text": [
      "<class 'pandas.core.frame.DataFrame'>\n",
      "Int64Index: 707462 entries, 2762990 to 6947303\n",
      "Data columns (total 19 columns):\n",
      " #   Column                             Non-Null Count   Dtype \n",
      "---  ------                             --------------   ----- \n",
      " 0   earning_year                       707462 non-null  int64 \n",
      " 1   earnings_degree                    707462 non-null  int64 \n",
      " 2   earnings_school_type               707462 non-null  int64 \n",
      " 3   earnings_major                     707462 non-null  int64 \n",
      " 4   earnings_total_pers_income         707462 non-null  int64 \n",
      " 5   earnings_wage/salary               707462 non-null  int64 \n",
      " 6   earnings_total_pers_earned_income  707462 non-null  int64 \n",
      " 7   EMPSTAT                            707462 non-null  int64 \n",
      " 8   STATEFIP                           707462 non-null  int64 \n",
      " 9   REGION                             707462 non-null  int64 \n",
      " 10  METRO                              707462 non-null  int64 \n",
      " 11  SEX                                707462 non-null  int64 \n",
      " 12  AGE                                707462 non-null  int64 \n",
      " 13  earnings_race                      707462 non-null  int64 \n",
      " 14  earnings_speaks_english            707462 non-null  int64 \n",
      " 15  LANGUAGE                           707462 non-null  int64 \n",
      " 16  earnings_specific_degree           707462 non-null  int64 \n",
      " 17  state_post_code                    707462 non-null  object\n",
      " 18  major_category                     707462 non-null  object\n",
      "dtypes: int64(17), object(2)\n",
      "memory usage: 108.0+ MB\n"
     ]
    }
   ],
   "source": [
    "df_bachelors_earnings.info()"
   ]
  },
  {
   "cell_type": "code",
   "execution_count": 43,
   "metadata": {},
   "outputs": [
    {
     "data": {
      "text/plain": [
       "Business                                                      165165\n",
       "Medical and Health Sciences and Services                       55930\n",
       "Engineering                                                    52421\n",
       "Education Administration and Teaching                          50062\n",
       "Social Sciences                                                48004\n",
       "Communications                                                 40943\n",
       "Fine Arts                                                      37403\n",
       "Psychology                                                     32400\n",
       "Computer and Information Sciences                              31846\n",
       "Biology and Life Sciences                                      27940\n",
       "Criminal Justice and Fire Protection                           20383\n",
       "English Language, Literature, and Composition                  18432\n",
       "Physical Sciences                                              14414\n",
       "Physical Fitness, Parks, Recreation, and Leisure               11726\n",
       "History                                                        11629\n",
       "Liberal Arts and Humanities                                     9240\n",
       "Agriculture                                                     8761\n",
       "Public Affairs, Policy, and Social Work                         8097\n",
       "Mathematics and Statistics                                      7360\n",
       "Environment and Natural Resources                               6830\n",
       "Interdisciplinary and Multi-Disciplinary Studies (General)      6828\n",
       "Family and Consumer Sciences                                    6098\n",
       "Engineering Technologies                                        5956\n",
       "Linguistics and Foreign Languages                               5408\n",
       "Architecture                                                    4691\n",
       "Theology and Religious Vocations                                3604\n",
       "Philosophy and Religious Studies                                3442\n",
       "Transportation Sciences and Technologies                        2567\n",
       "Construction Services                                           2406\n",
       "Area, Ethnic, and Civilization Studies                          2340\n",
       "Communication Technologies                                      1940\n",
       "Law                                                             1391\n",
       "Cosmetology Services and Culinary Arts                          1057\n",
       "Electrical and Mechanic Repairs and Technologies                 315\n",
       "Nuclear, Industrial Radiology, and Biological Technologies       312\n",
       "Library Science                                                   81\n",
       "Military Technologies                                             40\n",
       "Name: major_category, dtype: int64"
      ]
     },
     "execution_count": 43,
     "metadata": {},
     "output_type": "execute_result"
    }
   ],
   "source": [
    "df_bachelors_earnings.major_category.value_counts()"
   ]
  },
  {
   "cell_type": "code",
   "execution_count": null,
   "metadata": {},
   "outputs": [],
   "source": []
  },
  {
   "cell_type": "code",
   "execution_count": 35,
   "metadata": {},
   "outputs": [
    {
     "data": {
      "text/plain": [
       "1    674834\n",
       "3     20780\n",
       "2     11848\n",
       "Name: EMPSTAT, dtype: int64"
      ]
     },
     "execution_count": 35,
     "metadata": {},
     "output_type": "execute_result"
    }
   ],
   "source": [
    "df_bachelors_earnings.EMPSTAT.value_counts()"
   ]
  },
  {
   "cell_type": "code",
   "execution_count": 36,
   "metadata": {},
   "outputs": [],
   "source": [
    "df_bachelors_earnings = df_bachelors_earnings.drop(columns = ['REGION','STATEFIP','earnings_total_pers_income','earnings_total_pers_earned_income'])"
   ]
  },
  {
   "cell_type": "code",
   "execution_count": 37,
   "metadata": {},
   "outputs": [
    {
     "name": "stdout",
     "output_type": "stream",
     "text": [
      "<class 'pandas.core.frame.DataFrame'>\n",
      "Int64Index: 707462 entries, 2762990 to 6947303\n",
      "Data columns (total 15 columns):\n",
      " #   Column                    Non-Null Count   Dtype \n",
      "---  ------                    --------------   ----- \n",
      " 0   earning_year              707462 non-null  int64 \n",
      " 1   earnings_degree           707462 non-null  int64 \n",
      " 2   earnings_school_type      707462 non-null  int64 \n",
      " 3   earnings_major            707462 non-null  int64 \n",
      " 4   earnings_wage/salary      707462 non-null  int64 \n",
      " 5   EMPSTAT                   707462 non-null  int64 \n",
      " 6   METRO                     707462 non-null  int64 \n",
      " 7   SEX                       707462 non-null  int64 \n",
      " 8   AGE                       707462 non-null  int64 \n",
      " 9   earnings_race             707462 non-null  int64 \n",
      " 10  earnings_speaks_english   707462 non-null  int64 \n",
      " 11  LANGUAGE                  707462 non-null  int64 \n",
      " 12  earnings_specific_degree  707462 non-null  int64 \n",
      " 13  state_post_code           707462 non-null  object\n",
      " 14  major_category            707462 non-null  object\n",
      "dtypes: int64(13), object(2)\n",
      "memory usage: 86.4+ MB\n"
     ]
    }
   ],
   "source": [
    "df_bachelors_earnings.info()"
   ]
  },
  {
   "cell_type": "code",
   "execution_count": 38,
   "metadata": {},
   "outputs": [
    {
     "data": {
      "text/html": [
       "<div>\n",
       "<style scoped>\n",
       "    .dataframe tbody tr th:only-of-type {\n",
       "        vertical-align: middle;\n",
       "    }\n",
       "\n",
       "    .dataframe tbody tr th {\n",
       "        vertical-align: top;\n",
       "    }\n",
       "\n",
       "    .dataframe thead th {\n",
       "        text-align: right;\n",
       "    }\n",
       "</style>\n",
       "<table border=\"1\" class=\"dataframe\">\n",
       "  <thead>\n",
       "    <tr style=\"text-align: right;\">\n",
       "      <th></th>\n",
       "      <th>earning_year</th>\n",
       "      <th>earnings_degree</th>\n",
       "      <th>earnings_school_type</th>\n",
       "      <th>earnings_major</th>\n",
       "      <th>earnings_wage/salary</th>\n",
       "      <th>EMPSTAT</th>\n",
       "      <th>METRO</th>\n",
       "      <th>SEX</th>\n",
       "      <th>AGE</th>\n",
       "      <th>earnings_race</th>\n",
       "      <th>earnings_speaks_english</th>\n",
       "      <th>LANGUAGE</th>\n",
       "      <th>earnings_specific_degree</th>\n",
       "      <th>state_post_code</th>\n",
       "      <th>major_category</th>\n",
       "    </tr>\n",
       "  </thead>\n",
       "  <tbody>\n",
       "    <tr>\n",
       "      <th>2762990</th>\n",
       "      <td>2017</td>\n",
       "      <td>101</td>\n",
       "      <td>1</td>\n",
       "      <td>61</td>\n",
       "      <td>38500</td>\n",
       "      <td>1</td>\n",
       "      <td>0</td>\n",
       "      <td>2</td>\n",
       "      <td>31</td>\n",
       "      <td>1</td>\n",
       "      <td>3</td>\n",
       "      <td>1</td>\n",
       "      <td>6100</td>\n",
       "      <td>AL</td>\n",
       "      <td>Medical and Health Sciences and Services</td>\n",
       "    </tr>\n",
       "    <tr>\n",
       "      <th>2763006</th>\n",
       "      <td>2017</td>\n",
       "      <td>101</td>\n",
       "      <td>1</td>\n",
       "      <td>62</td>\n",
       "      <td>120000</td>\n",
       "      <td>1</td>\n",
       "      <td>4</td>\n",
       "      <td>1</td>\n",
       "      <td>30</td>\n",
       "      <td>2</td>\n",
       "      <td>3</td>\n",
       "      <td>1</td>\n",
       "      <td>6203</td>\n",
       "      <td>AL</td>\n",
       "      <td>Business</td>\n",
       "    </tr>\n",
       "    <tr>\n",
       "      <th>2763007</th>\n",
       "      <td>2017</td>\n",
       "      <td>101</td>\n",
       "      <td>1</td>\n",
       "      <td>40</td>\n",
       "      <td>50000</td>\n",
       "      <td>1</td>\n",
       "      <td>4</td>\n",
       "      <td>1</td>\n",
       "      <td>26</td>\n",
       "      <td>2</td>\n",
       "      <td>3</td>\n",
       "      <td>1</td>\n",
       "      <td>4002</td>\n",
       "      <td>AL</td>\n",
       "      <td>Interdisciplinary and Multi-Disciplinary Studi...</td>\n",
       "    </tr>\n",
       "    <tr>\n",
       "      <th>2763029</th>\n",
       "      <td>2017</td>\n",
       "      <td>101</td>\n",
       "      <td>1</td>\n",
       "      <td>61</td>\n",
       "      <td>65000</td>\n",
       "      <td>1</td>\n",
       "      <td>4</td>\n",
       "      <td>2</td>\n",
       "      <td>49</td>\n",
       "      <td>1</td>\n",
       "      <td>3</td>\n",
       "      <td>1</td>\n",
       "      <td>6107</td>\n",
       "      <td>AL</td>\n",
       "      <td>Medical and Health Sciences and Services</td>\n",
       "    </tr>\n",
       "    <tr>\n",
       "      <th>2763031</th>\n",
       "      <td>2017</td>\n",
       "      <td>101</td>\n",
       "      <td>1</td>\n",
       "      <td>33</td>\n",
       "      <td>42000</td>\n",
       "      <td>1</td>\n",
       "      <td>4</td>\n",
       "      <td>2</td>\n",
       "      <td>34</td>\n",
       "      <td>1</td>\n",
       "      <td>3</td>\n",
       "      <td>1</td>\n",
       "      <td>3301</td>\n",
       "      <td>AL</td>\n",
       "      <td>English Language, Literature, and Composition</td>\n",
       "    </tr>\n",
       "  </tbody>\n",
       "</table>\n",
       "</div>"
      ],
      "text/plain": [
       "         earning_year  earnings_degree  earnings_school_type  earnings_major  \\\n",
       "2762990          2017              101                     1              61   \n",
       "2763006          2017              101                     1              62   \n",
       "2763007          2017              101                     1              40   \n",
       "2763029          2017              101                     1              61   \n",
       "2763031          2017              101                     1              33   \n",
       "\n",
       "         earnings_wage/salary  EMPSTAT  METRO  SEX  AGE  earnings_race  \\\n",
       "2762990                 38500        1      0    2   31              1   \n",
       "2763006                120000        1      4    1   30              2   \n",
       "2763007                 50000        1      4    1   26              2   \n",
       "2763029                 65000        1      4    2   49              1   \n",
       "2763031                 42000        1      4    2   34              1   \n",
       "\n",
       "         earnings_speaks_english  LANGUAGE  earnings_specific_degree  \\\n",
       "2762990                        3         1                      6100   \n",
       "2763006                        3         1                      6203   \n",
       "2763007                        3         1                      4002   \n",
       "2763029                        3         1                      6107   \n",
       "2763031                        3         1                      3301   \n",
       "\n",
       "        state_post_code                                     major_category  \n",
       "2762990              AL           Medical and Health Sciences and Services  \n",
       "2763006              AL                                           Business  \n",
       "2763007              AL  Interdisciplinary and Multi-Disciplinary Studi...  \n",
       "2763029              AL           Medical and Health Sciences and Services  \n",
       "2763031              AL      English Language, Literature, and Composition  "
      ]
     },
     "execution_count": 38,
     "metadata": {},
     "output_type": "execute_result"
    }
   ],
   "source": [
    "df_bachelors_earnings.head()"
   ]
  },
  {
   "cell_type": "code",
   "execution_count": 39,
   "metadata": {},
   "outputs": [],
   "source": [
    "earnings_df = df_bachelors_earnings"
   ]
  },
  {
   "cell_type": "code",
   "execution_count": 40,
   "metadata": {},
   "outputs": [
    {
     "name": "stdout",
     "output_type": "stream",
     "text": [
      "dataframe shape: (707462, 15)\n"
     ]
    }
   ],
   "source": [
    "   \n",
    "# cache the newly created dataframe as a .csv file\n",
    "earnings_df.to_csv(\"earnings_df.csv\")\n",
    "\n",
    "# print the df shape\n",
    "print(f'dataframe shape: {earnings_df.shape}')\n",
    "\n"
   ]
  },
  {
   "cell_type": "code",
   "execution_count": 44,
   "metadata": {},
   "outputs": [
    {
     "data": {
      "text/plain": [
       "(707462, 15)"
      ]
     },
     "execution_count": 44,
     "metadata": {},
     "output_type": "execute_result"
    }
   ],
   "source": [
    "df_bachelors_earnings.shape"
   ]
  },
  {
   "cell_type": "code",
   "execution_count": null,
   "metadata": {},
   "outputs": [],
   "source": [
    "df_full = df_bachelors_earnings"
   ]
  },
  {
   "cell_type": "code",
   "execution_count": null,
   "metadata": {},
   "outputs": [],
   "source": []
  },
  {
   "cell_type": "code",
   "execution_count": null,
   "metadata": {},
   "outputs": [],
   "source": []
  }
 ],
 "metadata": {
  "kernelspec": {
   "display_name": "Python 3.9.12 ('base')",
   "language": "python",
   "name": "python3"
  },
  "language_info": {
   "codemirror_mode": {
    "name": "ipython",
    "version": 3
   },
   "file_extension": ".py",
   "mimetype": "text/x-python",
   "name": "python",
   "nbconvert_exporter": "python",
   "pygments_lexer": "ipython3",
   "version": "3.9.12"
  },
  "orig_nbformat": 4,
  "vscode": {
   "interpreter": {
    "hash": "3067ead486e059ec00ffe7555bdb889e6e264a24dc711bf108106cc7baee8d5d"
   }
  }
 },
 "nbformat": 4,
 "nbformat_minor": 2
}

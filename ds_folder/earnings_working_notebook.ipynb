{
 "cells": [
  {
   "cell_type": "markdown",
   "metadata": {},
   "source": [
    "# IPUMS Dataset\n",
    "#### Preparing annual earnings per major for merging with primary dataset"
   ]
  },
  {
   "cell_type": "markdown",
   "metadata": {},
   "source": []
  },
  {
   "cell_type": "code",
   "execution_count": 1,
   "metadata": {},
   "outputs": [],
   "source": [
    "import pandas as pd\n",
    "import numpy as np\n",
    "\n",
    "import csv\n",
    "import ds_earnings_acquire_prep\n"
   ]
  },
  {
   "cell_type": "code",
   "execution_count": 2,
   "metadata": {},
   "outputs": [
    {
     "name": "stdout",
     "output_type": "stream",
     "text": [
      "dataframe shape: (115993, 38)\n"
     ]
    }
   ],
   "source": [
    "ipums_earnings = ds_earnings_acquire_prep.get_earnings_df()"
   ]
  },
  {
   "cell_type": "code",
   "execution_count": 3,
   "metadata": {},
   "outputs": [
    {
     "data": {
      "text/plain": [
       "(115993, 38)"
      ]
     },
     "execution_count": 3,
     "metadata": {},
     "output_type": "execute_result"
    }
   ],
   "source": [
    "ipums_earnings.shape"
   ]
  },
  {
   "cell_type": "code",
   "execution_count": 4,
   "metadata": {},
   "outputs": [
    {
     "data": {
      "text/html": [
       "<div>\n",
       "<style scoped>\n",
       "    .dataframe tbody tr th:only-of-type {\n",
       "        vertical-align: middle;\n",
       "    }\n",
       "\n",
       "    .dataframe tbody tr th {\n",
       "        vertical-align: top;\n",
       "    }\n",
       "\n",
       "    .dataframe thead th {\n",
       "        text-align: right;\n",
       "    }\n",
       "</style>\n",
       "<table border=\"1\" class=\"dataframe\">\n",
       "  <thead>\n",
       "    <tr style=\"text-align: right;\">\n",
       "      <th></th>\n",
       "      <th>YEAR</th>\n",
       "      <th>SAMPLE</th>\n",
       "      <th>SERIAL</th>\n",
       "      <th>CBSERIAL</th>\n",
       "      <th>HHWT</th>\n",
       "      <th>CLUSTER</th>\n",
       "      <th>REGION</th>\n",
       "      <th>STATEICP</th>\n",
       "      <th>STATEFIP</th>\n",
       "      <th>COUNTYFIP</th>\n",
       "      <th>...</th>\n",
       "      <th>DEGFIELD2</th>\n",
       "      <th>DEGFIELD2D</th>\n",
       "      <th>EMPSTAT</th>\n",
       "      <th>EMPSTATD</th>\n",
       "      <th>OCC</th>\n",
       "      <th>OCC2010</th>\n",
       "      <th>IND</th>\n",
       "      <th>INDNAICS</th>\n",
       "      <th>LOOKING</th>\n",
       "      <th>INCWAGE</th>\n",
       "    </tr>\n",
       "  </thead>\n",
       "  <tbody>\n",
       "    <tr>\n",
       "      <th>0</th>\n",
       "      <td>2017</td>\n",
       "      <td>201701</td>\n",
       "      <td>23</td>\n",
       "      <td>2017000001707</td>\n",
       "      <td>145.0</td>\n",
       "      <td>2017000000231</td>\n",
       "      <td>32</td>\n",
       "      <td>41</td>\n",
       "      <td>1</td>\n",
       "      <td>0</td>\n",
       "      <td>...</td>\n",
       "      <td>0</td>\n",
       "      <td>0</td>\n",
       "      <td>3</td>\n",
       "      <td>30</td>\n",
       "      <td>0</td>\n",
       "      <td>9920</td>\n",
       "      <td>0</td>\n",
       "      <td>0</td>\n",
       "      <td>1</td>\n",
       "      <td>0</td>\n",
       "    </tr>\n",
       "    <tr>\n",
       "      <th>1</th>\n",
       "      <td>2017</td>\n",
       "      <td>201701</td>\n",
       "      <td>39</td>\n",
       "      <td>2017000003311</td>\n",
       "      <td>85.0</td>\n",
       "      <td>2017000000391</td>\n",
       "      <td>32</td>\n",
       "      <td>41</td>\n",
       "      <td>1</td>\n",
       "      <td>0</td>\n",
       "      <td>...</td>\n",
       "      <td>0</td>\n",
       "      <td>0</td>\n",
       "      <td>1</td>\n",
       "      <td>10</td>\n",
       "      <td>3255</td>\n",
       "      <td>3130</td>\n",
       "      <td>7970</td>\n",
       "      <td>6211</td>\n",
       "      <td>3</td>\n",
       "      <td>60000</td>\n",
       "    </tr>\n",
       "    <tr>\n",
       "      <th>2</th>\n",
       "      <td>2017</td>\n",
       "      <td>201701</td>\n",
       "      <td>45</td>\n",
       "      <td>2017000003715</td>\n",
       "      <td>99.0</td>\n",
       "      <td>2017000000451</td>\n",
       "      <td>32</td>\n",
       "      <td>41</td>\n",
       "      <td>1</td>\n",
       "      <td>97</td>\n",
       "      <td>...</td>\n",
       "      <td>0</td>\n",
       "      <td>0</td>\n",
       "      <td>1</td>\n",
       "      <td>10</td>\n",
       "      <td>8140</td>\n",
       "      <td>8140</td>\n",
       "      <td>8870</td>\n",
       "      <td>8113</td>\n",
       "      <td>3</td>\n",
       "      <td>60000</td>\n",
       "    </tr>\n",
       "    <tr>\n",
       "      <th>3</th>\n",
       "      <td>2017</td>\n",
       "      <td>201701</td>\n",
       "      <td>84</td>\n",
       "      <td>2017000005832</td>\n",
       "      <td>239.0</td>\n",
       "      <td>2017000000841</td>\n",
       "      <td>32</td>\n",
       "      <td>41</td>\n",
       "      <td>1</td>\n",
       "      <td>0</td>\n",
       "      <td>...</td>\n",
       "      <td>0</td>\n",
       "      <td>0</td>\n",
       "      <td>3</td>\n",
       "      <td>30</td>\n",
       "      <td>0</td>\n",
       "      <td>9920</td>\n",
       "      <td>0</td>\n",
       "      <td>0</td>\n",
       "      <td>1</td>\n",
       "      <td>0</td>\n",
       "    </tr>\n",
       "    <tr>\n",
       "      <th>4</th>\n",
       "      <td>2017</td>\n",
       "      <td>201701</td>\n",
       "      <td>186</td>\n",
       "      <td>2017000013137</td>\n",
       "      <td>168.0</td>\n",
       "      <td>2017000001861</td>\n",
       "      <td>32</td>\n",
       "      <td>41</td>\n",
       "      <td>1</td>\n",
       "      <td>0</td>\n",
       "      <td>...</td>\n",
       "      <td>0</td>\n",
       "      <td>0</td>\n",
       "      <td>1</td>\n",
       "      <td>10</td>\n",
       "      <td>4520</td>\n",
       "      <td>4520</td>\n",
       "      <td>8990</td>\n",
       "      <td>8121M</td>\n",
       "      <td>1</td>\n",
       "      <td>26000</td>\n",
       "    </tr>\n",
       "  </tbody>\n",
       "</table>\n",
       "<p>5 rows × 38 columns</p>\n",
       "</div>"
      ],
      "text/plain": [
       "   YEAR  SAMPLE  SERIAL       CBSERIAL   HHWT        CLUSTER  REGION  \\\n",
       "0  2017  201701      23  2017000001707  145.0  2017000000231      32   \n",
       "1  2017  201701      39  2017000003311   85.0  2017000000391      32   \n",
       "2  2017  201701      45  2017000003715   99.0  2017000000451      32   \n",
       "3  2017  201701      84  2017000005832  239.0  2017000000841      32   \n",
       "4  2017  201701     186  2017000013137  168.0  2017000001861      32   \n",
       "\n",
       "   STATEICP  STATEFIP  COUNTYFIP  ...  DEGFIELD2  DEGFIELD2D  EMPSTAT  \\\n",
       "0        41         1          0  ...          0           0        3   \n",
       "1        41         1          0  ...          0           0        1   \n",
       "2        41         1         97  ...          0           0        1   \n",
       "3        41         1          0  ...          0           0        3   \n",
       "4        41         1          0  ...          0           0        1   \n",
       "\n",
       "   EMPSTATD   OCC  OCC2010   IND  INDNAICS  LOOKING  INCWAGE  \n",
       "0        30     0     9920     0         0        1        0  \n",
       "1        10  3255     3130  7970  6211            3    60000  \n",
       "2        10  8140     8140  8870  8113            3    60000  \n",
       "3        30     0     9920     0         0        1        0  \n",
       "4        10  4520     4520  8990  8121M           1    26000  \n",
       "\n",
       "[5 rows x 38 columns]"
      ]
     },
     "execution_count": 4,
     "metadata": {},
     "output_type": "execute_result"
    }
   ],
   "source": [
    "ipums_earnings.head()"
   ]
  },
  {
   "cell_type": "code",
   "execution_count": 5,
   "metadata": {},
   "outputs": [
    {
     "data": {
      "text/plain": [
       "6     15256\n",
       "48    10337\n",
       "36     7400\n",
       "12     6930\n",
       "17     4550\n",
       "42     4140\n",
       "39     4006\n",
       "13     3757\n",
       "37     3655\n",
       "34     3268\n",
       "26     3177\n",
       "51     3130\n",
       "53     2931\n",
       "25     2463\n",
       "4      2451\n",
       "47     2398\n",
       "18     2319\n",
       "8      2272\n",
       "24     2125\n",
       "29     2096\n",
       "27     1976\n",
       "55     1923\n",
       "45     1769\n",
       "1      1636\n",
       "41     1591\n",
       "21     1561\n",
       "22     1555\n",
       "40     1350\n",
       "49     1288\n",
       "9      1180\n",
       "32     1130\n",
       "19     1073\n",
       "5      1018\n",
       "20      978\n",
       "28      935\n",
       "31      682\n",
       "16      661\n",
       "54      637\n",
       "35      621\n",
       "15      584\n",
       "33      423\n",
       "23      370\n",
       "30      335\n",
       "44      334\n",
       "46      284\n",
       "11      283\n",
       "38      279\n",
       "10      248\n",
       "2       232\n",
       "50      198\n",
       "56      198\n",
       "Name: STATEFIP, dtype: int64"
      ]
     },
     "execution_count": 5,
     "metadata": {},
     "output_type": "execute_result"
    }
   ],
   "source": [
    "ipums_earnings.STATEFIP.value_counts()"
   ]
  },
  {
   "cell_type": "code",
   "execution_count": 6,
   "metadata": {},
   "outputs": [],
   "source": [
    "# Creating `state_post_code` col in order to merge with cleaned main df\n",
    "\n",
    "ipums_earnings['state_post_code'] = ipums_earnings['STATEFIP'].replace({\n",
    "    1: 'AL',\n",
    "    2: 'AK',\n",
    "    3: 'AZ',\n",
    "    5: 'AR',\n",
    "    6: 'CA',\n",
    "    8: 'CO',\n",
    "    9: 'CT',\n",
    "    10: 'DE',\n",
    "    11: 'DC',\n",
    "    12: 'FL',\n",
    "    13:\t'GA',\n",
    "    15:\t'HI',\n",
    "    16:\t'ID',\n",
    "    17:\t'IL',\n",
    "    18:\t'IN',\n",
    "    19:\t'IA',\n",
    "    20:\t'KS',\n",
    "    21:\t'KY',\n",
    "    22:\t'LA',\n",
    "    23:\t'ME',\n",
    "    24:\t'MD',\n",
    "    25:\t'MA',\n",
    "    26:\t'MI',\n",
    "    27:\t'MN',\n",
    "    28:\t'MS',\n",
    "    29:\t'MO',\n",
    "    30:\t'MT',\n",
    "    31:\t'NE',\n",
    "    32:\t'NV',\n",
    "    33:\t'NH',\n",
    "    34:\t'NJ',\n",
    "    35:\t'NM',\n",
    "    36:\t'NY',\n",
    "    37:\t'NC',\n",
    "    38:\t'ND',\n",
    "    39:\t'OH',\n",
    "    40:\t'OK',\n",
    "    41:\t'OR',\n",
    "    42:\t'PA',\n",
    "    44:\t'RI',\n",
    "    45:\t'SC',\n",
    "    46:\t'SD',\n",
    "    47:\t'TN',\n",
    "    48:\t'TX',\n",
    "    49:\t'UT',\n",
    "    50:\t'VT',\n",
    "    51:\t'VA',\n",
    "    53:\t'WA',\n",
    "    54:\t'WV',\n",
    "    55:\t'WI',\n",
    "    56:\t'WY',\n",
    "    60:\t'AS',\n",
    "    64:\t'FM',\n",
    "    66:\t'GU',\n",
    "    67:\t'JA',\n",
    "    68:\t'MH',\n",
    "    69:\t'MP',\n",
    "    70:\t'PW',\n",
    "    71:\t'MI',\n",
    "    72:\t'PR',\n",
    "    74:\t'UM',\n",
    "    76:\t'NI',\n",
    "    78:\t'VI',\n",
    "    79:\t'WI',\n",
    "    81:\t'BI',\n",
    "    84:\t'HI',\n",
    "    86:\t'JI',\n",
    "    89:\t'KR',\n",
    "    95:\t'PA'\n",
    "})"
   ]
  },
  {
   "cell_type": "code",
   "execution_count": 7,
   "metadata": {},
   "outputs": [
    {
     "name": "stdout",
     "output_type": "stream",
     "text": [
      "<class 'pandas.core.frame.DataFrame'>\n",
      "RangeIndex: 115993 entries, 0 to 115992\n",
      "Data columns (total 39 columns):\n",
      " #   Column           Non-Null Count   Dtype  \n",
      "---  ------           --------------   -----  \n",
      " 0   YEAR             115993 non-null  int64  \n",
      " 1   SAMPLE           115993 non-null  int64  \n",
      " 2   SERIAL           115993 non-null  int64  \n",
      " 3   CBSERIAL         115993 non-null  int64  \n",
      " 4   HHWT             115993 non-null  float64\n",
      " 5   CLUSTER          115993 non-null  int64  \n",
      " 6   REGION           115993 non-null  int64  \n",
      " 7   STATEICP         115993 non-null  int64  \n",
      " 8   STATEFIP         115993 non-null  int64  \n",
      " 9   COUNTYFIP        115993 non-null  int64  \n",
      " 10  METRO            115993 non-null  int64  \n",
      " 11  CITY             115993 non-null  int64  \n",
      " 12  STRATA           115993 non-null  int64  \n",
      " 13  GQ               115993 non-null  int64  \n",
      " 14  PERNUM           115993 non-null  int64  \n",
      " 15  PERWT            115993 non-null  float64\n",
      " 16  SEX              115993 non-null  int64  \n",
      " 17  AGE              115993 non-null  int64  \n",
      " 18  RACE             115993 non-null  int64  \n",
      " 19  RACED            115993 non-null  int64  \n",
      " 20  HISPAN           115993 non-null  int64  \n",
      " 21  HISPAND          115993 non-null  int64  \n",
      " 22  LANGUAGE         115993 non-null  int64  \n",
      " 23  LANGUAGED        115993 non-null  int64  \n",
      " 24  SPEAKENG         115993 non-null  int64  \n",
      " 25  SCHLTYPE         115993 non-null  int64  \n",
      " 26  DEGFIELD         115993 non-null  int64  \n",
      " 27  DEGFIELDD        115993 non-null  int64  \n",
      " 28  DEGFIELD2        115993 non-null  int64  \n",
      " 29  DEGFIELD2D       115993 non-null  int64  \n",
      " 30  EMPSTAT          115993 non-null  int64  \n",
      " 31  EMPSTATD         115993 non-null  int64  \n",
      " 32  OCC              115993 non-null  int64  \n",
      " 33  OCC2010          115993 non-null  int64  \n",
      " 34  IND              115993 non-null  int64  \n",
      " 35  INDNAICS         115993 non-null  object \n",
      " 36  LOOKING          115993 non-null  int64  \n",
      " 37  INCWAGE          115993 non-null  int64  \n",
      " 38  state_post_code  115993 non-null  object \n",
      "dtypes: float64(2), int64(35), object(2)\n",
      "memory usage: 34.5+ MB\n"
     ]
    }
   ],
   "source": [
    "ipums_earnings.info()"
   ]
  },
  {
   "cell_type": "code",
   "execution_count": 11,
   "metadata": {},
   "outputs": [
    {
     "data": {
      "text/plain": [
       "38"
      ]
     },
     "execution_count": 11,
     "metadata": {},
     "output_type": "execute_result"
    }
   ],
   "source": [
    "ipums_earnings.DEGFIELD.nunique()"
   ]
  },
  {
   "cell_type": "code",
   "execution_count": 9,
   "metadata": {},
   "outputs": [
    {
     "ename": "KeyError",
     "evalue": "'EDUCD'",
     "output_type": "error",
     "traceback": [
      "\u001b[0;31m---------------------------------------------------------------------------\u001b[0m",
      "\u001b[0;31mKeyError\u001b[0m                                  Traceback (most recent call last)",
      "File \u001b[0;32m/usr/local/anaconda3/lib/python3.9/site-packages/pandas/core/indexes/base.py:3621\u001b[0m, in \u001b[0;36mIndex.get_loc\u001b[0;34m(self, key, method, tolerance)\u001b[0m\n\u001b[1;32m   3620\u001b[0m \u001b[39mtry\u001b[39;00m:\n\u001b[0;32m-> 3621\u001b[0m     \u001b[39mreturn\u001b[39;00m \u001b[39mself\u001b[39;49m\u001b[39m.\u001b[39;49m_engine\u001b[39m.\u001b[39;49mget_loc(casted_key)\n\u001b[1;32m   3622\u001b[0m \u001b[39mexcept\u001b[39;00m \u001b[39mKeyError\u001b[39;00m \u001b[39mas\u001b[39;00m err:\n",
      "File \u001b[0;32m/usr/local/anaconda3/lib/python3.9/site-packages/pandas/_libs/index.pyx:136\u001b[0m, in \u001b[0;36mpandas._libs.index.IndexEngine.get_loc\u001b[0;34m()\u001b[0m\n",
      "File \u001b[0;32m/usr/local/anaconda3/lib/python3.9/site-packages/pandas/_libs/index.pyx:163\u001b[0m, in \u001b[0;36mpandas._libs.index.IndexEngine.get_loc\u001b[0;34m()\u001b[0m\n",
      "File \u001b[0;32mpandas/_libs/hashtable_class_helper.pxi:5198\u001b[0m, in \u001b[0;36mpandas._libs.hashtable.PyObjectHashTable.get_item\u001b[0;34m()\u001b[0m\n",
      "File \u001b[0;32mpandas/_libs/hashtable_class_helper.pxi:5206\u001b[0m, in \u001b[0;36mpandas._libs.hashtable.PyObjectHashTable.get_item\u001b[0;34m()\u001b[0m\n",
      "\u001b[0;31mKeyError\u001b[0m: 'EDUCD'",
      "\nThe above exception was the direct cause of the following exception:\n",
      "\u001b[0;31mKeyError\u001b[0m                                  Traceback (most recent call last)",
      "\u001b[1;32m/Users/davidschneemann/codeup/capstone_working_repo/ds_folder/earnings_working_notebook.ipynb Cell 11\u001b[0m in \u001b[0;36m<cell line: 1>\u001b[0;34m()\u001b[0m\n\u001b[0;32m----> <a href='vscode-notebook-cell:/Users/davidschneemann/codeup/capstone_working_repo/ds_folder/earnings_working_notebook.ipynb#X12sZmlsZQ%3D%3D?line=0'>1</a>\u001b[0m df_bachelors_earnings \u001b[39m=\u001b[39m ipums_earnings\u001b[39m.\u001b[39mloc[ipums_earnings[\u001b[39m'\u001b[39;49m\u001b[39mEDUCD\u001b[39;49m\u001b[39m'\u001b[39;49m] \u001b[39m==\u001b[39m \u001b[39m101\u001b[39m]\n",
      "File \u001b[0;32m/usr/local/anaconda3/lib/python3.9/site-packages/pandas/core/frame.py:3505\u001b[0m, in \u001b[0;36mDataFrame.__getitem__\u001b[0;34m(self, key)\u001b[0m\n\u001b[1;32m   3503\u001b[0m \u001b[39mif\u001b[39;00m \u001b[39mself\u001b[39m\u001b[39m.\u001b[39mcolumns\u001b[39m.\u001b[39mnlevels \u001b[39m>\u001b[39m \u001b[39m1\u001b[39m:\n\u001b[1;32m   3504\u001b[0m     \u001b[39mreturn\u001b[39;00m \u001b[39mself\u001b[39m\u001b[39m.\u001b[39m_getitem_multilevel(key)\n\u001b[0;32m-> 3505\u001b[0m indexer \u001b[39m=\u001b[39m \u001b[39mself\u001b[39;49m\u001b[39m.\u001b[39;49mcolumns\u001b[39m.\u001b[39;49mget_loc(key)\n\u001b[1;32m   3506\u001b[0m \u001b[39mif\u001b[39;00m is_integer(indexer):\n\u001b[1;32m   3507\u001b[0m     indexer \u001b[39m=\u001b[39m [indexer]\n",
      "File \u001b[0;32m/usr/local/anaconda3/lib/python3.9/site-packages/pandas/core/indexes/base.py:3623\u001b[0m, in \u001b[0;36mIndex.get_loc\u001b[0;34m(self, key, method, tolerance)\u001b[0m\n\u001b[1;32m   3621\u001b[0m     \u001b[39mreturn\u001b[39;00m \u001b[39mself\u001b[39m\u001b[39m.\u001b[39m_engine\u001b[39m.\u001b[39mget_loc(casted_key)\n\u001b[1;32m   3622\u001b[0m \u001b[39mexcept\u001b[39;00m \u001b[39mKeyError\u001b[39;00m \u001b[39mas\u001b[39;00m err:\n\u001b[0;32m-> 3623\u001b[0m     \u001b[39mraise\u001b[39;00m \u001b[39mKeyError\u001b[39;00m(key) \u001b[39mfrom\u001b[39;00m \u001b[39merr\u001b[39;00m\n\u001b[1;32m   3624\u001b[0m \u001b[39mexcept\u001b[39;00m \u001b[39mTypeError\u001b[39;00m:\n\u001b[1;32m   3625\u001b[0m     \u001b[39m# If we have a listlike key, _check_indexing_error will raise\u001b[39;00m\n\u001b[1;32m   3626\u001b[0m     \u001b[39m#  InvalidIndexError. Otherwise we fall through and re-raise\u001b[39;00m\n\u001b[1;32m   3627\u001b[0m     \u001b[39m#  the TypeError.\u001b[39;00m\n\u001b[1;32m   3628\u001b[0m     \u001b[39mself\u001b[39m\u001b[39m.\u001b[39m_check_indexing_error(key)\n",
      "\u001b[0;31mKeyError\u001b[0m: 'EDUCD'"
     ]
    }
   ],
   "source": [
    "df_bachelors_earnings = ipums_earnings.loc[ipums_earnings['EDUCD'] == 101]"
   ]
  },
  {
   "cell_type": "code",
   "execution_count": null,
   "metadata": {},
   "outputs": [
    {
     "data": {
      "text/plain": [
       "count    115993.000000\n",
       "mean      49756.206685\n",
       "std       67403.241595\n",
       "min           0.000000\n",
       "25%        5100.000000\n",
       "50%       35000.000000\n",
       "75%       65000.000000\n",
       "max      736000.000000\n",
       "Name: INCWAGE, dtype: float64"
      ]
     },
     "execution_count": 17,
     "metadata": {},
     "output_type": "execute_result"
    }
   ],
   "source": [
    "df_bachelors_earnings.INCWAGE.describe()"
   ]
  },
  {
   "cell_type": "code",
   "execution_count": null,
   "metadata": {},
   "outputs": [
    {
     "data": {
      "text/plain": [
       "0       71492\n",
       "6203     2690\n",
       "5200     2196\n",
       "6200     1853\n",
       "6107     1738\n",
       "        ...  \n",
       "2418        6\n",
       "2411        6\n",
       "3201        5\n",
       "5000        4\n",
       "3801        3\n",
       "Name: DEGFIELDD, Length: 174, dtype: int64"
      ]
     },
     "execution_count": 15,
     "metadata": {},
     "output_type": "execute_result"
    }
   ],
   "source": [
    "ipums_earnings.DEGFIELDD.value_counts()"
   ]
  },
  {
   "cell_type": "code",
   "execution_count": null,
   "metadata": {},
   "outputs": [],
   "source": [
    "df_earnings = ipums_earnings[['YEAR','SEX','AGE','RACE','HISPAN','SPEAKENG','LANGUAGE','EDUC','EDUCD','GRADEATTD','SCHLTYPE','DEGFIELD','DEGFIELDD','INCTOT','INCWAGE','INCEARN']]"
   ]
  },
  {
   "cell_type": "code",
   "execution_count": null,
   "metadata": {},
   "outputs": [],
   "source": [
    "df_earnings.info()"
   ]
  },
  {
   "cell_type": "code",
   "execution_count": null,
   "metadata": {},
   "outputs": [
    {
     "data": {
      "text/plain": [
       "2018    704564\n",
       "2017    699600\n",
       "2019    697780\n",
       "2015    689296\n",
       "2016    688948\n",
       "Name: YEAR, dtype: int64"
      ]
     },
     "metadata": {},
     "output_type": "display_data"
    }
   ],
   "source": [
    "df_earnings.YEAR.value_counts()"
   ]
  },
  {
   "cell_type": "code",
   "execution_count": null,
   "metadata": {},
   "outputs": [
    {
     "data": {
      "text/plain": [
       "63     776292\n",
       "71     711159\n",
       "101    684978\n",
       "65     291209\n",
       "81     265992\n",
       "114    201964\n",
       "64     124797\n",
       "50     120280\n",
       "61      68561\n",
       "40      50917\n",
       "115     43325\n",
       "30      35978\n",
       "2       27574\n",
       "116     26433\n",
       "26      21985\n",
       "23      13485\n",
       "25       5259\n",
       "22       2993\n",
       "16       2155\n",
       "17       1791\n",
       "15       1145\n",
       "14        724\n",
       "11        661\n",
       "12        531\n",
       "Name: EDUCD, dtype: int64"
      ]
     },
     "metadata": {},
     "output_type": "display_data"
    }
   ],
   "source": [
    "df_earnings.EDUCD.value_counts()"
   ]
  },
  {
   "cell_type": "code",
   "execution_count": null,
   "metadata": {},
   "outputs": [],
   "source": [
    "df_bachelors_earnings = df_earnings.loc[df_earnings['EDUCD'] == 101]"
   ]
  },
  {
   "cell_type": "code",
   "execution_count": null,
   "metadata": {},
   "outputs": [
    {
     "data": {
      "text/html": [
       "<div>\n",
       "<style scoped>\n",
       "    .dataframe tbody tr th:only-of-type {\n",
       "        vertical-align: middle;\n",
       "    }\n",
       "\n",
       "    .dataframe tbody tr th {\n",
       "        vertical-align: top;\n",
       "    }\n",
       "\n",
       "    .dataframe thead th {\n",
       "        text-align: right;\n",
       "    }\n",
       "</style>\n",
       "<table border=\"1\" class=\"dataframe\">\n",
       "  <thead>\n",
       "    <tr style=\"text-align: right;\">\n",
       "      <th></th>\n",
       "      <th>YEAR</th>\n",
       "      <th>SEX</th>\n",
       "      <th>AGE</th>\n",
       "      <th>RACE</th>\n",
       "      <th>HISPAN</th>\n",
       "      <th>SPEAKENG</th>\n",
       "      <th>LANGUAGE</th>\n",
       "      <th>EDUC</th>\n",
       "      <th>EDUCD</th>\n",
       "      <th>GRADEATTD</th>\n",
       "      <th>SCHLTYPE</th>\n",
       "      <th>DEGFIELD</th>\n",
       "      <th>DEGFIELDD</th>\n",
       "      <th>INCTOT</th>\n",
       "      <th>INCWAGE</th>\n",
       "      <th>INCEARN</th>\n",
       "    </tr>\n",
       "  </thead>\n",
       "  <tbody>\n",
       "    <tr>\n",
       "      <th>2</th>\n",
       "      <td>2015</td>\n",
       "      <td>2</td>\n",
       "      <td>25</td>\n",
       "      <td>1</td>\n",
       "      <td>0</td>\n",
       "      <td>3</td>\n",
       "      <td>1</td>\n",
       "      <td>10</td>\n",
       "      <td>101</td>\n",
       "      <td>0</td>\n",
       "      <td>1</td>\n",
       "      <td>52</td>\n",
       "      <td>5200</td>\n",
       "      <td>24900</td>\n",
       "      <td>24900</td>\n",
       "      <td>24900</td>\n",
       "    </tr>\n",
       "    <tr>\n",
       "      <th>7</th>\n",
       "      <td>2015</td>\n",
       "      <td>2</td>\n",
       "      <td>27</td>\n",
       "      <td>2</td>\n",
       "      <td>0</td>\n",
       "      <td>3</td>\n",
       "      <td>1</td>\n",
       "      <td>10</td>\n",
       "      <td>101</td>\n",
       "      <td>0</td>\n",
       "      <td>1</td>\n",
       "      <td>19</td>\n",
       "      <td>1901</td>\n",
       "      <td>42000</td>\n",
       "      <td>42000</td>\n",
       "      <td>42000</td>\n",
       "    </tr>\n",
       "    <tr>\n",
       "      <th>23</th>\n",
       "      <td>2015</td>\n",
       "      <td>2</td>\n",
       "      <td>22</td>\n",
       "      <td>1</td>\n",
       "      <td>0</td>\n",
       "      <td>3</td>\n",
       "      <td>1</td>\n",
       "      <td>10</td>\n",
       "      <td>101</td>\n",
       "      <td>70</td>\n",
       "      <td>2</td>\n",
       "      <td>36</td>\n",
       "      <td>3600</td>\n",
       "      <td>2000</td>\n",
       "      <td>2000</td>\n",
       "      <td>2000</td>\n",
       "    </tr>\n",
       "    <tr>\n",
       "      <th>28</th>\n",
       "      <td>2015</td>\n",
       "      <td>1</td>\n",
       "      <td>32</td>\n",
       "      <td>1</td>\n",
       "      <td>0</td>\n",
       "      <td>3</td>\n",
       "      <td>1</td>\n",
       "      <td>10</td>\n",
       "      <td>101</td>\n",
       "      <td>0</td>\n",
       "      <td>1</td>\n",
       "      <td>62</td>\n",
       "      <td>6201</td>\n",
       "      <td>61000</td>\n",
       "      <td>67000</td>\n",
       "      <td>65500</td>\n",
       "    </tr>\n",
       "    <tr>\n",
       "      <th>37</th>\n",
       "      <td>2015</td>\n",
       "      <td>1</td>\n",
       "      <td>27</td>\n",
       "      <td>1</td>\n",
       "      <td>0</td>\n",
       "      <td>3</td>\n",
       "      <td>1</td>\n",
       "      <td>10</td>\n",
       "      <td>101</td>\n",
       "      <td>0</td>\n",
       "      <td>1</td>\n",
       "      <td>21</td>\n",
       "      <td>2105</td>\n",
       "      <td>40000</td>\n",
       "      <td>0</td>\n",
       "      <td>40000</td>\n",
       "    </tr>\n",
       "  </tbody>\n",
       "</table>\n",
       "</div>"
      ],
      "text/plain": [
       "    YEAR  SEX  AGE  RACE  HISPAN  SPEAKENG  LANGUAGE  EDUC  EDUCD  GRADEATTD  \\\n",
       "2   2015    2   25     1       0         3         1    10    101          0   \n",
       "7   2015    2   27     2       0         3         1    10    101          0   \n",
       "23  2015    2   22     1       0         3         1    10    101         70   \n",
       "28  2015    1   32     1       0         3         1    10    101          0   \n",
       "37  2015    1   27     1       0         3         1    10    101          0   \n",
       "\n",
       "    SCHLTYPE  DEGFIELD  DEGFIELDD  INCTOT  INCWAGE  INCEARN  \n",
       "2          1        52       5200   24900    24900    24900  \n",
       "7          1        19       1901   42000    42000    42000  \n",
       "23         2        36       3600    2000     2000     2000  \n",
       "28         1        62       6201   61000    67000    65500  \n",
       "37         1        21       2105   40000        0    40000  "
      ]
     },
     "metadata": {},
     "output_type": "display_data"
    }
   ],
   "source": [
    "df_bachelors_earnings.head()"
   ]
  },
  {
   "cell_type": "code",
   "execution_count": null,
   "metadata": {},
   "outputs": [],
   "source": [
    "df_bachelors_earnings = df_bachelors_earnings.drop(columns=['GRADEATTD','EDUC','EDUCD'])"
   ]
  },
  {
   "cell_type": "code",
   "execution_count": null,
   "metadata": {},
   "outputs": [
    {
     "data": {
      "text/html": [
       "<div>\n",
       "<style scoped>\n",
       "    .dataframe tbody tr th:only-of-type {\n",
       "        vertical-align: middle;\n",
       "    }\n",
       "\n",
       "    .dataframe tbody tr th {\n",
       "        vertical-align: top;\n",
       "    }\n",
       "\n",
       "    .dataframe thead th {\n",
       "        text-align: right;\n",
       "    }\n",
       "</style>\n",
       "<table border=\"1\" class=\"dataframe\">\n",
       "  <thead>\n",
       "    <tr style=\"text-align: right;\">\n",
       "      <th></th>\n",
       "      <th>YEAR</th>\n",
       "      <th>SEX</th>\n",
       "      <th>AGE</th>\n",
       "      <th>RACE</th>\n",
       "      <th>HISPAN</th>\n",
       "      <th>SPEAKENG</th>\n",
       "      <th>LANGUAGE</th>\n",
       "      <th>SCHLTYPE</th>\n",
       "      <th>DEGFIELD</th>\n",
       "      <th>DEGFIELDD</th>\n",
       "      <th>INCTOT</th>\n",
       "      <th>INCWAGE</th>\n",
       "      <th>INCEARN</th>\n",
       "    </tr>\n",
       "  </thead>\n",
       "  <tbody>\n",
       "    <tr>\n",
       "      <th>2</th>\n",
       "      <td>2015</td>\n",
       "      <td>2</td>\n",
       "      <td>25</td>\n",
       "      <td>1</td>\n",
       "      <td>0</td>\n",
       "      <td>3</td>\n",
       "      <td>1</td>\n",
       "      <td>1</td>\n",
       "      <td>52</td>\n",
       "      <td>5200</td>\n",
       "      <td>24900</td>\n",
       "      <td>24900</td>\n",
       "      <td>24900</td>\n",
       "    </tr>\n",
       "    <tr>\n",
       "      <th>7</th>\n",
       "      <td>2015</td>\n",
       "      <td>2</td>\n",
       "      <td>27</td>\n",
       "      <td>2</td>\n",
       "      <td>0</td>\n",
       "      <td>3</td>\n",
       "      <td>1</td>\n",
       "      <td>1</td>\n",
       "      <td>19</td>\n",
       "      <td>1901</td>\n",
       "      <td>42000</td>\n",
       "      <td>42000</td>\n",
       "      <td>42000</td>\n",
       "    </tr>\n",
       "    <tr>\n",
       "      <th>23</th>\n",
       "      <td>2015</td>\n",
       "      <td>2</td>\n",
       "      <td>22</td>\n",
       "      <td>1</td>\n",
       "      <td>0</td>\n",
       "      <td>3</td>\n",
       "      <td>1</td>\n",
       "      <td>2</td>\n",
       "      <td>36</td>\n",
       "      <td>3600</td>\n",
       "      <td>2000</td>\n",
       "      <td>2000</td>\n",
       "      <td>2000</td>\n",
       "    </tr>\n",
       "    <tr>\n",
       "      <th>28</th>\n",
       "      <td>2015</td>\n",
       "      <td>1</td>\n",
       "      <td>32</td>\n",
       "      <td>1</td>\n",
       "      <td>0</td>\n",
       "      <td>3</td>\n",
       "      <td>1</td>\n",
       "      <td>1</td>\n",
       "      <td>62</td>\n",
       "      <td>6201</td>\n",
       "      <td>61000</td>\n",
       "      <td>67000</td>\n",
       "      <td>65500</td>\n",
       "    </tr>\n",
       "    <tr>\n",
       "      <th>37</th>\n",
       "      <td>2015</td>\n",
       "      <td>1</td>\n",
       "      <td>27</td>\n",
       "      <td>1</td>\n",
       "      <td>0</td>\n",
       "      <td>3</td>\n",
       "      <td>1</td>\n",
       "      <td>1</td>\n",
       "      <td>21</td>\n",
       "      <td>2105</td>\n",
       "      <td>40000</td>\n",
       "      <td>0</td>\n",
       "      <td>40000</td>\n",
       "    </tr>\n",
       "  </tbody>\n",
       "</table>\n",
       "</div>"
      ],
      "text/plain": [
       "    YEAR  SEX  AGE  RACE  HISPAN  SPEAKENG  LANGUAGE  SCHLTYPE  DEGFIELD  \\\n",
       "2   2015    2   25     1       0         3         1         1        52   \n",
       "7   2015    2   27     2       0         3         1         1        19   \n",
       "23  2015    2   22     1       0         3         1         2        36   \n",
       "28  2015    1   32     1       0         3         1         1        62   \n",
       "37  2015    1   27     1       0         3         1         1        21   \n",
       "\n",
       "    DEGFIELDD  INCTOT  INCWAGE  INCEARN  \n",
       "2        5200   24900    24900    24900  \n",
       "7        1901   42000    42000    42000  \n",
       "23       3600    2000     2000     2000  \n",
       "28       6201   61000    67000    65500  \n",
       "37       2105   40000        0    40000  "
      ]
     },
     "metadata": {},
     "output_type": "display_data"
    }
   ],
   "source": [
    "df_bachelors_earnings.head()"
   ]
  },
  {
   "cell_type": "code",
   "execution_count": null,
   "metadata": {},
   "outputs": [
    {
     "data": {
      "text/plain": [
       "(684978, 13)"
      ]
     },
     "metadata": {},
     "output_type": "display_data"
    }
   ],
   "source": [
    "df_bachelors_earnings.shape"
   ]
  },
  {
   "cell_type": "code",
   "execution_count": 13,
   "metadata": {},
   "outputs": [
    {
     "data": {
      "text/plain": [
       "0     71492\n",
       "62     9186\n",
       "23     4269\n",
       "61     3332\n",
       "24     3257\n",
       "55     3253\n",
       "36     2386\n",
       "52     2366\n",
       "21     2038\n",
       "60     1989\n",
       "19     1984\n",
       "33     1356\n",
       "50     1197\n",
       "53      885\n",
       "64      805\n",
       "34      631\n",
       "54      616\n",
       "11      539\n",
       "37      505\n",
       "41      485\n",
       "26      447\n",
       "40      386\n",
       "29      373\n",
       "13      370\n",
       "14      354\n",
       "48      305\n",
       "49      300\n",
       "25      281\n",
       "15      154\n",
       "59      123\n",
       "32       83\n",
       "20       74\n",
       "56       73\n",
       "22       44\n",
       "35       19\n",
       "57       17\n",
       "51       16\n",
       "38        3\n",
       "Name: DEGFIELD, dtype: int64"
      ]
     },
     "execution_count": 13,
     "metadata": {},
     "output_type": "execute_result"
    }
   ],
   "source": [
    "ipums_earnings.DEGFIELD.value_counts()"
   ]
  },
  {
   "cell_type": "code",
   "execution_count": 14,
   "metadata": {},
   "outputs": [
    {
     "data": {
      "text/plain": [
       "0         24807\n",
       "50000      3315\n",
       "40000      3158\n",
       "60000      3007\n",
       "30000      2884\n",
       "          ...  \n",
       "297000        1\n",
       "314000        1\n",
       "284000        1\n",
       "302000        1\n",
       "322000        1\n",
       "Name: INCWAGE, Length: 951, dtype: int64"
      ]
     },
     "execution_count": 14,
     "metadata": {},
     "output_type": "execute_result"
    }
   ],
   "source": [
    "ipums_earnings['INCWAGE'].value_counts()"
   ]
  },
  {
   "cell_type": "code",
   "execution_count": null,
   "metadata": {},
   "outputs": [],
   "source": []
  },
  {
   "cell_type": "code",
   "execution_count": null,
   "metadata": {},
   "outputs": [],
   "source": []
  },
  {
   "cell_type": "code",
   "execution_count": null,
   "metadata": {},
   "outputs": [],
   "source": []
  }
 ],
 "metadata": {
  "kernelspec": {
   "display_name": "Python 3.9.12 ('base')",
   "language": "python",
   "name": "python3"
  },
  "language_info": {
   "codemirror_mode": {
    "name": "ipython",
    "version": 3
   },
   "file_extension": ".py",
   "mimetype": "text/x-python",
   "name": "python",
   "nbconvert_exporter": "python",
   "pygments_lexer": "ipython3",
   "version": "3.9.12"
  },
  "orig_nbformat": 4,
  "vscode": {
   "interpreter": {
    "hash": "3067ead486e059ec00ffe7555bdb889e6e264a24dc711bf108106cc7baee8d5d"
   }
  }
 },
 "nbformat": 4,
 "nbformat_minor": 2
}

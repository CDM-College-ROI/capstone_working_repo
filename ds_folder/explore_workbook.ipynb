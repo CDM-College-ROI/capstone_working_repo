{
 "cells": [
  {
   "cell_type": "markdown",
   "metadata": {},
   "source": []
  },
  {
   "cell_type": "markdown",
   "metadata": {},
   "source": []
  },
  {
   "cell_type": "code",
   "execution_count": 1,
   "metadata": {},
   "outputs": [],
   "source": [
    "# regular imports\n",
    "import pandas as pd\n",
    "import numpy as np\n",
    "import matplotlib.pyplot as plt\n",
    "import seaborn as sns\n",
    "import scipy\n",
    "import math\n",
    "\n",
    "# default pandas decimal number display format\n",
    "pd.options.display.float_format = '{:20,.2f}'.format\n",
    "\n",
    "import warnings\n",
    "warnings.filterwarnings(\"ignore\")\n",
    "\n",
    "# Wrangling\n",
    "from sklearn.model_selection import train_test_split, learning_curve\n",
    "from sklearn.feature_selection import SelectKBest, RFE, f_regression, SequentialFeatureSelector\n",
    "from sklearn.linear_model import LinearRegression, LassoLars, TweedieRegressor\n",
    "from sklearn.cluster import KMeans\n",
    "from scipy import stats\n",
    "import sklearn.preprocessing\n",
    "from sklearn.metrics import mean_squared_error\n",
    "from scipy.stats import pearsonr, spearmanr, kruskal\n",
    "\n",
    "import csv\n",
    "import acquire\n",
    "import prepare\n",
    "import ds_acquire\n",
    "import ds_prepare\n"
   ]
  },
  {
   "cell_type": "code",
   "execution_count": 2,
   "metadata": {},
   "outputs": [
    {
     "name": "stdout",
     "output_type": "stream",
     "text": [
      "dataframe shape: (71901, 119)\n"
     ]
    }
   ],
   "source": [
    "df = acquire.get_bach_df()\n",
    "df = prepare.clean_college_df(df)"
   ]
  },
  {
   "cell_type": "code",
   "execution_count": 3,
   "metadata": {},
   "outputs": [],
   "source": [
    "df['major_category'] = df.major_name.apply(prepare.categorize_major)"
   ]
  },
  {
   "cell_type": "code",
   "execution_count": 4,
   "metadata": {},
   "outputs": [
    {
     "name": "stdout",
     "output_type": "stream",
     "text": [
      "<class 'pandas.core.frame.DataFrame'>\n",
      "Int64Index: 71901 entries, 0 to 224838\n",
      "Columns: 120 entries, unit_id_institution to major_category\n",
      "dtypes: float64(85), int64(2), object(33)\n",
      "memory usage: 66.4+ MB\n"
     ]
    }
   ],
   "source": [
    "df.info()"
   ]
  },
  {
   "cell_type": "code",
   "execution_count": 5,
   "metadata": {},
   "outputs": [
    {
     "data": {
      "text/html": [
       "<div>\n",
       "<style scoped>\n",
       "    .dataframe tbody tr th:only-of-type {\n",
       "        vertical-align: middle;\n",
       "    }\n",
       "\n",
       "    .dataframe tbody tr th {\n",
       "        vertical-align: top;\n",
       "    }\n",
       "\n",
       "    .dataframe thead th {\n",
       "        text-align: right;\n",
       "    }\n",
       "</style>\n",
       "<table border=\"1\" class=\"dataframe\">\n",
       "  <thead>\n",
       "    <tr style=\"text-align: right;\">\n",
       "      <th></th>\n",
       "      <th>unit_id_institution</th>\n",
       "      <th>college_name</th>\n",
       "      <th>institution_control</th>\n",
       "      <th>state_post_code</th>\n",
       "      <th>zip_code</th>\n",
       "      <th>city</th>\n",
       "      <th>region_ipeds</th>\n",
       "      <th>title_IV_eligibility</th>\n",
       "      <th>pred_degree</th>\n",
       "      <th>pred_degree_0and4</th>\n",
       "      <th>...</th>\n",
       "      <th>deg_percent_awarded_construction_trades</th>\n",
       "      <th>deg_percent_awarded_mechanic_repair</th>\n",
       "      <th>deg_percent_awarded_precision_production</th>\n",
       "      <th>deg_percent_awarded_transportation_materials</th>\n",
       "      <th>deg_percent_awarded_visual_and_performing_arts</th>\n",
       "      <th>deg_percent_awarded_health</th>\n",
       "      <th>deg_percent_awarded_business_management</th>\n",
       "      <th>deg_percent_awarded_history</th>\n",
       "      <th>non_deg_seeking</th>\n",
       "      <th>major_category</th>\n",
       "    </tr>\n",
       "  </thead>\n",
       "  <tbody>\n",
       "    <tr>\n",
       "      <th>0</th>\n",
       "      <td>100,654.00</td>\n",
       "      <td>Alabama A &amp; M University</td>\n",
       "      <td>Public</td>\n",
       "      <td>AL</td>\n",
       "      <td>35762</td>\n",
       "      <td>Normal</td>\n",
       "      <td>5.00</td>\n",
       "      <td>1.00</td>\n",
       "      <td>3.00</td>\n",
       "      <td>3.00</td>\n",
       "      <td>...</td>\n",
       "      <td>0.00</td>\n",
       "      <td>0.00</td>\n",
       "      <td>0.00</td>\n",
       "      <td>0.00</td>\n",
       "      <td>0.02</td>\n",
       "      <td>0.00</td>\n",
       "      <td>0.16</td>\n",
       "      <td>0.00</td>\n",
       "      <td>153.00</td>\n",
       "      <td>Agriculture</td>\n",
       "    </tr>\n",
       "    <tr>\n",
       "      <th>1</th>\n",
       "      <td>100,654.00</td>\n",
       "      <td>Alabama A &amp; M University</td>\n",
       "      <td>Public</td>\n",
       "      <td>AL</td>\n",
       "      <td>35762</td>\n",
       "      <td>Normal</td>\n",
       "      <td>5.00</td>\n",
       "      <td>1.00</td>\n",
       "      <td>3.00</td>\n",
       "      <td>3.00</td>\n",
       "      <td>...</td>\n",
       "      <td>0.00</td>\n",
       "      <td>0.00</td>\n",
       "      <td>0.00</td>\n",
       "      <td>0.00</td>\n",
       "      <td>0.02</td>\n",
       "      <td>0.00</td>\n",
       "      <td>0.16</td>\n",
       "      <td>0.00</td>\n",
       "      <td>153.00</td>\n",
       "      <td>Biology and Life Sciences</td>\n",
       "    </tr>\n",
       "    <tr>\n",
       "      <th>2</th>\n",
       "      <td>100,654.00</td>\n",
       "      <td>Alabama A &amp; M University</td>\n",
       "      <td>Public</td>\n",
       "      <td>AL</td>\n",
       "      <td>35762</td>\n",
       "      <td>Normal</td>\n",
       "      <td>5.00</td>\n",
       "      <td>1.00</td>\n",
       "      <td>3.00</td>\n",
       "      <td>3.00</td>\n",
       "      <td>...</td>\n",
       "      <td>0.00</td>\n",
       "      <td>0.00</td>\n",
       "      <td>0.00</td>\n",
       "      <td>0.00</td>\n",
       "      <td>0.02</td>\n",
       "      <td>0.00</td>\n",
       "      <td>0.16</td>\n",
       "      <td>0.00</td>\n",
       "      <td>153.00</td>\n",
       "      <td>Biology and Life Sciences</td>\n",
       "    </tr>\n",
       "    <tr>\n",
       "      <th>5</th>\n",
       "      <td>100,654.00</td>\n",
       "      <td>Alabama A &amp; M University</td>\n",
       "      <td>Public</td>\n",
       "      <td>AL</td>\n",
       "      <td>35762</td>\n",
       "      <td>Normal</td>\n",
       "      <td>5.00</td>\n",
       "      <td>1.00</td>\n",
       "      <td>3.00</td>\n",
       "      <td>3.00</td>\n",
       "      <td>...</td>\n",
       "      <td>0.00</td>\n",
       "      <td>0.00</td>\n",
       "      <td>0.00</td>\n",
       "      <td>0.00</td>\n",
       "      <td>0.02</td>\n",
       "      <td>0.00</td>\n",
       "      <td>0.16</td>\n",
       "      <td>0.00</td>\n",
       "      <td>153.00</td>\n",
       "      <td>Biology and Life Sciences</td>\n",
       "    </tr>\n",
       "    <tr>\n",
       "      <th>6</th>\n",
       "      <td>100,654.00</td>\n",
       "      <td>Alabama A &amp; M University</td>\n",
       "      <td>Public</td>\n",
       "      <td>AL</td>\n",
       "      <td>35762</td>\n",
       "      <td>Normal</td>\n",
       "      <td>5.00</td>\n",
       "      <td>1.00</td>\n",
       "      <td>3.00</td>\n",
       "      <td>3.00</td>\n",
       "      <td>...</td>\n",
       "      <td>0.00</td>\n",
       "      <td>0.00</td>\n",
       "      <td>0.00</td>\n",
       "      <td>0.00</td>\n",
       "      <td>0.02</td>\n",
       "      <td>0.00</td>\n",
       "      <td>0.16</td>\n",
       "      <td>0.00</td>\n",
       "      <td>153.00</td>\n",
       "      <td>Agriculture</td>\n",
       "    </tr>\n",
       "  </tbody>\n",
       "</table>\n",
       "<p>5 rows × 120 columns</p>\n",
       "</div>"
      ],
      "text/plain": [
       "   unit_id_institution              college_name institution_control  \\\n",
       "0           100,654.00  Alabama A & M University              Public   \n",
       "1           100,654.00  Alabama A & M University              Public   \n",
       "2           100,654.00  Alabama A & M University              Public   \n",
       "5           100,654.00  Alabama A & M University              Public   \n",
       "6           100,654.00  Alabama A & M University              Public   \n",
       "\n",
       "  state_post_code zip_code    city         region_ipeds  title_IV_eligibility  \\\n",
       "0              AL    35762  Normal                 5.00                  1.00   \n",
       "1              AL    35762  Normal                 5.00                  1.00   \n",
       "2              AL    35762  Normal                 5.00                  1.00   \n",
       "5              AL    35762  Normal                 5.00                  1.00   \n",
       "6              AL    35762  Normal                 5.00                  1.00   \n",
       "\n",
       "           pred_degree    pred_degree_0and4  ...  \\\n",
       "0                 3.00                 3.00  ...   \n",
       "1                 3.00                 3.00  ...   \n",
       "2                 3.00                 3.00  ...   \n",
       "5                 3.00                 3.00  ...   \n",
       "6                 3.00                 3.00  ...   \n",
       "\n",
       "  deg_percent_awarded_construction_trades  \\\n",
       "0                                    0.00   \n",
       "1                                    0.00   \n",
       "2                                    0.00   \n",
       "5                                    0.00   \n",
       "6                                    0.00   \n",
       "\n",
       "   deg_percent_awarded_mechanic_repair  \\\n",
       "0                                 0.00   \n",
       "1                                 0.00   \n",
       "2                                 0.00   \n",
       "5                                 0.00   \n",
       "6                                 0.00   \n",
       "\n",
       "   deg_percent_awarded_precision_production  \\\n",
       "0                                      0.00   \n",
       "1                                      0.00   \n",
       "2                                      0.00   \n",
       "5                                      0.00   \n",
       "6                                      0.00   \n",
       "\n",
       "  deg_percent_awarded_transportation_materials  \\\n",
       "0                                         0.00   \n",
       "1                                         0.00   \n",
       "2                                         0.00   \n",
       "5                                         0.00   \n",
       "6                                         0.00   \n",
       "\n",
       "   deg_percent_awarded_visual_and_performing_arts  deg_percent_awarded_health  \\\n",
       "0                                            0.02                        0.00   \n",
       "1                                            0.02                        0.00   \n",
       "2                                            0.02                        0.00   \n",
       "5                                            0.02                        0.00   \n",
       "6                                            0.02                        0.00   \n",
       "\n",
       "   deg_percent_awarded_business_management  deg_percent_awarded_history  \\\n",
       "0                                     0.16                         0.00   \n",
       "1                                     0.16                         0.00   \n",
       "2                                     0.16                         0.00   \n",
       "5                                     0.16                         0.00   \n",
       "6                                     0.16                         0.00   \n",
       "\n",
       "       non_deg_seeking             major_category  \n",
       "0               153.00                Agriculture  \n",
       "1               153.00  Biology and Life Sciences  \n",
       "2               153.00  Biology and Life Sciences  \n",
       "5               153.00  Biology and Life Sciences  \n",
       "6               153.00                Agriculture  \n",
       "\n",
       "[5 rows x 120 columns]"
      ]
     },
     "execution_count": 5,
     "metadata": {},
     "output_type": "execute_result"
    }
   ],
   "source": [
    "df.head()"
   ]
  },
  {
   "cell_type": "markdown",
   "metadata": {},
   "source": [
    "# _______________________________________________________________________________________________ #\n",
    "### Initial `earnings_df`"
   ]
  },
  {
   "cell_type": "code",
   "execution_count": 6,
   "metadata": {},
   "outputs": [],
   "source": [
    "earnings_df = pd.read_csv('earnings_df.csv')"
   ]
  },
  {
   "cell_type": "code",
   "execution_count": 7,
   "metadata": {},
   "outputs": [
    {
     "name": "stdout",
     "output_type": "stream",
     "text": [
      "<class 'pandas.core.frame.DataFrame'>\n",
      "RangeIndex: 707462 entries, 0 to 707461\n",
      "Data columns (total 16 columns):\n",
      " #   Column                    Non-Null Count   Dtype \n",
      "---  ------                    --------------   ----- \n",
      " 0   Unnamed: 0                707462 non-null  int64 \n",
      " 1   earning_year              707462 non-null  int64 \n",
      " 2   earnings_degree           707462 non-null  int64 \n",
      " 3   earnings_school_type      707462 non-null  int64 \n",
      " 4   earnings_major            707462 non-null  int64 \n",
      " 5   earnings_wage/salary      707462 non-null  int64 \n",
      " 6   EMPSTAT                   707462 non-null  int64 \n",
      " 7   METRO                     707462 non-null  int64 \n",
      " 8   SEX                       707462 non-null  int64 \n",
      " 9   AGE                       707462 non-null  int64 \n",
      " 10  earnings_race             707462 non-null  int64 \n",
      " 11  earnings_speaks_english   707462 non-null  int64 \n",
      " 12  LANGUAGE                  707462 non-null  int64 \n",
      " 13  earnings_specific_degree  707462 non-null  int64 \n",
      " 14  state_post_code           707462 non-null  object\n",
      " 15  major_category            707462 non-null  object\n",
      "dtypes: int64(14), object(2)\n",
      "memory usage: 86.4+ MB\n"
     ]
    }
   ],
   "source": [
    "earnings_df.info()"
   ]
  },
  {
   "cell_type": "code",
   "execution_count": 8,
   "metadata": {},
   "outputs": [
    {
     "data": {
      "text/html": [
       "<div>\n",
       "<style scoped>\n",
       "    .dataframe tbody tr th:only-of-type {\n",
       "        vertical-align: middle;\n",
       "    }\n",
       "\n",
       "    .dataframe tbody tr th {\n",
       "        vertical-align: top;\n",
       "    }\n",
       "\n",
       "    .dataframe thead th {\n",
       "        text-align: right;\n",
       "    }\n",
       "</style>\n",
       "<table border=\"1\" class=\"dataframe\">\n",
       "  <thead>\n",
       "    <tr style=\"text-align: right;\">\n",
       "      <th></th>\n",
       "      <th>Unnamed: 0</th>\n",
       "      <th>earning_year</th>\n",
       "      <th>earnings_degree</th>\n",
       "      <th>earnings_school_type</th>\n",
       "      <th>earnings_major</th>\n",
       "      <th>earnings_wage/salary</th>\n",
       "      <th>EMPSTAT</th>\n",
       "      <th>METRO</th>\n",
       "      <th>SEX</th>\n",
       "      <th>AGE</th>\n",
       "      <th>earnings_race</th>\n",
       "      <th>earnings_speaks_english</th>\n",
       "      <th>LANGUAGE</th>\n",
       "      <th>earnings_specific_degree</th>\n",
       "      <th>state_post_code</th>\n",
       "      <th>major_category</th>\n",
       "    </tr>\n",
       "  </thead>\n",
       "  <tbody>\n",
       "    <tr>\n",
       "      <th>0</th>\n",
       "      <td>2762990</td>\n",
       "      <td>2017</td>\n",
       "      <td>101</td>\n",
       "      <td>1</td>\n",
       "      <td>61</td>\n",
       "      <td>38500</td>\n",
       "      <td>1</td>\n",
       "      <td>0</td>\n",
       "      <td>2</td>\n",
       "      <td>31</td>\n",
       "      <td>1</td>\n",
       "      <td>3</td>\n",
       "      <td>1</td>\n",
       "      <td>6100</td>\n",
       "      <td>AL</td>\n",
       "      <td>Medical and Health Sciences and Services</td>\n",
       "    </tr>\n",
       "    <tr>\n",
       "      <th>1</th>\n",
       "      <td>2763006</td>\n",
       "      <td>2017</td>\n",
       "      <td>101</td>\n",
       "      <td>1</td>\n",
       "      <td>62</td>\n",
       "      <td>120000</td>\n",
       "      <td>1</td>\n",
       "      <td>4</td>\n",
       "      <td>1</td>\n",
       "      <td>30</td>\n",
       "      <td>2</td>\n",
       "      <td>3</td>\n",
       "      <td>1</td>\n",
       "      <td>6203</td>\n",
       "      <td>AL</td>\n",
       "      <td>Business</td>\n",
       "    </tr>\n",
       "    <tr>\n",
       "      <th>2</th>\n",
       "      <td>2763007</td>\n",
       "      <td>2017</td>\n",
       "      <td>101</td>\n",
       "      <td>1</td>\n",
       "      <td>40</td>\n",
       "      <td>50000</td>\n",
       "      <td>1</td>\n",
       "      <td>4</td>\n",
       "      <td>1</td>\n",
       "      <td>26</td>\n",
       "      <td>2</td>\n",
       "      <td>3</td>\n",
       "      <td>1</td>\n",
       "      <td>4002</td>\n",
       "      <td>AL</td>\n",
       "      <td>Interdisciplinary and Multi-Disciplinary Studi...</td>\n",
       "    </tr>\n",
       "    <tr>\n",
       "      <th>3</th>\n",
       "      <td>2763029</td>\n",
       "      <td>2017</td>\n",
       "      <td>101</td>\n",
       "      <td>1</td>\n",
       "      <td>61</td>\n",
       "      <td>65000</td>\n",
       "      <td>1</td>\n",
       "      <td>4</td>\n",
       "      <td>2</td>\n",
       "      <td>49</td>\n",
       "      <td>1</td>\n",
       "      <td>3</td>\n",
       "      <td>1</td>\n",
       "      <td>6107</td>\n",
       "      <td>AL</td>\n",
       "      <td>Medical and Health Sciences and Services</td>\n",
       "    </tr>\n",
       "    <tr>\n",
       "      <th>4</th>\n",
       "      <td>2763031</td>\n",
       "      <td>2017</td>\n",
       "      <td>101</td>\n",
       "      <td>1</td>\n",
       "      <td>33</td>\n",
       "      <td>42000</td>\n",
       "      <td>1</td>\n",
       "      <td>4</td>\n",
       "      <td>2</td>\n",
       "      <td>34</td>\n",
       "      <td>1</td>\n",
       "      <td>3</td>\n",
       "      <td>1</td>\n",
       "      <td>3301</td>\n",
       "      <td>AL</td>\n",
       "      <td>English Language, Literature, and Composition</td>\n",
       "    </tr>\n",
       "  </tbody>\n",
       "</table>\n",
       "</div>"
      ],
      "text/plain": [
       "   Unnamed: 0  earning_year  earnings_degree  earnings_school_type  \\\n",
       "0     2762990          2017              101                     1   \n",
       "1     2763006          2017              101                     1   \n",
       "2     2763007          2017              101                     1   \n",
       "3     2763029          2017              101                     1   \n",
       "4     2763031          2017              101                     1   \n",
       "\n",
       "   earnings_major  earnings_wage/salary  EMPSTAT  METRO  SEX  AGE  \\\n",
       "0              61                 38500        1      0    2   31   \n",
       "1              62                120000        1      4    1   30   \n",
       "2              40                 50000        1      4    1   26   \n",
       "3              61                 65000        1      4    2   49   \n",
       "4              33                 42000        1      4    2   34   \n",
       "\n",
       "   earnings_race  earnings_speaks_english  LANGUAGE  earnings_specific_degree  \\\n",
       "0              1                        3         1                      6100   \n",
       "1              2                        3         1                      6203   \n",
       "2              2                        3         1                      4002   \n",
       "3              1                        3         1                      6107   \n",
       "4              1                        3         1                      3301   \n",
       "\n",
       "  state_post_code                                     major_category  \n",
       "0              AL           Medical and Health Sciences and Services  \n",
       "1              AL                                           Business  \n",
       "2              AL  Interdisciplinary and Multi-Disciplinary Studi...  \n",
       "3              AL           Medical and Health Sciences and Services  \n",
       "4              AL      English Language, Literature, and Composition  "
      ]
     },
     "execution_count": 8,
     "metadata": {},
     "output_type": "execute_result"
    }
   ],
   "source": [
    "earnings_df.head()"
   ]
  },
  {
   "cell_type": "markdown",
   "metadata": {},
   "source": [
    "# _______________________________________________________________________________________________ #\n",
    "### `earnings_df` pivot table to merge with main df\n",
    "Newly created pivot table with median earnings by major_category, split by year"
   ]
  },
  {
   "cell_type": "code",
   "execution_count": 9,
   "metadata": {},
   "outputs": [],
   "source": [
    "earnings_pivot_merge = pd.read_csv('2017_2018_2019_earning_by_major.csv')"
   ]
  },
  {
   "cell_type": "code",
   "execution_count": 10,
   "metadata": {},
   "outputs": [
    {
     "data": {
      "text/html": [
       "<div>\n",
       "<style scoped>\n",
       "    .dataframe tbody tr th:only-of-type {\n",
       "        vertical-align: middle;\n",
       "    }\n",
       "\n",
       "    .dataframe tbody tr th {\n",
       "        vertical-align: top;\n",
       "    }\n",
       "\n",
       "    .dataframe thead th {\n",
       "        text-align: right;\n",
       "    }\n",
       "</style>\n",
       "<table border=\"1\" class=\"dataframe\">\n",
       "  <thead>\n",
       "    <tr style=\"text-align: right;\">\n",
       "      <th></th>\n",
       "      <th>major_category</th>\n",
       "      <th>2017</th>\n",
       "      <th>2018</th>\n",
       "      <th>2019</th>\n",
       "      <th>Grand Total</th>\n",
       "    </tr>\n",
       "  </thead>\n",
       "  <tbody>\n",
       "    <tr>\n",
       "      <th>0</th>\n",
       "      <td>Agriculture</td>\n",
       "      <td>57,605.69</td>\n",
       "      <td>55,517.87</td>\n",
       "      <td>61,388.93</td>\n",
       "      <td>174,512.49</td>\n",
       "    </tr>\n",
       "    <tr>\n",
       "      <th>1</th>\n",
       "      <td>Architecture</td>\n",
       "      <td>68,643.59</td>\n",
       "      <td>71,344.26</td>\n",
       "      <td>75,609.81</td>\n",
       "      <td>215,597.67</td>\n",
       "    </tr>\n",
       "    <tr>\n",
       "      <th>2</th>\n",
       "      <td>Area, Ethnic, and Civilization Studies</td>\n",
       "      <td>53,999.93</td>\n",
       "      <td>56,155.89</td>\n",
       "      <td>60,997.54</td>\n",
       "      <td>171,153.36</td>\n",
       "    </tr>\n",
       "    <tr>\n",
       "      <th>3</th>\n",
       "      <td>Biology and Life Sciences</td>\n",
       "      <td>48,851.91</td>\n",
       "      <td>50,004.54</td>\n",
       "      <td>53,463.29</td>\n",
       "      <td>152,319.74</td>\n",
       "    </tr>\n",
       "    <tr>\n",
       "      <th>4</th>\n",
       "      <td>Business</td>\n",
       "      <td>74,813.94</td>\n",
       "      <td>76,724.07</td>\n",
       "      <td>79,608.39</td>\n",
       "      <td>231,146.40</td>\n",
       "    </tr>\n",
       "    <tr>\n",
       "      <th>5</th>\n",
       "      <td>Communication Technologies</td>\n",
       "      <td>50,630.58</td>\n",
       "      <td>53,303.00</td>\n",
       "      <td>56,882.68</td>\n",
       "      <td>160,816.25</td>\n",
       "    </tr>\n",
       "    <tr>\n",
       "      <th>6</th>\n",
       "      <td>Communications</td>\n",
       "      <td>61,311.56</td>\n",
       "      <td>63,458.16</td>\n",
       "      <td>66,997.75</td>\n",
       "      <td>191,767.47</td>\n",
       "    </tr>\n",
       "    <tr>\n",
       "      <th>7</th>\n",
       "      <td>Computer and Information Sciences</td>\n",
       "      <td>83,482.41</td>\n",
       "      <td>87,552.61</td>\n",
       "      <td>91,321.98</td>\n",
       "      <td>262,357.00</td>\n",
       "    </tr>\n",
       "    <tr>\n",
       "      <th>8</th>\n",
       "      <td>Construction Services</td>\n",
       "      <td>85,101.29</td>\n",
       "      <td>85,776.30</td>\n",
       "      <td>91,583.25</td>\n",
       "      <td>262,460.84</td>\n",
       "    </tr>\n",
       "    <tr>\n",
       "      <th>9</th>\n",
       "      <td>Cosmetology Services and Culinary Arts</td>\n",
       "      <td>42,217.78</td>\n",
       "      <td>45,696.22</td>\n",
       "      <td>48,408.92</td>\n",
       "      <td>136,322.92</td>\n",
       "    </tr>\n",
       "    <tr>\n",
       "      <th>10</th>\n",
       "      <td>Criminal Justice and Fire Protection</td>\n",
       "      <td>55,074.82</td>\n",
       "      <td>55,066.12</td>\n",
       "      <td>58,901.82</td>\n",
       "      <td>169,042.77</td>\n",
       "    </tr>\n",
       "    <tr>\n",
       "      <th>11</th>\n",
       "      <td>Education Administration and Teaching</td>\n",
       "      <td>40,986.89</td>\n",
       "      <td>42,375.70</td>\n",
       "      <td>43,116.07</td>\n",
       "      <td>126,478.66</td>\n",
       "    </tr>\n",
       "    <tr>\n",
       "      <th>12</th>\n",
       "      <td>Electrical and Mechanic Repairs and Technologies</td>\n",
       "      <td>55,800.00</td>\n",
       "      <td>53,429.09</td>\n",
       "      <td>68,582.61</td>\n",
       "      <td>177,811.70</td>\n",
       "    </tr>\n",
       "    <tr>\n",
       "      <th>13</th>\n",
       "      <td>Engineering</td>\n",
       "      <td>86,539.67</td>\n",
       "      <td>88,357.25</td>\n",
       "      <td>92,494.18</td>\n",
       "      <td>267,391.10</td>\n",
       "    </tr>\n",
       "    <tr>\n",
       "      <th>14</th>\n",
       "      <td>Engineering Technologies</td>\n",
       "      <td>76,409.06</td>\n",
       "      <td>82,113.75</td>\n",
       "      <td>80,312.52</td>\n",
       "      <td>238,835.33</td>\n",
       "    </tr>\n",
       "    <tr>\n",
       "      <th>15</th>\n",
       "      <td>English Language, Literature, and Composition</td>\n",
       "      <td>54,382.32</td>\n",
       "      <td>57,100.39</td>\n",
       "      <td>58,348.57</td>\n",
       "      <td>169,831.29</td>\n",
       "    </tr>\n",
       "    <tr>\n",
       "      <th>16</th>\n",
       "      <td>Environment and Natural Resources</td>\n",
       "      <td>53,669.96</td>\n",
       "      <td>53,782.21</td>\n",
       "      <td>55,281.43</td>\n",
       "      <td>162,733.60</td>\n",
       "    </tr>\n",
       "    <tr>\n",
       "      <th>17</th>\n",
       "      <td>Family and Consumer Sciences</td>\n",
       "      <td>43,092.12</td>\n",
       "      <td>41,403.79</td>\n",
       "      <td>43,822.54</td>\n",
       "      <td>128,318.45</td>\n",
       "    </tr>\n",
       "    <tr>\n",
       "      <th>18</th>\n",
       "      <td>Fine Arts</td>\n",
       "      <td>49,080.49</td>\n",
       "      <td>50,773.49</td>\n",
       "      <td>53,039.55</td>\n",
       "      <td>152,893.52</td>\n",
       "    </tr>\n",
       "    <tr>\n",
       "      <th>19</th>\n",
       "      <td>History</td>\n",
       "      <td>61,062.67</td>\n",
       "      <td>63,660.09</td>\n",
       "      <td>63,289.47</td>\n",
       "      <td>188,012.23</td>\n",
       "    </tr>\n",
       "    <tr>\n",
       "      <th>20</th>\n",
       "      <td>Interdisciplinary and Multi-Disciplinary Studi...</td>\n",
       "      <td>49,517.49</td>\n",
       "      <td>49,623.83</td>\n",
       "      <td>53,218.48</td>\n",
       "      <td>152,359.81</td>\n",
       "    </tr>\n",
       "    <tr>\n",
       "      <th>21</th>\n",
       "      <td>Law</td>\n",
       "      <td>56,878.48</td>\n",
       "      <td>53,846.43</td>\n",
       "      <td>54,520.82</td>\n",
       "      <td>165,245.73</td>\n",
       "    </tr>\n",
       "    <tr>\n",
       "      <th>22</th>\n",
       "      <td>Liberal Arts and Humanities</td>\n",
       "      <td>53,878.33</td>\n",
       "      <td>56,419.95</td>\n",
       "      <td>55,781.48</td>\n",
       "      <td>166,079.75</td>\n",
       "    </tr>\n",
       "    <tr>\n",
       "      <th>23</th>\n",
       "      <td>Library Science</td>\n",
       "      <td>37,639.57</td>\n",
       "      <td>39,932.26</td>\n",
       "      <td>31,651.85</td>\n",
       "      <td>109,223.68</td>\n",
       "    </tr>\n",
       "    <tr>\n",
       "      <th>24</th>\n",
       "      <td>Linguistics and Foreign Languages</td>\n",
       "      <td>49,279.43</td>\n",
       "      <td>51,656.69</td>\n",
       "      <td>54,595.54</td>\n",
       "      <td>155,531.65</td>\n",
       "    </tr>\n",
       "    <tr>\n",
       "      <th>25</th>\n",
       "      <td>Mathematics and Statistics</td>\n",
       "      <td>72,585.53</td>\n",
       "      <td>72,475.08</td>\n",
       "      <td>79,448.61</td>\n",
       "      <td>224,509.21</td>\n",
       "    </tr>\n",
       "    <tr>\n",
       "      <th>26</th>\n",
       "      <td>Medical and Health Sciences and Services</td>\n",
       "      <td>56,161.70</td>\n",
       "      <td>56,629.55</td>\n",
       "      <td>58,422.98</td>\n",
       "      <td>171,214.23</td>\n",
       "    </tr>\n",
       "    <tr>\n",
       "      <th>27</th>\n",
       "      <td>Military Technologies</td>\n",
       "      <td>97,692.31</td>\n",
       "      <td>35,450.00</td>\n",
       "      <td>68,378.95</td>\n",
       "      <td>201,521.26</td>\n",
       "    </tr>\n",
       "    <tr>\n",
       "      <th>28</th>\n",
       "      <td>Nuclear, Industrial Radiology, and Biological ...</td>\n",
       "      <td>68,394.12</td>\n",
       "      <td>58,165.66</td>\n",
       "      <td>73,974.77</td>\n",
       "      <td>200,534.55</td>\n",
       "    </tr>\n",
       "    <tr>\n",
       "      <th>29</th>\n",
       "      <td>Philosophy and Religious Studies</td>\n",
       "      <td>52,606.65</td>\n",
       "      <td>58,121.85</td>\n",
       "      <td>62,256.74</td>\n",
       "      <td>172,985.25</td>\n",
       "    </tr>\n",
       "    <tr>\n",
       "      <th>30</th>\n",
       "      <td>Physical Fitness, Parks, Recreation, and Leisure</td>\n",
       "      <td>46,524.62</td>\n",
       "      <td>47,221.76</td>\n",
       "      <td>49,787.21</td>\n",
       "      <td>143,533.58</td>\n",
       "    </tr>\n",
       "    <tr>\n",
       "      <th>31</th>\n",
       "      <td>Physical Sciences</td>\n",
       "      <td>60,639.41</td>\n",
       "      <td>60,521.14</td>\n",
       "      <td>62,937.46</td>\n",
       "      <td>184,098.02</td>\n",
       "    </tr>\n",
       "    <tr>\n",
       "      <th>32</th>\n",
       "      <td>Psychology</td>\n",
       "      <td>47,638.22</td>\n",
       "      <td>48,163.51</td>\n",
       "      <td>49,589.13</td>\n",
       "      <td>145,390.86</td>\n",
       "    </tr>\n",
       "    <tr>\n",
       "      <th>33</th>\n",
       "      <td>Public Affairs, Policy, and Social Work</td>\n",
       "      <td>43,168.30</td>\n",
       "      <td>43,126.21</td>\n",
       "      <td>45,354.10</td>\n",
       "      <td>131,648.61</td>\n",
       "    </tr>\n",
       "    <tr>\n",
       "      <th>34</th>\n",
       "      <td>Social Sciences</td>\n",
       "      <td>69,607.03</td>\n",
       "      <td>70,888.92</td>\n",
       "      <td>74,486.24</td>\n",
       "      <td>214,982.18</td>\n",
       "    </tr>\n",
       "    <tr>\n",
       "      <th>35</th>\n",
       "      <td>Theology and Religious Vocations</td>\n",
       "      <td>40,206.02</td>\n",
       "      <td>43,079.05</td>\n",
       "      <td>45,420.39</td>\n",
       "      <td>128,705.46</td>\n",
       "    </tr>\n",
       "    <tr>\n",
       "      <th>36</th>\n",
       "      <td>Transportation Sciences and Technologies</td>\n",
       "      <td>85,597.13</td>\n",
       "      <td>91,686.88</td>\n",
       "      <td>100,554.88</td>\n",
       "      <td>277,838.89</td>\n",
       "    </tr>\n",
       "    <tr>\n",
       "      <th>37</th>\n",
       "      <td>Grand Total</td>\n",
       "      <td>2,190,770.98</td>\n",
       "      <td>2,170,603.55</td>\n",
       "      <td>2,323,830.96</td>\n",
       "      <td>6,685,205.49</td>\n",
       "    </tr>\n",
       "  </tbody>\n",
       "</table>\n",
       "</div>"
      ],
      "text/plain": [
       "                                       major_category                 2017  \\\n",
       "0                                         Agriculture            57,605.69   \n",
       "1                                        Architecture            68,643.59   \n",
       "2              Area, Ethnic, and Civilization Studies            53,999.93   \n",
       "3                           Biology and Life Sciences            48,851.91   \n",
       "4                                            Business            74,813.94   \n",
       "5                          Communication Technologies            50,630.58   \n",
       "6                                      Communications            61,311.56   \n",
       "7                   Computer and Information Sciences            83,482.41   \n",
       "8                               Construction Services            85,101.29   \n",
       "9              Cosmetology Services and Culinary Arts            42,217.78   \n",
       "10               Criminal Justice and Fire Protection            55,074.82   \n",
       "11              Education Administration and Teaching            40,986.89   \n",
       "12   Electrical and Mechanic Repairs and Technologies            55,800.00   \n",
       "13                                        Engineering            86,539.67   \n",
       "14                           Engineering Technologies            76,409.06   \n",
       "15      English Language, Literature, and Composition            54,382.32   \n",
       "16                  Environment and Natural Resources            53,669.96   \n",
       "17                       Family and Consumer Sciences            43,092.12   \n",
       "18                                          Fine Arts            49,080.49   \n",
       "19                                            History            61,062.67   \n",
       "20  Interdisciplinary and Multi-Disciplinary Studi...            49,517.49   \n",
       "21                                                Law            56,878.48   \n",
       "22                        Liberal Arts and Humanities            53,878.33   \n",
       "23                                    Library Science            37,639.57   \n",
       "24                  Linguistics and Foreign Languages            49,279.43   \n",
       "25                         Mathematics and Statistics            72,585.53   \n",
       "26           Medical and Health Sciences and Services            56,161.70   \n",
       "27                              Military Technologies            97,692.31   \n",
       "28  Nuclear, Industrial Radiology, and Biological ...            68,394.12   \n",
       "29                   Philosophy and Religious Studies            52,606.65   \n",
       "30   Physical Fitness, Parks, Recreation, and Leisure            46,524.62   \n",
       "31                                  Physical Sciences            60,639.41   \n",
       "32                                         Psychology            47,638.22   \n",
       "33            Public Affairs, Policy, and Social Work            43,168.30   \n",
       "34                                    Social Sciences            69,607.03   \n",
       "35                   Theology and Religious Vocations            40,206.02   \n",
       "36           Transportation Sciences and Technologies            85,597.13   \n",
       "37                                        Grand Total         2,190,770.98   \n",
       "\n",
       "                   2018                 2019          Grand Total  \n",
       "0             55,517.87            61,388.93           174,512.49  \n",
       "1             71,344.26            75,609.81           215,597.67  \n",
       "2             56,155.89            60,997.54           171,153.36  \n",
       "3             50,004.54            53,463.29           152,319.74  \n",
       "4             76,724.07            79,608.39           231,146.40  \n",
       "5             53,303.00            56,882.68           160,816.25  \n",
       "6             63,458.16            66,997.75           191,767.47  \n",
       "7             87,552.61            91,321.98           262,357.00  \n",
       "8             85,776.30            91,583.25           262,460.84  \n",
       "9             45,696.22            48,408.92           136,322.92  \n",
       "10            55,066.12            58,901.82           169,042.77  \n",
       "11            42,375.70            43,116.07           126,478.66  \n",
       "12            53,429.09            68,582.61           177,811.70  \n",
       "13            88,357.25            92,494.18           267,391.10  \n",
       "14            82,113.75            80,312.52           238,835.33  \n",
       "15            57,100.39            58,348.57           169,831.29  \n",
       "16            53,782.21            55,281.43           162,733.60  \n",
       "17            41,403.79            43,822.54           128,318.45  \n",
       "18            50,773.49            53,039.55           152,893.52  \n",
       "19            63,660.09            63,289.47           188,012.23  \n",
       "20            49,623.83            53,218.48           152,359.81  \n",
       "21            53,846.43            54,520.82           165,245.73  \n",
       "22            56,419.95            55,781.48           166,079.75  \n",
       "23            39,932.26            31,651.85           109,223.68  \n",
       "24            51,656.69            54,595.54           155,531.65  \n",
       "25            72,475.08            79,448.61           224,509.21  \n",
       "26            56,629.55            58,422.98           171,214.23  \n",
       "27            35,450.00            68,378.95           201,521.26  \n",
       "28            58,165.66            73,974.77           200,534.55  \n",
       "29            58,121.85            62,256.74           172,985.25  \n",
       "30            47,221.76            49,787.21           143,533.58  \n",
       "31            60,521.14            62,937.46           184,098.02  \n",
       "32            48,163.51            49,589.13           145,390.86  \n",
       "33            43,126.21            45,354.10           131,648.61  \n",
       "34            70,888.92            74,486.24           214,982.18  \n",
       "35            43,079.05            45,420.39           128,705.46  \n",
       "36            91,686.88           100,554.88           277,838.89  \n",
       "37         2,170,603.55         2,323,830.96         6,685,205.49  "
      ]
     },
     "execution_count": 10,
     "metadata": {},
     "output_type": "execute_result"
    }
   ],
   "source": [
    "earnings_pivot_merge"
   ]
  },
  {
   "cell_type": "markdown",
   "metadata": {},
   "source": []
  },
  {
   "cell_type": "code",
   "execution_count": 11,
   "metadata": {},
   "outputs": [],
   "source": [
    "new_df = df.merge(earnings_pivot_merge, how='inner', on='major_category')"
   ]
  },
  {
   "cell_type": "code",
   "execution_count": 59,
   "metadata": {},
   "outputs": [
    {
     "data": {
      "text/plain": [
       "(71422, 125)"
      ]
     },
     "execution_count": 59,
     "metadata": {},
     "output_type": "execute_result"
    }
   ],
   "source": [
    "new_df.shape"
   ]
  },
  {
   "cell_type": "code",
   "execution_count": 12,
   "metadata": {},
   "outputs": [
    {
     "data": {
      "text/html": [
       "<div>\n",
       "<style scoped>\n",
       "    .dataframe tbody tr th:only-of-type {\n",
       "        vertical-align: middle;\n",
       "    }\n",
       "\n",
       "    .dataframe tbody tr th {\n",
       "        vertical-align: top;\n",
       "    }\n",
       "\n",
       "    .dataframe thead th {\n",
       "        text-align: right;\n",
       "    }\n",
       "</style>\n",
       "<table border=\"1\" class=\"dataframe\">\n",
       "  <thead>\n",
       "    <tr style=\"text-align: right;\">\n",
       "      <th></th>\n",
       "      <th>unit_id_institution</th>\n",
       "      <th>college_name</th>\n",
       "      <th>institution_control</th>\n",
       "      <th>state_post_code</th>\n",
       "      <th>zip_code</th>\n",
       "      <th>city</th>\n",
       "      <th>region_ipeds</th>\n",
       "      <th>title_IV_eligibility</th>\n",
       "      <th>pred_degree</th>\n",
       "      <th>pred_degree_0and4</th>\n",
       "      <th>...</th>\n",
       "      <th>deg_percent_awarded_visual_and_performing_arts</th>\n",
       "      <th>deg_percent_awarded_health</th>\n",
       "      <th>deg_percent_awarded_business_management</th>\n",
       "      <th>deg_percent_awarded_history</th>\n",
       "      <th>non_deg_seeking</th>\n",
       "      <th>major_category</th>\n",
       "      <th>2017</th>\n",
       "      <th>2018</th>\n",
       "      <th>2019</th>\n",
       "      <th>Grand Total</th>\n",
       "    </tr>\n",
       "  </thead>\n",
       "  <tbody>\n",
       "    <tr>\n",
       "      <th>0</th>\n",
       "      <td>100,654.00</td>\n",
       "      <td>Alabama A &amp; M University</td>\n",
       "      <td>Public</td>\n",
       "      <td>AL</td>\n",
       "      <td>35762</td>\n",
       "      <td>Normal</td>\n",
       "      <td>5.00</td>\n",
       "      <td>1.00</td>\n",
       "      <td>3.00</td>\n",
       "      <td>3.00</td>\n",
       "      <td>...</td>\n",
       "      <td>0.02</td>\n",
       "      <td>0.00</td>\n",
       "      <td>0.16</td>\n",
       "      <td>0.00</td>\n",
       "      <td>153.00</td>\n",
       "      <td>Agriculture</td>\n",
       "      <td>57,605.69</td>\n",
       "      <td>55,517.87</td>\n",
       "      <td>61,388.93</td>\n",
       "      <td>174,512.49</td>\n",
       "    </tr>\n",
       "    <tr>\n",
       "      <th>1</th>\n",
       "      <td>100,654.00</td>\n",
       "      <td>Alabama A &amp; M University</td>\n",
       "      <td>Public</td>\n",
       "      <td>AL</td>\n",
       "      <td>35762</td>\n",
       "      <td>Normal</td>\n",
       "      <td>5.00</td>\n",
       "      <td>1.00</td>\n",
       "      <td>3.00</td>\n",
       "      <td>3.00</td>\n",
       "      <td>...</td>\n",
       "      <td>0.02</td>\n",
       "      <td>0.00</td>\n",
       "      <td>0.16</td>\n",
       "      <td>0.00</td>\n",
       "      <td>153.00</td>\n",
       "      <td>Agriculture</td>\n",
       "      <td>57,605.69</td>\n",
       "      <td>55,517.87</td>\n",
       "      <td>61,388.93</td>\n",
       "      <td>174,512.49</td>\n",
       "    </tr>\n",
       "    <tr>\n",
       "      <th>2</th>\n",
       "      <td>100,858.00</td>\n",
       "      <td>Auburn University</td>\n",
       "      <td>Public</td>\n",
       "      <td>AL</td>\n",
       "      <td>36849</td>\n",
       "      <td>Auburn</td>\n",
       "      <td>5.00</td>\n",
       "      <td>1.00</td>\n",
       "      <td>3.00</td>\n",
       "      <td>3.00</td>\n",
       "      <td>...</td>\n",
       "      <td>0.03</td>\n",
       "      <td>0.06</td>\n",
       "      <td>0.23</td>\n",
       "      <td>0.01</td>\n",
       "      <td>481.00</td>\n",
       "      <td>Agriculture</td>\n",
       "      <td>57,605.69</td>\n",
       "      <td>55,517.87</td>\n",
       "      <td>61,388.93</td>\n",
       "      <td>174,512.49</td>\n",
       "    </tr>\n",
       "    <tr>\n",
       "      <th>3</th>\n",
       "      <td>100,858.00</td>\n",
       "      <td>Auburn University</td>\n",
       "      <td>Public</td>\n",
       "      <td>AL</td>\n",
       "      <td>36849</td>\n",
       "      <td>Auburn</td>\n",
       "      <td>5.00</td>\n",
       "      <td>1.00</td>\n",
       "      <td>3.00</td>\n",
       "      <td>3.00</td>\n",
       "      <td>...</td>\n",
       "      <td>0.03</td>\n",
       "      <td>0.06</td>\n",
       "      <td>0.23</td>\n",
       "      <td>0.01</td>\n",
       "      <td>481.00</td>\n",
       "      <td>Agriculture</td>\n",
       "      <td>57,605.69</td>\n",
       "      <td>55,517.87</td>\n",
       "      <td>61,388.93</td>\n",
       "      <td>174,512.49</td>\n",
       "    </tr>\n",
       "    <tr>\n",
       "      <th>4</th>\n",
       "      <td>101,541.00</td>\n",
       "      <td>Judson College</td>\n",
       "      <td>Private, nonprofit</td>\n",
       "      <td>AL</td>\n",
       "      <td>36756</td>\n",
       "      <td>Marion</td>\n",
       "      <td>5.00</td>\n",
       "      <td>1.00</td>\n",
       "      <td>3.00</td>\n",
       "      <td>3.00</td>\n",
       "      <td>...</td>\n",
       "      <td>0.07</td>\n",
       "      <td>0.24</td>\n",
       "      <td>0.10</td>\n",
       "      <td>0.04</td>\n",
       "      <td>9.00</td>\n",
       "      <td>Agriculture</td>\n",
       "      <td>57,605.69</td>\n",
       "      <td>55,517.87</td>\n",
       "      <td>61,388.93</td>\n",
       "      <td>174,512.49</td>\n",
       "    </tr>\n",
       "  </tbody>\n",
       "</table>\n",
       "<p>5 rows × 124 columns</p>\n",
       "</div>"
      ],
      "text/plain": [
       "   unit_id_institution              college_name institution_control  \\\n",
       "0           100,654.00  Alabama A & M University              Public   \n",
       "1           100,654.00  Alabama A & M University              Public   \n",
       "2           100,858.00         Auburn University              Public   \n",
       "3           100,858.00         Auburn University              Public   \n",
       "4           101,541.00            Judson College  Private, nonprofit   \n",
       "\n",
       "  state_post_code zip_code    city         region_ipeds  title_IV_eligibility  \\\n",
       "0              AL    35762  Normal                 5.00                  1.00   \n",
       "1              AL    35762  Normal                 5.00                  1.00   \n",
       "2              AL    36849  Auburn                 5.00                  1.00   \n",
       "3              AL    36849  Auburn                 5.00                  1.00   \n",
       "4              AL    36756  Marion                 5.00                  1.00   \n",
       "\n",
       "           pred_degree    pred_degree_0and4  ...  \\\n",
       "0                 3.00                 3.00  ...   \n",
       "1                 3.00                 3.00  ...   \n",
       "2                 3.00                 3.00  ...   \n",
       "3                 3.00                 3.00  ...   \n",
       "4                 3.00                 3.00  ...   \n",
       "\n",
       "  deg_percent_awarded_visual_and_performing_arts  deg_percent_awarded_health  \\\n",
       "0                                           0.02                        0.00   \n",
       "1                                           0.02                        0.00   \n",
       "2                                           0.03                        0.06   \n",
       "3                                           0.03                        0.06   \n",
       "4                                           0.07                        0.24   \n",
       "\n",
       "   deg_percent_awarded_business_management deg_percent_awarded_history  \\\n",
       "0                                     0.16                        0.00   \n",
       "1                                     0.16                        0.00   \n",
       "2                                     0.23                        0.01   \n",
       "3                                     0.23                        0.01   \n",
       "4                                     0.10                        0.04   \n",
       "\n",
       "       non_deg_seeking  major_category                 2017  \\\n",
       "0               153.00     Agriculture            57,605.69   \n",
       "1               153.00     Agriculture            57,605.69   \n",
       "2               481.00     Agriculture            57,605.69   \n",
       "3               481.00     Agriculture            57,605.69   \n",
       "4                 9.00     Agriculture            57,605.69   \n",
       "\n",
       "                  2018                 2019          Grand Total  \n",
       "0            55,517.87            61,388.93           174,512.49  \n",
       "1            55,517.87            61,388.93           174,512.49  \n",
       "2            55,517.87            61,388.93           174,512.49  \n",
       "3            55,517.87            61,388.93           174,512.49  \n",
       "4            55,517.87            61,388.93           174,512.49  \n",
       "\n",
       "[5 rows x 124 columns]"
      ]
     },
     "execution_count": 12,
     "metadata": {},
     "output_type": "execute_result"
    }
   ],
   "source": [
    "new_df.head()"
   ]
  },
  {
   "cell_type": "code",
   "execution_count": 13,
   "metadata": {},
   "outputs": [
    {
     "name": "stdout",
     "output_type": "stream",
     "text": [
      "<class 'pandas.core.frame.DataFrame'>\n",
      "Int64Index: 71422 entries, 0 to 71421\n",
      "Columns: 124 entries, unit_id_institution to Grand Total\n",
      "dtypes: float64(89), int64(2), object(33)\n",
      "memory usage: 68.1+ MB\n"
     ]
    }
   ],
   "source": [
    "new_df.info()"
   ]
  },
  {
   "cell_type": "code",
   "execution_count": 14,
   "metadata": {},
   "outputs": [],
   "source": [
    "# new_df.to_csv('merged_df.csv')"
   ]
  },
  {
   "cell_type": "code",
   "execution_count": 15,
   "metadata": {},
   "outputs": [
    {
     "data": {
      "text/plain": [
       "42789"
      ]
     },
     "execution_count": 15,
     "metadata": {},
     "output_type": "execute_result"
    }
   ],
   "source": [
    "new_df.avg_net_price_public.isnull().sum()"
   ]
  },
  {
   "cell_type": "code",
   "execution_count": 16,
   "metadata": {},
   "outputs": [
    {
     "data": {
      "text/plain": [
       "28633"
      ]
     },
     "execution_count": 16,
     "metadata": {},
     "output_type": "execute_result"
    }
   ],
   "source": [
    "71422 - 42789"
   ]
  },
  {
   "cell_type": "code",
   "execution_count": 17,
   "metadata": {},
   "outputs": [
    {
     "data": {
      "text/plain": [
       "33337"
      ]
     },
     "execution_count": 17,
     "metadata": {},
     "output_type": "execute_result"
    }
   ],
   "source": [
    "new_df.avg_net_price_private.isnull().sum()"
   ]
  },
  {
   "cell_type": "code",
   "execution_count": 18,
   "metadata": {},
   "outputs": [
    {
     "data": {
      "text/plain": [
       "15,020.00    153\n",
       "15,970.00    140\n",
       "30,996.00    138\n",
       "12,566.00    136\n",
       "17,704.00    125\n",
       "            ... \n",
       " 6,526.00      1\n",
       " 4,646.00      1\n",
       " 8,324.00      1\n",
       " 3,411.00      1\n",
       " 4,433.00      1\n",
       "Name: avg_net_price_public, Length: 759, dtype: int64"
      ]
     },
     "execution_count": 18,
     "metadata": {},
     "output_type": "execute_result"
    }
   ],
   "source": [
    "new_df.avg_net_price_public.value_counts()"
   ]
  },
  {
   "cell_type": "code",
   "execution_count": 19,
   "metadata": {},
   "outputs": [],
   "source": [
    "price_investigation = new_df.groupby(new_df['institution_control'])['avg_net_price_public'].value_counts()"
   ]
  },
  {
   "cell_type": "code",
   "execution_count": 20,
   "metadata": {},
   "outputs": [],
   "source": [
    "priv_price_investigation = new_df.groupby(new_df['institution_control'])['avg_net_price_private'].value_counts()"
   ]
  },
  {
   "cell_type": "code",
   "execution_count": 21,
   "metadata": {},
   "outputs": [
    {
     "name": "stdout",
     "output_type": "stream",
     "text": [
      "<class 'pandas.core.series.Series'>\n",
      "MultiIndex: 759 entries, ('Public', 15020.0) to ('Public', 44661.0)\n",
      "Series name: avg_net_price_public\n",
      "Non-Null Count  Dtype\n",
      "--------------  -----\n",
      "759 non-null    int64\n",
      "dtypes: int64(1)\n",
      "memory usage: 14.2+ KB\n"
     ]
    }
   ],
   "source": [
    "price_investigation.info()"
   ]
  },
  {
   "cell_type": "code",
   "execution_count": 22,
   "metadata": {},
   "outputs": [
    {
     "name": "stdout",
     "output_type": "stream",
     "text": [
      "<class 'pandas.core.series.Series'>\n",
      "MultiIndex: 1547 entries, ('Private, for-profit', 21197.0) to ('Public', 27000.0)\n",
      "Series name: avg_net_price_private\n",
      "Non-Null Count  Dtype\n",
      "--------------  -----\n",
      "1547 non-null   int64\n",
      "dtypes: int64(1)\n",
      "memory usage: 28.8+ KB\n"
     ]
    }
   ],
   "source": [
    "priv_price_investigation.info()"
   ]
  },
  {
   "cell_type": "code",
   "execution_count": 23,
   "metadata": {},
   "outputs": [],
   "source": [
    "price_investigation.to_csv('price_investigation.csv')"
   ]
  },
  {
   "cell_type": "code",
   "execution_count": 24,
   "metadata": {},
   "outputs": [],
   "source": [
    "priv_price_investigation.to_csv('priv_price_investigation.csv')"
   ]
  },
  {
   "cell_type": "code",
   "execution_count": 25,
   "metadata": {},
   "outputs": [],
   "source": [
    "# new_df.groupby(new_df['institution_control']=='Public')['avg_net_price_private'].value_counts()"
   ]
  },
  {
   "cell_type": "code",
   "execution_count": 26,
   "metadata": {},
   "outputs": [
    {
     "data": {
      "text/plain": [
       "0                        NaN\n",
       "1                        NaN\n",
       "2                        NaN\n",
       "3                        NaN\n",
       "4                  16,619.00\n",
       "                ...         \n",
       "71417                    NaN\n",
       "71418                    NaN\n",
       "71419              29,386.00\n",
       "71420              18,182.00\n",
       "71421                    NaN\n",
       "Name: avg_net_price_private, Length: 71422, dtype: float64"
      ]
     },
     "execution_count": 26,
     "metadata": {},
     "output_type": "execute_result"
    }
   ],
   "source": [
    "new_df.avg_net_price_private"
   ]
  },
  {
   "cell_type": "code",
   "execution_count": 27,
   "metadata": {},
   "outputs": [
    {
     "data": {
      "text/plain": [
       "71422"
      ]
     },
     "execution_count": 27,
     "metadata": {},
     "output_type": "execute_result"
    }
   ],
   "source": [
    "new_df.avg_net_price_program.isnull().sum()"
   ]
  },
  {
   "cell_type": "code",
   "execution_count": 28,
   "metadata": {},
   "outputs": [
    {
     "data": {
      "text/plain": [
       "71422"
      ]
     },
     "execution_count": 28,
     "metadata": {},
     "output_type": "execute_result"
    }
   ],
   "source": [
    "new_df.avg_net_price_other.isnull().sum()"
   ]
  },
  {
   "cell_type": "code",
   "execution_count": 29,
   "metadata": {},
   "outputs": [
    {
     "data": {
      "text/plain": [
       "0                  14,444.00\n",
       "1                  14,444.00\n",
       "2                  23,696.00\n",
       "3                  23,696.00\n",
       "4                        NaN\n",
       "                ...         \n",
       "71417              19,836.00\n",
       "71418              22,282.00\n",
       "71419                    NaN\n",
       "71420                    NaN\n",
       "71421              12,566.00\n",
       "Name: avg_net_price_public, Length: 71422, dtype: float64"
      ]
     },
     "execution_count": 29,
     "metadata": {},
     "output_type": "execute_result"
    }
   ],
   "source": [
    "new_df.avg_net_price_public"
   ]
  },
  {
   "cell_type": "code",
   "execution_count": 30,
   "metadata": {},
   "outputs": [],
   "source": [
    "# new_df.replace(to_replace=new_df['avg_net_price_public'] == 'NaN', value=None)"
   ]
  },
  {
   "cell_type": "code",
   "execution_count": 31,
   "metadata": {},
   "outputs": [
    {
     "data": {
      "text/plain": [
       "0                  14,444.00\n",
       "1                  14,444.00\n",
       "2                  23,696.00\n",
       "3                  23,696.00\n",
       "4                        NaN\n",
       "                ...         \n",
       "71417              19,836.00\n",
       "71418              22,282.00\n",
       "71419                    NaN\n",
       "71420                    NaN\n",
       "71421              12,566.00\n",
       "Name: avg_net_price_public, Length: 71422, dtype: float64"
      ]
     },
     "execution_count": 31,
     "metadata": {},
     "output_type": "execute_result"
    }
   ],
   "source": [
    "new_df.avg_net_price_public"
   ]
  },
  {
   "cell_type": "markdown",
   "metadata": {},
   "source": [
    "For sake of expedition, we are not completing individual application of joining avg_net_price columns.\n",
    "Instead, Chenchen is uploading her new csv file with appropriate changes to the Google Drive so we can press forward with exploration."
   ]
  },
  {
   "cell_type": "code",
   "execution_count": 2,
   "metadata": {},
   "outputs": [],
   "source": [
    "explore_df = pd.read_csv('merged_df_with_avg_price.csv')"
   ]
  },
  {
   "cell_type": "code",
   "execution_count": 40,
   "metadata": {},
   "outputs": [
    {
     "name": "stdout",
     "output_type": "stream",
     "text": [
      "<class 'pandas.core.frame.DataFrame'>\n",
      "RangeIndex: 71422 entries, 0 to 71421\n",
      "Columns: 126 entries, Unnamed: 0 to avg_net_price\n",
      "dtypes: float64(115), int64(3), object(8)\n",
      "memory usage: 68.7+ MB\n"
     ]
    }
   ],
   "source": [
    "explore_df.info()"
   ]
  },
  {
   "cell_type": "code",
   "execution_count": 41,
   "metadata": {},
   "outputs": [
    {
     "data": {
      "text/html": [
       "<div>\n",
       "<style scoped>\n",
       "    .dataframe tbody tr th:only-of-type {\n",
       "        vertical-align: middle;\n",
       "    }\n",
       "\n",
       "    .dataframe tbody tr th {\n",
       "        vertical-align: top;\n",
       "    }\n",
       "\n",
       "    .dataframe thead th {\n",
       "        text-align: right;\n",
       "    }\n",
       "</style>\n",
       "<table border=\"1\" class=\"dataframe\">\n",
       "  <thead>\n",
       "    <tr style=\"text-align: right;\">\n",
       "      <th></th>\n",
       "      <th>Unnamed: 0</th>\n",
       "      <th>unit_id_institution</th>\n",
       "      <th>college_name</th>\n",
       "      <th>institution_control</th>\n",
       "      <th>state_post_code</th>\n",
       "      <th>zip_code</th>\n",
       "      <th>city</th>\n",
       "      <th>region_ipeds</th>\n",
       "      <th>title_IV_eligibility</th>\n",
       "      <th>pred_degree</th>\n",
       "      <th>...</th>\n",
       "      <th>deg_percent_awarded_health</th>\n",
       "      <th>deg_percent_awarded_business_management</th>\n",
       "      <th>deg_percent_awarded_history.1</th>\n",
       "      <th>non_deg_seeking</th>\n",
       "      <th>major_category</th>\n",
       "      <th>2017</th>\n",
       "      <th>2018</th>\n",
       "      <th>2019</th>\n",
       "      <th>Grand Total</th>\n",
       "      <th>avg_net_price</th>\n",
       "    </tr>\n",
       "  </thead>\n",
       "  <tbody>\n",
       "    <tr>\n",
       "      <th>0</th>\n",
       "      <td>0</td>\n",
       "      <td>100,654.00</td>\n",
       "      <td>Alabama A &amp; M University</td>\n",
       "      <td>Public</td>\n",
       "      <td>AL</td>\n",
       "      <td>35762</td>\n",
       "      <td>Normal</td>\n",
       "      <td>5.00</td>\n",
       "      <td>1.00</td>\n",
       "      <td>3.00</td>\n",
       "      <td>...</td>\n",
       "      <td>0.00</td>\n",
       "      <td>0.16</td>\n",
       "      <td>0.00</td>\n",
       "      <td>153.00</td>\n",
       "      <td>Agriculture</td>\n",
       "      <td>57,605.69</td>\n",
       "      <td>55,517.87</td>\n",
       "      <td>61,388.93</td>\n",
       "      <td>174,512.49</td>\n",
       "      <td>14,444.00</td>\n",
       "    </tr>\n",
       "    <tr>\n",
       "      <th>1</th>\n",
       "      <td>1</td>\n",
       "      <td>100,654.00</td>\n",
       "      <td>Alabama A &amp; M University</td>\n",
       "      <td>Public</td>\n",
       "      <td>AL</td>\n",
       "      <td>35762</td>\n",
       "      <td>Normal</td>\n",
       "      <td>5.00</td>\n",
       "      <td>1.00</td>\n",
       "      <td>3.00</td>\n",
       "      <td>...</td>\n",
       "      <td>0.00</td>\n",
       "      <td>0.16</td>\n",
       "      <td>0.00</td>\n",
       "      <td>153.00</td>\n",
       "      <td>Agriculture</td>\n",
       "      <td>57,605.69</td>\n",
       "      <td>55,517.87</td>\n",
       "      <td>61,388.93</td>\n",
       "      <td>174,512.49</td>\n",
       "      <td>14,444.00</td>\n",
       "    </tr>\n",
       "    <tr>\n",
       "      <th>2</th>\n",
       "      <td>2</td>\n",
       "      <td>100,858.00</td>\n",
       "      <td>Auburn University</td>\n",
       "      <td>Public</td>\n",
       "      <td>AL</td>\n",
       "      <td>36849</td>\n",
       "      <td>Auburn</td>\n",
       "      <td>5.00</td>\n",
       "      <td>1.00</td>\n",
       "      <td>3.00</td>\n",
       "      <td>...</td>\n",
       "      <td>0.06</td>\n",
       "      <td>0.23</td>\n",
       "      <td>0.01</td>\n",
       "      <td>481.00</td>\n",
       "      <td>Agriculture</td>\n",
       "      <td>57,605.69</td>\n",
       "      <td>55,517.87</td>\n",
       "      <td>61,388.93</td>\n",
       "      <td>174,512.49</td>\n",
       "      <td>23,696.00</td>\n",
       "    </tr>\n",
       "    <tr>\n",
       "      <th>3</th>\n",
       "      <td>3</td>\n",
       "      <td>100,858.00</td>\n",
       "      <td>Auburn University</td>\n",
       "      <td>Public</td>\n",
       "      <td>AL</td>\n",
       "      <td>36849</td>\n",
       "      <td>Auburn</td>\n",
       "      <td>5.00</td>\n",
       "      <td>1.00</td>\n",
       "      <td>3.00</td>\n",
       "      <td>...</td>\n",
       "      <td>0.06</td>\n",
       "      <td>0.23</td>\n",
       "      <td>0.01</td>\n",
       "      <td>481.00</td>\n",
       "      <td>Agriculture</td>\n",
       "      <td>57,605.69</td>\n",
       "      <td>55,517.87</td>\n",
       "      <td>61,388.93</td>\n",
       "      <td>174,512.49</td>\n",
       "      <td>23,696.00</td>\n",
       "    </tr>\n",
       "    <tr>\n",
       "      <th>4</th>\n",
       "      <td>4</td>\n",
       "      <td>101,541.00</td>\n",
       "      <td>Judson College</td>\n",
       "      <td>Private, nonprofit</td>\n",
       "      <td>AL</td>\n",
       "      <td>36756</td>\n",
       "      <td>Marion</td>\n",
       "      <td>5.00</td>\n",
       "      <td>1.00</td>\n",
       "      <td>3.00</td>\n",
       "      <td>...</td>\n",
       "      <td>0.24</td>\n",
       "      <td>0.10</td>\n",
       "      <td>0.04</td>\n",
       "      <td>9.00</td>\n",
       "      <td>Agriculture</td>\n",
       "      <td>57,605.69</td>\n",
       "      <td>55,517.87</td>\n",
       "      <td>61,388.93</td>\n",
       "      <td>174,512.49</td>\n",
       "      <td>16,619.00</td>\n",
       "    </tr>\n",
       "  </tbody>\n",
       "</table>\n",
       "<p>5 rows × 126 columns</p>\n",
       "</div>"
      ],
      "text/plain": [
       "   Unnamed: 0  unit_id_institution              college_name  \\\n",
       "0           0           100,654.00  Alabama A & M University   \n",
       "1           1           100,654.00  Alabama A & M University   \n",
       "2           2           100,858.00         Auburn University   \n",
       "3           3           100,858.00         Auburn University   \n",
       "4           4           101,541.00            Judson College   \n",
       "\n",
       "  institution_control state_post_code zip_code    city         region_ipeds  \\\n",
       "0              Public              AL    35762  Normal                 5.00   \n",
       "1              Public              AL    35762  Normal                 5.00   \n",
       "2              Public              AL    36849  Auburn                 5.00   \n",
       "3              Public              AL    36849  Auburn                 5.00   \n",
       "4  Private, nonprofit              AL    36756  Marion                 5.00   \n",
       "\n",
       "   title_IV_eligibility          pred_degree  ...  deg_percent_awarded_health  \\\n",
       "0                  1.00                 3.00  ...                        0.00   \n",
       "1                  1.00                 3.00  ...                        0.00   \n",
       "2                  1.00                 3.00  ...                        0.06   \n",
       "3                  1.00                 3.00  ...                        0.06   \n",
       "4                  1.00                 3.00  ...                        0.24   \n",
       "\n",
       "  deg_percent_awarded_business_management  deg_percent_awarded_history.1  \\\n",
       "0                                    0.16                           0.00   \n",
       "1                                    0.16                           0.00   \n",
       "2                                    0.23                           0.01   \n",
       "3                                    0.23                           0.01   \n",
       "4                                    0.10                           0.04   \n",
       "\n",
       "       non_deg_seeking major_category                 2017  \\\n",
       "0               153.00    Agriculture            57,605.69   \n",
       "1               153.00    Agriculture            57,605.69   \n",
       "2               481.00    Agriculture            57,605.69   \n",
       "3               481.00    Agriculture            57,605.69   \n",
       "4                 9.00    Agriculture            57,605.69   \n",
       "\n",
       "                  2018                 2019          Grand Total  \\\n",
       "0            55,517.87            61,388.93           174,512.49   \n",
       "1            55,517.87            61,388.93           174,512.49   \n",
       "2            55,517.87            61,388.93           174,512.49   \n",
       "3            55,517.87            61,388.93           174,512.49   \n",
       "4            55,517.87            61,388.93           174,512.49   \n",
       "\n",
       "         avg_net_price  \n",
       "0            14,444.00  \n",
       "1            14,444.00  \n",
       "2            23,696.00  \n",
       "3            23,696.00  \n",
       "4            16,619.00  \n",
       "\n",
       "[5 rows x 126 columns]"
      ]
     },
     "execution_count": 41,
     "metadata": {},
     "output_type": "execute_result"
    }
   ],
   "source": [
    "explore_df.head()"
   ]
  },
  {
   "cell_type": "markdown",
   "metadata": {},
   "source": [
    "# _______________________________________________________________________________________________ #\n",
    "## ROI Target Variable Feature Engineering\n",
    "Creating the ROI formula to create new column with ROI value for each college/major"
   ]
  },
  {
   "cell_type": "markdown",
   "metadata": {},
   "source": [
    "**Formula:**\n",
    "ROI =[ 10-yr earnings by degree ] - [College Cost (tuition,fees,books) + Counter Earnings(14-yr earnings of HS diploma ]"
   ]
  },
  {
   "cell_type": "markdown",
   "metadata": {},
   "source": [
    "# _________________________________ #\n",
    "##### 5-yr ROI"
   ]
  },
  {
   "cell_type": "code",
   "execution_count": 3,
   "metadata": {},
   "outputs": [],
   "source": [
    "median_earnings_by_degree_5yr = (explore_df['2017'] + explore_df['2018'] + explore_df['2019'] + explore_df['2019']*1.02 + (explore_df['2019']*1.02)*1.02)"
   ]
  },
  {
   "cell_type": "code",
   "execution_count": 4,
   "metadata": {},
   "outputs": [],
   "source": [
    "net_college_cost = explore_df['avg_net_price']"
   ]
  },
  {
   "cell_type": "code",
   "execution_count": 5,
   "metadata": {},
   "outputs": [],
   "source": [
    "\n",
    "counter_earnings_5yr = (39070*9)"
   ]
  },
  {
   "cell_type": "code",
   "execution_count": 6,
   "metadata": {},
   "outputs": [],
   "source": [
    "explore_df['roi_5yr'] = median_earnings_by_degree_5yr - (net_college_cost+counter_earnings_5yr)"
   ]
  },
  {
   "cell_type": "code",
   "execution_count": 7,
   "metadata": {},
   "outputs": [
    {
     "data": {
      "text/plain": [
       "0                 -65,075.75\n",
       "1                 -65,075.75\n",
       "2                 -74,327.75\n",
       "3                 -74,327.75\n",
       "4                 -67,250.75\n",
       "                ...         \n",
       "71417            -197,026.85\n",
       "71418            -199,472.85\n",
       "71419            -206,576.85\n",
       "71420            -195,372.85\n",
       "71421            -189,756.85\n",
       "Name: roi_5yr, Length: 71422, dtype: float64"
      ]
     },
     "execution_count": 7,
     "metadata": {},
     "output_type": "execute_result"
    }
   ],
   "source": [
    "explore_df['roi_5yr']"
   ]
  },
  {
   "cell_type": "code",
   "execution_count": null,
   "metadata": {},
   "outputs": [],
   "source": []
  },
  {
   "cell_type": "markdown",
   "metadata": {},
   "source": [
    "# _________________________________ #\n",
    "##### 10-yr ROI"
   ]
  },
  {
   "cell_type": "code",
   "execution_count": 8,
   "metadata": {},
   "outputs": [],
   "source": [
    "median_earnings_by_degree_10yr = (explore_df['2017'] + explore_df['2018'] + explore_df['2019'] + explore_df['2019']*1.02 + (explore_df['2019']*1.02)*1.02) + ((explore_df['2019']*1.02)*1.02)*1.02 + (((explore_df['2019']*1.02)*1.02)*1.02)*1.02 + ((((explore_df['2019']*1.02)*1.02)*1.02)*1.02)*1.02 + (((((explore_df['2019']*1.02)*1.02)*1.02)*1.02)*1.02)*1.02 + ((((((explore_df['2019']*1.02)*1.02)*1.02)*1.02)*1.02)*1.02)*1.02"
   ]
  },
  {
   "cell_type": "code",
   "execution_count": 9,
   "metadata": {},
   "outputs": [],
   "source": [
    "# net_college_cost = explore_df['avg_net_price']"
   ]
  },
  {
   "cell_type": "code",
   "execution_count": 10,
   "metadata": {},
   "outputs": [],
   "source": [
    "\n",
    "counter_earnings_10yr = (39070*14)"
   ]
  },
  {
   "cell_type": "code",
   "execution_count": 11,
   "metadata": {},
   "outputs": [],
   "source": [
    "explore_df['roi_10yr'] = median_earnings_by_degree_10yr - (net_college_cost+counter_earnings_10yr)"
   ]
  },
  {
   "cell_type": "code",
   "execution_count": 12,
   "metadata": {},
   "outputs": [
    {
     "data": {
      "text/plain": [
       "0                  78,598.88\n",
       "1                  78,598.88\n",
       "2                  69,346.88\n",
       "3                  69,346.88\n",
       "4                  76,423.88\n",
       "                ...         \n",
       "71417            -217,577.31\n",
       "71418            -220,023.31\n",
       "71419            -227,127.31\n",
       "71420            -215,923.31\n",
       "71421            -210,307.31\n",
       "Name: roi_10yr, Length: 71422, dtype: float64"
      ]
     },
     "execution_count": 12,
     "metadata": {},
     "output_type": "execute_result"
    }
   ],
   "source": [
    "explore_df['roi_10yr']"
   ]
  },
  {
   "cell_type": "code",
   "execution_count": 13,
   "metadata": {},
   "outputs": [
    {
     "data": {
      "text/plain": [
       " 287,834.37    828\n",
       "  67,253.91    469\n",
       " 407,868.78    426\n",
       "   8,110.75    385\n",
       " 232,829.01    260\n",
       "              ... \n",
       " -38,878.57      1\n",
       " -30,333.57      1\n",
       " -48,016.57      1\n",
       " -50,257.57      1\n",
       "-210,307.31      1\n",
       "Name: roi_10yr, Length: 30287, dtype: int64"
      ]
     },
     "execution_count": 13,
     "metadata": {},
     "output_type": "execute_result"
    }
   ],
   "source": [
    "explore_df['roi_10yr'].value_counts()"
   ]
  },
  {
   "cell_type": "code",
   "execution_count": 14,
   "metadata": {},
   "outputs": [
    {
     "data": {
      "text/plain": [
       "(71422, 128)"
      ]
     },
     "execution_count": 14,
     "metadata": {},
     "output_type": "execute_result"
    }
   ],
   "source": [
    "explore_df.shape"
   ]
  },
  {
   "cell_type": "code",
   "execution_count": 15,
   "metadata": {},
   "outputs": [
    {
     "data": {
      "text/html": [
       "<div>\n",
       "<style scoped>\n",
       "    .dataframe tbody tr th:only-of-type {\n",
       "        vertical-align: middle;\n",
       "    }\n",
       "\n",
       "    .dataframe tbody tr th {\n",
       "        vertical-align: top;\n",
       "    }\n",
       "\n",
       "    .dataframe thead th {\n",
       "        text-align: right;\n",
       "    }\n",
       "</style>\n",
       "<table border=\"1\" class=\"dataframe\">\n",
       "  <thead>\n",
       "    <tr style=\"text-align: right;\">\n",
       "      <th></th>\n",
       "      <th>Unnamed: 0</th>\n",
       "      <th>unit_id_institution</th>\n",
       "      <th>college_name</th>\n",
       "      <th>institution_control</th>\n",
       "      <th>state_post_code</th>\n",
       "      <th>zip_code</th>\n",
       "      <th>city</th>\n",
       "      <th>region_ipeds</th>\n",
       "      <th>title_IV_eligibility</th>\n",
       "      <th>pred_degree</th>\n",
       "      <th>...</th>\n",
       "      <th>deg_percent_awarded_history.1</th>\n",
       "      <th>non_deg_seeking</th>\n",
       "      <th>major_category</th>\n",
       "      <th>2017</th>\n",
       "      <th>2018</th>\n",
       "      <th>2019</th>\n",
       "      <th>Grand Total</th>\n",
       "      <th>avg_net_price</th>\n",
       "      <th>roi_5yr</th>\n",
       "      <th>roi_10yr</th>\n",
       "    </tr>\n",
       "  </thead>\n",
       "  <tbody>\n",
       "    <tr>\n",
       "      <th>0</th>\n",
       "      <td>0</td>\n",
       "      <td>100,654.00</td>\n",
       "      <td>Alabama A &amp; M University</td>\n",
       "      <td>Public</td>\n",
       "      <td>AL</td>\n",
       "      <td>35762</td>\n",
       "      <td>Normal</td>\n",
       "      <td>5.00</td>\n",
       "      <td>1.00</td>\n",
       "      <td>3.00</td>\n",
       "      <td>...</td>\n",
       "      <td>0.00</td>\n",
       "      <td>153.00</td>\n",
       "      <td>Agriculture</td>\n",
       "      <td>57,605.69</td>\n",
       "      <td>55,517.87</td>\n",
       "      <td>61,388.93</td>\n",
       "      <td>174,512.49</td>\n",
       "      <td>14,444.00</td>\n",
       "      <td>-65,075.75</td>\n",
       "      <td>78,598.88</td>\n",
       "    </tr>\n",
       "    <tr>\n",
       "      <th>1</th>\n",
       "      <td>1</td>\n",
       "      <td>100,654.00</td>\n",
       "      <td>Alabama A &amp; M University</td>\n",
       "      <td>Public</td>\n",
       "      <td>AL</td>\n",
       "      <td>35762</td>\n",
       "      <td>Normal</td>\n",
       "      <td>5.00</td>\n",
       "      <td>1.00</td>\n",
       "      <td>3.00</td>\n",
       "      <td>...</td>\n",
       "      <td>0.00</td>\n",
       "      <td>153.00</td>\n",
       "      <td>Agriculture</td>\n",
       "      <td>57,605.69</td>\n",
       "      <td>55,517.87</td>\n",
       "      <td>61,388.93</td>\n",
       "      <td>174,512.49</td>\n",
       "      <td>14,444.00</td>\n",
       "      <td>-65,075.75</td>\n",
       "      <td>78,598.88</td>\n",
       "    </tr>\n",
       "    <tr>\n",
       "      <th>2</th>\n",
       "      <td>2</td>\n",
       "      <td>100,858.00</td>\n",
       "      <td>Auburn University</td>\n",
       "      <td>Public</td>\n",
       "      <td>AL</td>\n",
       "      <td>36849</td>\n",
       "      <td>Auburn</td>\n",
       "      <td>5.00</td>\n",
       "      <td>1.00</td>\n",
       "      <td>3.00</td>\n",
       "      <td>...</td>\n",
       "      <td>0.01</td>\n",
       "      <td>481.00</td>\n",
       "      <td>Agriculture</td>\n",
       "      <td>57,605.69</td>\n",
       "      <td>55,517.87</td>\n",
       "      <td>61,388.93</td>\n",
       "      <td>174,512.49</td>\n",
       "      <td>23,696.00</td>\n",
       "      <td>-74,327.75</td>\n",
       "      <td>69,346.88</td>\n",
       "    </tr>\n",
       "    <tr>\n",
       "      <th>3</th>\n",
       "      <td>3</td>\n",
       "      <td>100,858.00</td>\n",
       "      <td>Auburn University</td>\n",
       "      <td>Public</td>\n",
       "      <td>AL</td>\n",
       "      <td>36849</td>\n",
       "      <td>Auburn</td>\n",
       "      <td>5.00</td>\n",
       "      <td>1.00</td>\n",
       "      <td>3.00</td>\n",
       "      <td>...</td>\n",
       "      <td>0.01</td>\n",
       "      <td>481.00</td>\n",
       "      <td>Agriculture</td>\n",
       "      <td>57,605.69</td>\n",
       "      <td>55,517.87</td>\n",
       "      <td>61,388.93</td>\n",
       "      <td>174,512.49</td>\n",
       "      <td>23,696.00</td>\n",
       "      <td>-74,327.75</td>\n",
       "      <td>69,346.88</td>\n",
       "    </tr>\n",
       "    <tr>\n",
       "      <th>4</th>\n",
       "      <td>4</td>\n",
       "      <td>101,541.00</td>\n",
       "      <td>Judson College</td>\n",
       "      <td>Private, nonprofit</td>\n",
       "      <td>AL</td>\n",
       "      <td>36756</td>\n",
       "      <td>Marion</td>\n",
       "      <td>5.00</td>\n",
       "      <td>1.00</td>\n",
       "      <td>3.00</td>\n",
       "      <td>...</td>\n",
       "      <td>0.04</td>\n",
       "      <td>9.00</td>\n",
       "      <td>Agriculture</td>\n",
       "      <td>57,605.69</td>\n",
       "      <td>55,517.87</td>\n",
       "      <td>61,388.93</td>\n",
       "      <td>174,512.49</td>\n",
       "      <td>16,619.00</td>\n",
       "      <td>-67,250.75</td>\n",
       "      <td>76,423.88</td>\n",
       "    </tr>\n",
       "  </tbody>\n",
       "</table>\n",
       "<p>5 rows × 128 columns</p>\n",
       "</div>"
      ],
      "text/plain": [
       "   Unnamed: 0  unit_id_institution              college_name  \\\n",
       "0           0           100,654.00  Alabama A & M University   \n",
       "1           1           100,654.00  Alabama A & M University   \n",
       "2           2           100,858.00         Auburn University   \n",
       "3           3           100,858.00         Auburn University   \n",
       "4           4           101,541.00            Judson College   \n",
       "\n",
       "  institution_control state_post_code zip_code    city         region_ipeds  \\\n",
       "0              Public              AL    35762  Normal                 5.00   \n",
       "1              Public              AL    35762  Normal                 5.00   \n",
       "2              Public              AL    36849  Auburn                 5.00   \n",
       "3              Public              AL    36849  Auburn                 5.00   \n",
       "4  Private, nonprofit              AL    36756  Marion                 5.00   \n",
       "\n",
       "   title_IV_eligibility          pred_degree  ...  \\\n",
       "0                  1.00                 3.00  ...   \n",
       "1                  1.00                 3.00  ...   \n",
       "2                  1.00                 3.00  ...   \n",
       "3                  1.00                 3.00  ...   \n",
       "4                  1.00                 3.00  ...   \n",
       "\n",
       "   deg_percent_awarded_history.1      non_deg_seeking  major_category  \\\n",
       "0                           0.00               153.00     Agriculture   \n",
       "1                           0.00               153.00     Agriculture   \n",
       "2                           0.01               481.00     Agriculture   \n",
       "3                           0.01               481.00     Agriculture   \n",
       "4                           0.04                 9.00     Agriculture   \n",
       "\n",
       "                  2017                 2018                 2019  \\\n",
       "0            57,605.69            55,517.87            61,388.93   \n",
       "1            57,605.69            55,517.87            61,388.93   \n",
       "2            57,605.69            55,517.87            61,388.93   \n",
       "3            57,605.69            55,517.87            61,388.93   \n",
       "4            57,605.69            55,517.87            61,388.93   \n",
       "\n",
       "           Grand Total        avg_net_price              roi_5yr  \\\n",
       "0           174,512.49            14,444.00           -65,075.75   \n",
       "1           174,512.49            14,444.00           -65,075.75   \n",
       "2           174,512.49            23,696.00           -74,327.75   \n",
       "3           174,512.49            23,696.00           -74,327.75   \n",
       "4           174,512.49            16,619.00           -67,250.75   \n",
       "\n",
       "              roi_10yr  \n",
       "0            78,598.88  \n",
       "1            78,598.88  \n",
       "2            69,346.88  \n",
       "3            69,346.88  \n",
       "4            76,423.88  \n",
       "\n",
       "[5 rows x 128 columns]"
      ]
     },
     "execution_count": 15,
     "metadata": {},
     "output_type": "execute_result"
    }
   ],
   "source": [
    "explore_df.head()"
   ]
  },
  {
   "cell_type": "code",
   "execution_count": 16,
   "metadata": {},
   "outputs": [
    {
     "data": {
      "text/plain": [
       "866.0209999999998"
      ]
     },
     "execution_count": 16,
     "metadata": {},
     "output_type": "execute_result"
    }
   ],
   "source": [
    "explore_df['deg_percent_awarded_history.1'].sum()"
   ]
  },
  {
   "cell_type": "code",
   "execution_count": 17,
   "metadata": {},
   "outputs": [
    {
     "data": {
      "text/plain": [
       "unit_id_institution\n",
       "100,654.00                   0.00\n",
       "100,663.00                   0.46\n",
       "100,690.00                   0.00\n",
       "100,706.00                   0.41\n",
       "100,724.00                   0.14\n",
       "                     ...         \n",
       "494,287.00                   0.00\n",
       "494,630.00                   0.00\n",
       "494,685.00                   0.00\n",
       "494,737.00                   0.00\n",
       "494,807.00                   0.00\n",
       "Name: deg_percent_awarded_history.1, Length: 2706, dtype: float64"
      ]
     },
     "execution_count": 17,
     "metadata": {},
     "output_type": "execute_result"
    }
   ],
   "source": [
    "explore_df.groupby(explore_df['unit_id_institution'])['deg_percent_awarded_history.1'].sum()"
   ]
  },
  {
   "cell_type": "code",
   "execution_count": 18,
   "metadata": {},
   "outputs": [
    {
     "data": {
      "text/plain": [
       "0                       0.12\n",
       "1                       0.12\n",
       "2                       0.19\n",
       "3                       0.19\n",
       "4                       0.00\n",
       "                ...         \n",
       "71417                   0.00\n",
       "71418                   0.00\n",
       "71419                   0.00\n",
       "71420                   0.00\n",
       "71421                   0.10\n",
       "Name: deg_percent_awarded_engineering, Length: 71422, dtype: float64"
      ]
     },
     "execution_count": 18,
     "metadata": {},
     "output_type": "execute_result"
    }
   ],
   "source": [
    "explore_df.deg_percent_awarded_engineering"
   ]
  },
  {
   "cell_type": "code",
   "execution_count": 19,
   "metadata": {},
   "outputs": [
    {
     "data": {
      "text/html": [
       "<div>\n",
       "<style scoped>\n",
       "    .dataframe tbody tr th:only-of-type {\n",
       "        vertical-align: middle;\n",
       "    }\n",
       "\n",
       "    .dataframe tbody tr th {\n",
       "        vertical-align: top;\n",
       "    }\n",
       "\n",
       "    .dataframe thead th {\n",
       "        text-align: right;\n",
       "    }\n",
       "</style>\n",
       "<table border=\"1\" class=\"dataframe\">\n",
       "  <thead>\n",
       "    <tr style=\"text-align: right;\">\n",
       "      <th></th>\n",
       "      <th>sum</th>\n",
       "      <th>mean</th>\n",
       "      <th>median</th>\n",
       "    </tr>\n",
       "    <tr>\n",
       "      <th>college_name</th>\n",
       "      <th></th>\n",
       "      <th></th>\n",
       "      <th></th>\n",
       "    </tr>\n",
       "  </thead>\n",
       "  <tbody>\n",
       "    <tr>\n",
       "      <th>AI Miami International University of Art and Design</th>\n",
       "      <td>0.00</td>\n",
       "      <td>0.00</td>\n",
       "      <td>0.00</td>\n",
       "    </tr>\n",
       "    <tr>\n",
       "      <th>ASA College</th>\n",
       "      <td>0.00</td>\n",
       "      <td>0.00</td>\n",
       "      <td>0.00</td>\n",
       "    </tr>\n",
       "    <tr>\n",
       "      <th>ATA College</th>\n",
       "      <td>0.00</td>\n",
       "      <td>0.00</td>\n",
       "      <td>0.00</td>\n",
       "    </tr>\n",
       "    <tr>\n",
       "      <th>ATI College-Norwalk</th>\n",
       "      <td>0.00</td>\n",
       "      <td>0.00</td>\n",
       "      <td>0.00</td>\n",
       "    </tr>\n",
       "    <tr>\n",
       "      <th>Aarhus University</th>\n",
       "      <td>0.00</td>\n",
       "      <td>NaN</td>\n",
       "      <td>NaN</td>\n",
       "    </tr>\n",
       "    <tr>\n",
       "      <th>...</th>\n",
       "      <td>...</td>\n",
       "      <td>...</td>\n",
       "      <td>...</td>\n",
       "    </tr>\n",
       "    <tr>\n",
       "      <th>York College of Pennsylvania</th>\n",
       "      <td>3.02</td>\n",
       "      <td>0.06</td>\n",
       "      <td>0.06</td>\n",
       "    </tr>\n",
       "    <tr>\n",
       "      <th>York St John University</th>\n",
       "      <td>0.00</td>\n",
       "      <td>NaN</td>\n",
       "      <td>NaN</td>\n",
       "    </tr>\n",
       "    <tr>\n",
       "      <th>York University</th>\n",
       "      <td>0.00</td>\n",
       "      <td>NaN</td>\n",
       "      <td>NaN</td>\n",
       "    </tr>\n",
       "    <tr>\n",
       "      <th>Young Harris College</th>\n",
       "      <td>0.00</td>\n",
       "      <td>0.00</td>\n",
       "      <td>0.00</td>\n",
       "    </tr>\n",
       "    <tr>\n",
       "      <th>Youngstown State University</th>\n",
       "      <td>7.87</td>\n",
       "      <td>0.10</td>\n",
       "      <td>0.10</td>\n",
       "    </tr>\n",
       "  </tbody>\n",
       "</table>\n",
       "<p>3002 rows × 3 columns</p>\n",
       "</div>"
      ],
      "text/plain": [
       "                                                                    sum  \\\n",
       "college_name                                                              \n",
       "AI Miami International University of Art and De...                 0.00   \n",
       "ASA College                                                        0.00   \n",
       "ATA College                                                        0.00   \n",
       "ATI College-Norwalk                                                0.00   \n",
       "Aarhus University                                                  0.00   \n",
       "...                                                                 ...   \n",
       "York College of Pennsylvania                                       3.02   \n",
       "York St John University                                            0.00   \n",
       "York University                                                    0.00   \n",
       "Young Harris College                                               0.00   \n",
       "Youngstown State University                                        7.87   \n",
       "\n",
       "                                                                   mean  \\\n",
       "college_name                                                              \n",
       "AI Miami International University of Art and De...                 0.00   \n",
       "ASA College                                                        0.00   \n",
       "ATA College                                                        0.00   \n",
       "ATI College-Norwalk                                                0.00   \n",
       "Aarhus University                                                   NaN   \n",
       "...                                                                 ...   \n",
       "York College of Pennsylvania                                       0.06   \n",
       "York St John University                                             NaN   \n",
       "York University                                                     NaN   \n",
       "Young Harris College                                               0.00   \n",
       "Youngstown State University                                        0.10   \n",
       "\n",
       "                                                                 median  \n",
       "college_name                                                             \n",
       "AI Miami International University of Art and De...                 0.00  \n",
       "ASA College                                                        0.00  \n",
       "ATA College                                                        0.00  \n",
       "ATI College-Norwalk                                                0.00  \n",
       "Aarhus University                                                   NaN  \n",
       "...                                                                 ...  \n",
       "York College of Pennsylvania                                       0.06  \n",
       "York St John University                                             NaN  \n",
       "York University                                                     NaN  \n",
       "Young Harris College                                               0.00  \n",
       "Youngstown State University                                        0.10  \n",
       "\n",
       "[3002 rows x 3 columns]"
      ]
     },
     "execution_count": 19,
     "metadata": {},
     "output_type": "execute_result"
    }
   ],
   "source": [
    "explore_df.groupby(explore_df['college_name'])['deg_percent_awarded_engineering'].agg([sum, 'mean', 'median'], axis=1)"
   ]
  },
  {
   "cell_type": "code",
   "execution_count": 20,
   "metadata": {},
   "outputs": [
    {
     "data": {
      "text/plain": [
       "3002"
      ]
     },
     "execution_count": 20,
     "metadata": {},
     "output_type": "execute_result"
    }
   ],
   "source": [
    "explore_df.college_name.nunique()"
   ]
  },
  {
   "cell_type": "code",
   "execution_count": 21,
   "metadata": {},
   "outputs": [],
   "source": [
    "# explore_df.to_csv('df_exploration_ready_with_ROI.csv')"
   ]
  },
  {
   "cell_type": "markdown",
   "metadata": {},
   "source": [
    "# __________________________________________________________________________________ #\n",
    "# Exploration"
   ]
  },
  {
   "cell_type": "markdown",
   "metadata": {},
   "source": [
    "### Variables to explore:\n",
    "\n",
    "- `avg_net_price`\n",
    "- `full_time_net_tuition_revenue`\n",
    "- `avg_faculty_salary`\n",
    "\n",
    "- `admission_rate`\n",
    "- `ACT_score_mid`\n",
    "- `avg_sat_admitted`\n",
    "- `required_score`\n",
    "- `share_of_part_time`\n"
   ]
  },
  {
   "cell_type": "code",
   "execution_count": 1,
   "metadata": {},
   "outputs": [],
   "source": [
    "# regular imports\n",
    "import pandas as pd\n",
    "import numpy as np\n",
    "import matplotlib.pyplot as plt\n",
    "import seaborn as sns\n",
    "import scipy\n",
    "import math\n",
    "\n",
    "# default pandas decimal number display format\n",
    "pd.options.display.float_format = '{:20,.2f}'.format\n",
    "\n",
    "import warnings\n",
    "warnings.filterwarnings(\"ignore\")\n",
    "\n",
    "# Wrangling\n",
    "from sklearn.model_selection import train_test_split, learning_curve\n",
    "from sklearn.feature_selection import SelectKBest, RFE, f_regression, SequentialFeatureSelector\n",
    "from sklearn.linear_model import LinearRegression, LassoLars, TweedieRegressor\n",
    "from sklearn.cluster import KMeans\n",
    "from scipy import stats\n",
    "import sklearn.preprocessing\n",
    "from sklearn.metrics import mean_squared_error\n",
    "from scipy.stats import pearsonr, spearmanr, kruskal\n",
    "\n",
    "import csv\n",
    "import acquire\n",
    "import prepare\n",
    "import ds_acquire\n",
    "import ds_prepare\n"
   ]
  },
  {
   "cell_type": "code",
   "execution_count": 2,
   "metadata": {},
   "outputs": [],
   "source": [
    "explore_df = pd.read_csv('df_exploration_ready_with_ROI.csv')"
   ]
  },
  {
   "cell_type": "code",
   "execution_count": 3,
   "metadata": {},
   "outputs": [
    {
     "data": {
      "text/html": [
       "<div>\n",
       "<style scoped>\n",
       "    .dataframe tbody tr th:only-of-type {\n",
       "        vertical-align: middle;\n",
       "    }\n",
       "\n",
       "    .dataframe tbody tr th {\n",
       "        vertical-align: top;\n",
       "    }\n",
       "\n",
       "    .dataframe thead th {\n",
       "        text-align: right;\n",
       "    }\n",
       "</style>\n",
       "<table border=\"1\" class=\"dataframe\">\n",
       "  <thead>\n",
       "    <tr style=\"text-align: right;\">\n",
       "      <th></th>\n",
       "      <th>Unnamed: 0</th>\n",
       "      <th>unit_id_institution</th>\n",
       "      <th>college_name</th>\n",
       "      <th>institution_control</th>\n",
       "      <th>state_post_code</th>\n",
       "      <th>zip_code</th>\n",
       "      <th>city</th>\n",
       "      <th>region_ipeds</th>\n",
       "      <th>title_IV_eligibility</th>\n",
       "      <th>pred_degree</th>\n",
       "      <th>...</th>\n",
       "      <th>deg_percent_awarded_history.1</th>\n",
       "      <th>non_deg_seeking</th>\n",
       "      <th>avg_net_price</th>\n",
       "      <th>major_category</th>\n",
       "      <th>2017</th>\n",
       "      <th>2018</th>\n",
       "      <th>2019</th>\n",
       "      <th>Grand Total</th>\n",
       "      <th>roi_5yr</th>\n",
       "      <th>roi_10yr</th>\n",
       "    </tr>\n",
       "  </thead>\n",
       "  <tbody>\n",
       "    <tr>\n",
       "      <th>0</th>\n",
       "      <td>0</td>\n",
       "      <td>100,654.00</td>\n",
       "      <td>Alabama A &amp; M University</td>\n",
       "      <td>Public</td>\n",
       "      <td>AL</td>\n",
       "      <td>35762</td>\n",
       "      <td>Normal</td>\n",
       "      <td>5.00</td>\n",
       "      <td>1.00</td>\n",
       "      <td>3.00</td>\n",
       "      <td>...</td>\n",
       "      <td>0.00</td>\n",
       "      <td>153.00</td>\n",
       "      <td>14,444.00</td>\n",
       "      <td>Agriculture</td>\n",
       "      <td>57,605.69</td>\n",
       "      <td>55,517.87</td>\n",
       "      <td>61,388.93</td>\n",
       "      <td>174,512.49</td>\n",
       "      <td>-65,075.75</td>\n",
       "      <td>78,598.88</td>\n",
       "    </tr>\n",
       "    <tr>\n",
       "      <th>1</th>\n",
       "      <td>1</td>\n",
       "      <td>100,654.00</td>\n",
       "      <td>Alabama A &amp; M University</td>\n",
       "      <td>Public</td>\n",
       "      <td>AL</td>\n",
       "      <td>35762</td>\n",
       "      <td>Normal</td>\n",
       "      <td>5.00</td>\n",
       "      <td>1.00</td>\n",
       "      <td>3.00</td>\n",
       "      <td>...</td>\n",
       "      <td>0.00</td>\n",
       "      <td>153.00</td>\n",
       "      <td>14,444.00</td>\n",
       "      <td>Agriculture</td>\n",
       "      <td>57,605.69</td>\n",
       "      <td>55,517.87</td>\n",
       "      <td>61,388.93</td>\n",
       "      <td>174,512.49</td>\n",
       "      <td>-65,075.75</td>\n",
       "      <td>78,598.88</td>\n",
       "    </tr>\n",
       "    <tr>\n",
       "      <th>2</th>\n",
       "      <td>2</td>\n",
       "      <td>100,858.00</td>\n",
       "      <td>Auburn University</td>\n",
       "      <td>Public</td>\n",
       "      <td>AL</td>\n",
       "      <td>36849</td>\n",
       "      <td>Auburn</td>\n",
       "      <td>5.00</td>\n",
       "      <td>1.00</td>\n",
       "      <td>3.00</td>\n",
       "      <td>...</td>\n",
       "      <td>0.01</td>\n",
       "      <td>481.00</td>\n",
       "      <td>23,696.00</td>\n",
       "      <td>Agriculture</td>\n",
       "      <td>57,605.69</td>\n",
       "      <td>55,517.87</td>\n",
       "      <td>61,388.93</td>\n",
       "      <td>174,512.49</td>\n",
       "      <td>-74,327.75</td>\n",
       "      <td>69,346.88</td>\n",
       "    </tr>\n",
       "    <tr>\n",
       "      <th>3</th>\n",
       "      <td>3</td>\n",
       "      <td>100,858.00</td>\n",
       "      <td>Auburn University</td>\n",
       "      <td>Public</td>\n",
       "      <td>AL</td>\n",
       "      <td>36849</td>\n",
       "      <td>Auburn</td>\n",
       "      <td>5.00</td>\n",
       "      <td>1.00</td>\n",
       "      <td>3.00</td>\n",
       "      <td>...</td>\n",
       "      <td>0.01</td>\n",
       "      <td>481.00</td>\n",
       "      <td>23,696.00</td>\n",
       "      <td>Agriculture</td>\n",
       "      <td>57,605.69</td>\n",
       "      <td>55,517.87</td>\n",
       "      <td>61,388.93</td>\n",
       "      <td>174,512.49</td>\n",
       "      <td>-74,327.75</td>\n",
       "      <td>69,346.88</td>\n",
       "    </tr>\n",
       "    <tr>\n",
       "      <th>4</th>\n",
       "      <td>4</td>\n",
       "      <td>101,541.00</td>\n",
       "      <td>Judson College</td>\n",
       "      <td>Private, nonprofit</td>\n",
       "      <td>AL</td>\n",
       "      <td>36756</td>\n",
       "      <td>Marion</td>\n",
       "      <td>5.00</td>\n",
       "      <td>1.00</td>\n",
       "      <td>3.00</td>\n",
       "      <td>...</td>\n",
       "      <td>0.04</td>\n",
       "      <td>9.00</td>\n",
       "      <td>16,619.00</td>\n",
       "      <td>Agriculture</td>\n",
       "      <td>57,605.69</td>\n",
       "      <td>55,517.87</td>\n",
       "      <td>61,388.93</td>\n",
       "      <td>174,512.49</td>\n",
       "      <td>-67,250.75</td>\n",
       "      <td>76,423.88</td>\n",
       "    </tr>\n",
       "  </tbody>\n",
       "</table>\n",
       "<p>5 rows × 146 columns</p>\n",
       "</div>"
      ],
      "text/plain": [
       "   Unnamed: 0  unit_id_institution              college_name  \\\n",
       "0           0           100,654.00  Alabama A & M University   \n",
       "1           1           100,654.00  Alabama A & M University   \n",
       "2           2           100,858.00         Auburn University   \n",
       "3           3           100,858.00         Auburn University   \n",
       "4           4           101,541.00            Judson College   \n",
       "\n",
       "  institution_control state_post_code zip_code    city         region_ipeds  \\\n",
       "0              Public              AL    35762  Normal                 5.00   \n",
       "1              Public              AL    35762  Normal                 5.00   \n",
       "2              Public              AL    36849  Auburn                 5.00   \n",
       "3              Public              AL    36849  Auburn                 5.00   \n",
       "4  Private, nonprofit              AL    36756  Marion                 5.00   \n",
       "\n",
       "   title_IV_eligibility          pred_degree  ...  \\\n",
       "0                  1.00                 3.00  ...   \n",
       "1                  1.00                 3.00  ...   \n",
       "2                  1.00                 3.00  ...   \n",
       "3                  1.00                 3.00  ...   \n",
       "4                  1.00                 3.00  ...   \n",
       "\n",
       "   deg_percent_awarded_history.1      non_deg_seeking        avg_net_price  \\\n",
       "0                           0.00               153.00            14,444.00   \n",
       "1                           0.00               153.00            14,444.00   \n",
       "2                           0.01               481.00            23,696.00   \n",
       "3                           0.01               481.00            23,696.00   \n",
       "4                           0.04                 9.00            16,619.00   \n",
       "\n",
       "   major_category                 2017                 2018  \\\n",
       "0     Agriculture            57,605.69            55,517.87   \n",
       "1     Agriculture            57,605.69            55,517.87   \n",
       "2     Agriculture            57,605.69            55,517.87   \n",
       "3     Agriculture            57,605.69            55,517.87   \n",
       "4     Agriculture            57,605.69            55,517.87   \n",
       "\n",
       "                  2019          Grand Total              roi_5yr  \\\n",
       "0            61,388.93           174,512.49           -65,075.75   \n",
       "1            61,388.93           174,512.49           -65,075.75   \n",
       "2            61,388.93           174,512.49           -74,327.75   \n",
       "3            61,388.93           174,512.49           -74,327.75   \n",
       "4            61,388.93           174,512.49           -67,250.75   \n",
       "\n",
       "              roi_10yr  \n",
       "0            78,598.88  \n",
       "1            78,598.88  \n",
       "2            69,346.88  \n",
       "3            69,346.88  \n",
       "4            76,423.88  \n",
       "\n",
       "[5 rows x 146 columns]"
      ]
     },
     "execution_count": 3,
     "metadata": {},
     "output_type": "execute_result"
    }
   ],
   "source": [
    "explore_df.head()"
   ]
  },
  {
   "cell_type": "code",
   "execution_count": null,
   "metadata": {},
   "outputs": [],
   "source": [
    "explore_df.describe()"
   ]
  },
  {
   "cell_type": "code",
   "execution_count": null,
   "metadata": {},
   "outputs": [],
   "source": []
  },
  {
   "cell_type": "code",
   "execution_count": null,
   "metadata": {},
   "outputs": [],
   "source": [
    "explore_df.avg_net_price."
   ]
  },
  {
   "cell_type": "code",
   "execution_count": null,
   "metadata": {},
   "outputs": [],
   "source": []
  },
  {
   "cell_type": "code",
   "execution_count": 4,
   "metadata": {},
   "outputs": [
    {
     "data": {
      "image/png": "[encoded data removed]",
      "text/plain": [
       "<Figure size 288x144 with 1 Axes>"
      ]
     },
     "metadata": {},
     "output_type": "display_data"
    },
    {
     "data": {
      "image/png": "[encoded data removed]",
      "text/plain": [
       "<Figure size 288x144 with 1 Axes>"
      ]
     },
     "metadata": {},
     "output_type": "display_data"
    },
    {
     "data": {
      "image/png": "[encoded data removed]",
      "text/plain": [
       "<Figure size 288x144 with 1 Axes>"
      ]
     },
     "metadata": {},
     "output_type": "display_data"
    },
    {
     "data": {
      "image/png": "[encoded data removed]",
      "text/plain": [
       "<Figure size 288x144 with 1 Axes>"
      ]
     },
     "metadata": {},
     "output_type": "display_data"
    },
    {
     "data": {
      "image/png": "[encoded data removed]",
      "text/plain": [
       "<Figure size 288x144 with 1 Axes>"
      ]
     },
     "metadata": {},
     "output_type": "display_data"
    },
    {
     "data": {
      "image/png": "[encoded data removed]",
      "text/plain": [
       "<Figure size 288x144 with 1 Axes>"
      ]
     },
     "metadata": {},
     "output_type": "display_data"
    },
    {
     "data": {
      "image/png": "[encoded data removed]",
      "text/plain": [
       "<Figure size 288x144 with 1 Axes>"
      ]
     },
     "metadata": {},
     "output_type": "display_data"
    },
    {
     "data": {
      "image/png": "[encoded data removed]",
      "text/plain": [
       "<Figure size 288x144 with 1 Axes>"
      ]
     },
     "metadata": {},
     "output_type": "display_data"
    },
    {
     "data": {
      "image/png": "[encoded data removed]",
      "text/plain": [
       "<Figure size 288x144 with 1 Axes>"
      ]
     },
     "metadata": {},
     "output_type": "display_data"
    },
    {
     "data": {
      "image/png": "[encoded data removed]",
      "text/plain": [
       "<Figure size 288x144 with 1 Axes>"
      ]
     },
     "metadata": {},
     "output_type": "display_data"
    },
    {
     "data": {
      "image/png": "[encoded data removed]",
      "text/plain": [
       "<Figure size 288x144 with 1 Axes>"
      ]
     },
     "metadata": {},
     "output_type": "display_data"
    },
    {
     "data": {
      "image/png": "[encoded data removed]",
      "text/plain": [
       "<Figure size 288x144 with 1 Axes>"
      ]
     },
     "metadata": {},
     "output_type": "display_data"
    },
    {
     "data": {
      "image/png": "[encoded data removed]",
      "text/plain": [
       "<Figure size 288x144 with 1 Axes>"
      ]
     },
     "metadata": {},
     "output_type": "display_data"
    },
    {
     "data": {
      "image/png": "[encoded data removed]",
      "text/plain": [
       "<Figure size 288x144 with 1 Axes>"
      ]
     },
     "metadata": {},
     "output_type": "display_data"
    },
    {
     "data": {
      "image/png": "[encoded data removed]",
      "text/plain": [
       "<Figure size 288x144 with 1 Axes>"
      ]
     },
     "metadata": {},
     "output_type": "display_data"
    },
    {
     "data": {
      "image/png": "[encoded data removed]",
      "text/plain": [
       "<Figure size 288x144 with 1 Axes>"
      ]
     },
     "metadata": {},
     "output_type": "display_data"
    },
    {
     "data": {
      "image/png": "[encoded data removed]",
      "text/plain": [
       "<Figure size 288x144 with 1 Axes>"
      ]
     },
     "metadata": {},
     "output_type": "display_data"
    },
    {
     "data": {
      "image/png": "[encoded data removed]",
      "text/plain": [
       "<Figure size 288x144 with 1 Axes>"
      ]
     },
     "metadata": {},
     "output_type": "display_data"
    },
    {
     "data": {
      "image/png": "[encoded data removed]",
      "text/plain": [
       "<Figure size 288x144 with 1 Axes>"
      ]
     },
     "metadata": {},
     "output_type": "display_data"
    },
    {
     "data": {
      "image/png": "[encoded data removed]",
      "text/plain": [
       "<Figure size 288x144 with 1 Axes>"
      ]
     },
     "metadata": {},
     "output_type": "display_data"
    },
    {
     "data": {
      "image/png": "[encoded data removed]",
      "text/plain": [
       "<Figure size 288x144 with 1 Axes>"
      ]
     },
     "metadata": {},
     "output_type": "display_data"
    },
    {
     "ename": "ValueError",
     "evalue": "autodetected range of [nan, nan] is not finite",
     "output_type": "error",
     "traceback": [
      "\u001b[0;31m---------------------------------------------------------------------------\u001b[0m",
      "\u001b[0;31mValueError\u001b[0m                                Traceback (most recent call last)",
      "\u001b[1;32m/Users/davidschneemann/codeup/capstone_working_repo/ds_folder/explore_workbook.ipynb Cell 71\u001b[0m in \u001b[0;36m<cell line: 1>\u001b[0;34m()\u001b[0m\n\u001b[1;32m      <a href='vscode-notebook-cell:/Users/davidschneemann/codeup/capstone_working_repo/ds_folder/explore_workbook.ipynb#Y130sZmlsZQ%3D%3D?line=0'>1</a>\u001b[0m \u001b[39mfor\u001b[39;00m col \u001b[39min\u001b[39;00m explore_df\u001b[39m.\u001b[39mcolumns:\n\u001b[1;32m      <a href='vscode-notebook-cell:/Users/davidschneemann/codeup/capstone_working_repo/ds_folder/explore_workbook.ipynb#Y130sZmlsZQ%3D%3D?line=1'>2</a>\u001b[0m     plt\u001b[39m.\u001b[39mfigure(figsize\u001b[39m=\u001b[39m(\u001b[39m4\u001b[39m,\u001b[39m2\u001b[39m))\n\u001b[0;32m----> <a href='vscode-notebook-cell:/Users/davidschneemann/codeup/capstone_working_repo/ds_folder/explore_workbook.ipynb#Y130sZmlsZQ%3D%3D?line=2'>3</a>\u001b[0m     plt\u001b[39m.\u001b[39;49mhist(explore_df[col])\n\u001b[1;32m      <a href='vscode-notebook-cell:/Users/davidschneemann/codeup/capstone_working_repo/ds_folder/explore_workbook.ipynb#Y130sZmlsZQ%3D%3D?line=3'>4</a>\u001b[0m     plt\u001b[39m.\u001b[39mtitle(col)\n\u001b[1;32m      <a href='vscode-notebook-cell:/Users/davidschneemann/codeup/capstone_working_repo/ds_folder/explore_workbook.ipynb#Y130sZmlsZQ%3D%3D?line=4'>5</a>\u001b[0m     plt\u001b[39m.\u001b[39mshow()\n",
      "File \u001b[0;32m/usr/local/anaconda3/lib/python3.9/site-packages/matplotlib/pyplot.py:2590\u001b[0m, in \u001b[0;36mhist\u001b[0;34m(x, bins, range, density, weights, cumulative, bottom, histtype, align, orientation, rwidth, log, color, label, stacked, data, **kwargs)\u001b[0m\n\u001b[1;32m   2584\u001b[0m \u001b[39m@_copy_docstring_and_deprecators\u001b[39m(Axes\u001b[39m.\u001b[39mhist)\n\u001b[1;32m   2585\u001b[0m \u001b[39mdef\u001b[39;00m \u001b[39mhist\u001b[39m(\n\u001b[1;32m   2586\u001b[0m         x, bins\u001b[39m=\u001b[39m\u001b[39mNone\u001b[39;00m, \u001b[39mrange\u001b[39m\u001b[39m=\u001b[39m\u001b[39mNone\u001b[39;00m, density\u001b[39m=\u001b[39m\u001b[39mFalse\u001b[39;00m, weights\u001b[39m=\u001b[39m\u001b[39mNone\u001b[39;00m,\n\u001b[1;32m   2587\u001b[0m         cumulative\u001b[39m=\u001b[39m\u001b[39mFalse\u001b[39;00m, bottom\u001b[39m=\u001b[39m\u001b[39mNone\u001b[39;00m, histtype\u001b[39m=\u001b[39m\u001b[39m'\u001b[39m\u001b[39mbar\u001b[39m\u001b[39m'\u001b[39m, align\u001b[39m=\u001b[39m\u001b[39m'\u001b[39m\u001b[39mmid\u001b[39m\u001b[39m'\u001b[39m,\n\u001b[1;32m   2588\u001b[0m         orientation\u001b[39m=\u001b[39m\u001b[39m'\u001b[39m\u001b[39mvertical\u001b[39m\u001b[39m'\u001b[39m, rwidth\u001b[39m=\u001b[39m\u001b[39mNone\u001b[39;00m, log\u001b[39m=\u001b[39m\u001b[39mFalse\u001b[39;00m, color\u001b[39m=\u001b[39m\u001b[39mNone\u001b[39;00m,\n\u001b[1;32m   2589\u001b[0m         label\u001b[39m=\u001b[39m\u001b[39mNone\u001b[39;00m, stacked\u001b[39m=\u001b[39m\u001b[39mFalse\u001b[39;00m, \u001b[39m*\u001b[39m, data\u001b[39m=\u001b[39m\u001b[39mNone\u001b[39;00m, \u001b[39m*\u001b[39m\u001b[39m*\u001b[39mkwargs):\n\u001b[0;32m-> 2590\u001b[0m     \u001b[39mreturn\u001b[39;00m gca()\u001b[39m.\u001b[39;49mhist(\n\u001b[1;32m   2591\u001b[0m         x, bins\u001b[39m=\u001b[39;49mbins, \u001b[39mrange\u001b[39;49m\u001b[39m=\u001b[39;49m\u001b[39mrange\u001b[39;49m, density\u001b[39m=\u001b[39;49mdensity, weights\u001b[39m=\u001b[39;49mweights,\n\u001b[1;32m   2592\u001b[0m         cumulative\u001b[39m=\u001b[39;49mcumulative, bottom\u001b[39m=\u001b[39;49mbottom, histtype\u001b[39m=\u001b[39;49mhisttype,\n\u001b[1;32m   2593\u001b[0m         align\u001b[39m=\u001b[39;49malign, orientation\u001b[39m=\u001b[39;49morientation, rwidth\u001b[39m=\u001b[39;49mrwidth, log\u001b[39m=\u001b[39;49mlog,\n\u001b[1;32m   2594\u001b[0m         color\u001b[39m=\u001b[39;49mcolor, label\u001b[39m=\u001b[39;49mlabel, stacked\u001b[39m=\u001b[39;49mstacked,\n\u001b[1;32m   2595\u001b[0m         \u001b[39m*\u001b[39;49m\u001b[39m*\u001b[39;49m({\u001b[39m\"\u001b[39;49m\u001b[39mdata\u001b[39;49m\u001b[39m\"\u001b[39;49m: data} \u001b[39mif\u001b[39;49;00m data \u001b[39mis\u001b[39;49;00m \u001b[39mnot\u001b[39;49;00m \u001b[39mNone\u001b[39;49;00m \u001b[39melse\u001b[39;49;00m {}), \u001b[39m*\u001b[39;49m\u001b[39m*\u001b[39;49mkwargs)\n",
      "File \u001b[0;32m/usr/local/anaconda3/lib/python3.9/site-packages/matplotlib/__init__.py:1412\u001b[0m, in \u001b[0;36m_preprocess_data.<locals>.inner\u001b[0;34m(ax, data, *args, **kwargs)\u001b[0m\n\u001b[1;32m   1409\u001b[0m \u001b[39m@functools\u001b[39m\u001b[39m.\u001b[39mwraps(func)\n\u001b[1;32m   1410\u001b[0m \u001b[39mdef\u001b[39;00m \u001b[39minner\u001b[39m(ax, \u001b[39m*\u001b[39margs, data\u001b[39m=\u001b[39m\u001b[39mNone\u001b[39;00m, \u001b[39m*\u001b[39m\u001b[39m*\u001b[39mkwargs):\n\u001b[1;32m   1411\u001b[0m     \u001b[39mif\u001b[39;00m data \u001b[39mis\u001b[39;00m \u001b[39mNone\u001b[39;00m:\n\u001b[0;32m-> 1412\u001b[0m         \u001b[39mreturn\u001b[39;00m func(ax, \u001b[39m*\u001b[39;49m\u001b[39mmap\u001b[39;49m(sanitize_sequence, args), \u001b[39m*\u001b[39;49m\u001b[39m*\u001b[39;49mkwargs)\n\u001b[1;32m   1414\u001b[0m     bound \u001b[39m=\u001b[39m new_sig\u001b[39m.\u001b[39mbind(ax, \u001b[39m*\u001b[39margs, \u001b[39m*\u001b[39m\u001b[39m*\u001b[39mkwargs)\n\u001b[1;32m   1415\u001b[0m     auto_label \u001b[39m=\u001b[39m (bound\u001b[39m.\u001b[39marguments\u001b[39m.\u001b[39mget(label_namer)\n\u001b[1;32m   1416\u001b[0m                   \u001b[39mor\u001b[39;00m bound\u001b[39m.\u001b[39mkwargs\u001b[39m.\u001b[39mget(label_namer))\n",
      "File \u001b[0;32m/usr/local/anaconda3/lib/python3.9/site-packages/matplotlib/axes/_axes.py:6639\u001b[0m, in \u001b[0;36mAxes.hist\u001b[0;34m(self, x, bins, range, density, weights, cumulative, bottom, histtype, align, orientation, rwidth, log, color, label, stacked, **kwargs)\u001b[0m\n\u001b[1;32m   6635\u001b[0m \u001b[39m# Loop through datasets\u001b[39;00m\n\u001b[1;32m   6636\u001b[0m \u001b[39mfor\u001b[39;00m i \u001b[39min\u001b[39;00m \u001b[39mrange\u001b[39m(nx):\n\u001b[1;32m   6637\u001b[0m     \u001b[39m# this will automatically overwrite bins,\u001b[39;00m\n\u001b[1;32m   6638\u001b[0m     \u001b[39m# so that each histogram uses the same bins\u001b[39;00m\n\u001b[0;32m-> 6639\u001b[0m     m, bins \u001b[39m=\u001b[39m np\u001b[39m.\u001b[39;49mhistogram(x[i], bins, weights\u001b[39m=\u001b[39;49mw[i], \u001b[39m*\u001b[39;49m\u001b[39m*\u001b[39;49mhist_kwargs)\n\u001b[1;32m   6640\u001b[0m     tops\u001b[39m.\u001b[39mappend(m)\n\u001b[1;32m   6641\u001b[0m tops \u001b[39m=\u001b[39m np\u001b[39m.\u001b[39marray(tops, \u001b[39mfloat\u001b[39m)  \u001b[39m# causes problems later if it's an int\u001b[39;00m\n",
      "File \u001b[0;32m<__array_function__ internals>:5\u001b[0m, in \u001b[0;36mhistogram\u001b[0;34m(*args, **kwargs)\u001b[0m\n",
      "File \u001b[0;32m/usr/local/anaconda3/lib/python3.9/site-packages/numpy/lib/histograms.py:793\u001b[0m, in \u001b[0;36mhistogram\u001b[0;34m(a, bins, range, normed, weights, density)\u001b[0m\n\u001b[1;32m    681\u001b[0m \u001b[39mr\u001b[39m\u001b[39m\"\"\"\u001b[39;00m\n\u001b[1;32m    682\u001b[0m \u001b[39mCompute the histogram of a dataset.\u001b[39;00m\n\u001b[1;32m    683\u001b[0m \n\u001b[0;32m   (...)\u001b[0m\n\u001b[1;32m    789\u001b[0m \n\u001b[1;32m    790\u001b[0m \u001b[39m\"\"\"\u001b[39;00m\n\u001b[1;32m    791\u001b[0m a, weights \u001b[39m=\u001b[39m _ravel_and_check_weights(a, weights)\n\u001b[0;32m--> 793\u001b[0m bin_edges, uniform_bins \u001b[39m=\u001b[39m _get_bin_edges(a, bins, \u001b[39mrange\u001b[39;49m, weights)\n\u001b[1;32m    795\u001b[0m \u001b[39m# Histogram is an integer or a float array depending on the weights.\u001b[39;00m\n\u001b[1;32m    796\u001b[0m \u001b[39mif\u001b[39;00m weights \u001b[39mis\u001b[39;00m \u001b[39mNone\u001b[39;00m:\n",
      "File \u001b[0;32m/usr/local/anaconda3/lib/python3.9/site-packages/numpy/lib/histograms.py:426\u001b[0m, in \u001b[0;36m_get_bin_edges\u001b[0;34m(a, bins, range, weights)\u001b[0m\n\u001b[1;32m    423\u001b[0m     \u001b[39mif\u001b[39;00m n_equal_bins \u001b[39m<\u001b[39m \u001b[39m1\u001b[39m:\n\u001b[1;32m    424\u001b[0m         \u001b[39mraise\u001b[39;00m \u001b[39mValueError\u001b[39;00m(\u001b[39m'\u001b[39m\u001b[39m`bins` must be positive, when an integer\u001b[39m\u001b[39m'\u001b[39m)\n\u001b[0;32m--> 426\u001b[0m     first_edge, last_edge \u001b[39m=\u001b[39m _get_outer_edges(a, \u001b[39mrange\u001b[39;49m)\n\u001b[1;32m    428\u001b[0m \u001b[39melif\u001b[39;00m np\u001b[39m.\u001b[39mndim(bins) \u001b[39m==\u001b[39m \u001b[39m1\u001b[39m:\n\u001b[1;32m    429\u001b[0m     bin_edges \u001b[39m=\u001b[39m np\u001b[39m.\u001b[39masarray(bins)\n",
      "File \u001b[0;32m/usr/local/anaconda3/lib/python3.9/site-packages/numpy/lib/histograms.py:323\u001b[0m, in \u001b[0;36m_get_outer_edges\u001b[0;34m(a, range)\u001b[0m\n\u001b[1;32m    321\u001b[0m     first_edge, last_edge \u001b[39m=\u001b[39m a\u001b[39m.\u001b[39mmin(), a\u001b[39m.\u001b[39mmax()\n\u001b[1;32m    322\u001b[0m     \u001b[39mif\u001b[39;00m \u001b[39mnot\u001b[39;00m (np\u001b[39m.\u001b[39misfinite(first_edge) \u001b[39mand\u001b[39;00m np\u001b[39m.\u001b[39misfinite(last_edge)):\n\u001b[0;32m--> 323\u001b[0m         \u001b[39mraise\u001b[39;00m \u001b[39mValueError\u001b[39;00m(\n\u001b[1;32m    324\u001b[0m             \u001b[39m\"\u001b[39m\u001b[39mautodetected range of [\u001b[39m\u001b[39m{}\u001b[39;00m\u001b[39m, \u001b[39m\u001b[39m{}\u001b[39;00m\u001b[39m] is not finite\u001b[39m\u001b[39m\"\u001b[39m\u001b[39m.\u001b[39mformat(first_edge, last_edge))\n\u001b[1;32m    326\u001b[0m \u001b[39m# expand empty range to avoid divide by zero\u001b[39;00m\n\u001b[1;32m    327\u001b[0m \u001b[39mif\u001b[39;00m first_edge \u001b[39m==\u001b[39m last_edge:\n",
      "\u001b[0;31mValueError\u001b[0m: autodetected range of [nan, nan] is not finite"
     ]
    },
    {
     "data": {
      "image/png": "[encoded data removed]",
      "text/plain": [
       "<Figure size 288x144 with 1 Axes>"
      ]
     },
     "metadata": {},
     "output_type": "display_data"
    }
   ],
   "source": [
    "# Histogram showing distribution of all cols\n",
    "for col in explore_df.columns:\n",
    "    plt.figure(figsize=(4,2))\n",
    "    plt.hist(explore_df[col])\n",
    "    plt.title(col)\n",
    "    plt.show()"
   ]
  },
  {
   "cell_type": "code",
   "execution_count": null,
   "metadata": {},
   "outputs": [],
   "source": []
  },
  {
   "cell_type": "code",
   "execution_count": 6,
   "metadata": {},
   "outputs": [],
   "source": [
    "# Creating a snapshot of our data, variables, and their relationships\n",
    "sns.pairplot(explore_df.sample(2000), kind='reg', corner=True, plot_kws={'line_kws':{'color':'red'}})"
   ]
  },
  {
   "cell_type": "code",
   "execution_count": null,
   "metadata": {},
   "outputs": [],
   "source": []
  },
  {
   "cell_type": "code",
   "execution_count": null,
   "metadata": {},
   "outputs": [],
   "source": [
    "print(\"Is there a relationship between avg_net_price and ROI_10yr?\")\n",
    "sns.jointplot(x=\"avg_net_price\", y=\"roi_10yr\", data=explore_df)\n",
    "plt.xlabel(\"Avg_net_price_per_institution\")\n",
    "plt.ylabel(\"ROI 10yr\")\n",
    "plt.show()"
   ]
  },
  {
   "cell_type": "code",
   "execution_count": null,
   "metadata": {},
   "outputs": [],
   "source": [
    "print(\"Is there a relationship between full_time_net_tuition_revenue and ROI_10yr?\")\n",
    "sns.jointplot(x=\"full_time_net_tuition_revenue\", y=\"roi_10yr\", data=explore_df)\n",
    "plt.xlabel(\"Fill Time Net Tuition Revenue\")\n",
    "plt.ylabel(\"ROI 10yr\")\n",
    "plt.show()"
   ]
  },
  {
   "cell_type": "code",
   "execution_count": null,
   "metadata": {},
   "outputs": [],
   "source": [
    "print(\"Is there a relationship between avg_faculty_salary and ROI_10yr?\")\n",
    "sns.jointplot(x=\"avg_faculty_salary\", y=\"roi_10yr\", data=explore_df)\n",
    "plt.xlabel(\"Avg Faculty Salary\")\n",
    "plt.ylabel(\"ROI 10yr\")\n",
    "plt.show()"
   ]
  },
  {
   "cell_type": "code",
   "execution_count": null,
   "metadata": {},
   "outputs": [],
   "source": [
    "print(\"Is there a relationship between admission_rate and ROI_10yr?\")\n",
    "sns.jointplot(x=\"admission_rate\", y=\"roi_10yr\", data=explore_df)\n",
    "plt.xlabel(\"Admission Rate\")\n",
    "plt.ylabel(\"ROI 10yr\")\n",
    "plt.show()"
   ]
  },
  {
   "cell_type": "code",
   "execution_count": null,
   "metadata": {},
   "outputs": [],
   "source": [
    "print(\"Is there a relationship between ACT_score_mid and ROI_10yr?\")\n",
    "sns.jointplot(x=\"ACT_score_mid\", y=\"roi_10yr\", data=explore_df)\n",
    "plt.xlabel(\"Mid ACT score admitted\")\n",
    "plt.ylabel(\"ROI 10yr\")\n",
    "plt.show()"
   ]
  },
  {
   "cell_type": "code",
   "execution_count": null,
   "metadata": {},
   "outputs": [],
   "source": [
    "print(\"Is there a relationship between avg_sat_admitted and ROI_10yr?\")\n",
    "sns.jointplot(x=\"avg_sat_admitted\", y=\"roi_10yr\", data=explore_df)\n",
    "plt.xlabel(\"Avg SAT score admitted\")\n",
    "plt.ylabel(\"ROI 10yr\")\n",
    "plt.show()"
   ]
  },
  {
   "cell_type": "code",
   "execution_count": null,
   "metadata": {},
   "outputs": [],
   "source": [
    "print(\"Is there a relationship between required_score and ROI_10yr?\")\n",
    "sns.jointplot(x=\"required_score\", y=\"roi_10yr\", data=explore_df)\n",
    "plt.xlabel(\"Required Score (unsure which score)\")\n",
    "plt.ylabel(\"ROI 10yr\")\n",
    "plt.show()"
   ]
  },
  {
   "cell_type": "code",
   "execution_count": null,
   "metadata": {},
   "outputs": [],
   "source": [
    "print(\"Is there a relationship between share_of_part_time and ROI_10yr?\")\n",
    "sns.jointplot(x=\"share_of_part_time\", y=\"roi_10yr\", data=explore_df)\n",
    "plt.xlabel(\"Portion of part time students\")\n",
    "plt.ylabel(\"ROI 10yr\")\n",
    "plt.show()"
   ]
  },
  {
   "cell_type": "code",
   "execution_count": null,
   "metadata": {},
   "outputs": [],
   "source": []
  },
  {
   "cell_type": "markdown",
   "metadata": {},
   "source": [
    "# ___________________________________________ #\n",
    "### Train_Test_Split for further exploration"
   ]
  },
  {
   "cell_type": "code",
   "execution_count": null,
   "metadata": {},
   "outputs": [],
   "source": [
    "train, validate, test = prepare.split_data(explore_df)\n"
   ]
  },
  {
   "cell_type": "code",
   "execution_count": null,
   "metadata": {},
   "outputs": [],
   "source": []
  },
  {
   "cell_type": "code",
   "execution_count": null,
   "metadata": {},
   "outputs": [],
   "source": []
  },
  {
   "cell_type": "code",
   "execution_count": null,
   "metadata": {},
   "outputs": [],
   "source": []
  },
  {
   "cell_type": "code",
   "execution_count": null,
   "metadata": {},
   "outputs": [],
   "source": [
    "# Define function which plots a categorical and continuous var\n",
    "def plot_categorical_and_continuous_vars(df, categorical, continuous):\n",
    "    df_sample = df.sample(2000)\n",
    "    plt.figure()\n",
    "    sns.countplot(x=categorical, data=df_sample)\n",
    "    plt.figure()\n",
    "    sns.swarmplot(x=categorical, y=continuous, data=df_sample)\n",
    "    plt.figure()\n",
    "    sns.boxplot(x=categorical, y=continuous, data=df_sample)\n",
    "    plt.figure()\n",
    "    sns.violinplot(x=categorical, y=continuous, data=df_sample)\n",
    "    plt.figure()\n",
    "    sns.barplot(x=categorical, y=continuous, data=df_sample)"
   ]
  },
  {
   "cell_type": "code",
   "execution_count": null,
   "metadata": {},
   "outputs": [],
   "source": []
  },
  {
   "cell_type": "code",
   "execution_count": null,
   "metadata": {},
   "outputs": [],
   "source": []
  }
 ],
 "metadata": {
  "kernelspec": {
   "display_name": "Python 3.9.12 ('base')",
   "language": "python",
   "name": "python3"
  },
  "language_info": {
   "codemirror_mode": {
    "name": "ipython",
    "version": 3
   },
   "file_extension": ".py",
   "mimetype": "text/x-python",
   "name": "python",
   "nbconvert_exporter": "python",
   "pygments_lexer": "ipython3",
   "version": "3.9.12"
  },
  "orig_nbformat": 4,
  "vscode": {
   "interpreter": {
    "hash": "3067ead486e059ec00ffe7555bdb889e6e264a24dc711bf108106cc7baee8d5d"
   }
  }
 },
 "nbformat": 4,
 "nbformat_minor": 2
}

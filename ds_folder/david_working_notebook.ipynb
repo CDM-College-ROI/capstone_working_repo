{
 "cells": [
  {
   "cell_type": "markdown",
   "metadata": {},
   "source": [
    "# Capstone Project Working Notebook: David"
   ]
  },
  {
   "cell_type": "markdown",
   "metadata": {},
   "source": []
  },
  {
   "cell_type": "code",
   "execution_count": 1,
   "metadata": {},
   "outputs": [],
   "source": [
    "import pandas as pd\n",
    "import numpy as np\n",
    "\n",
    "import csv\n"
   ]
  },
  {
   "cell_type": "code",
   "execution_count": null,
   "metadata": {},
   "outputs": [],
   "source": []
  },
  {
   "cell_type": "code",
   "execution_count": 2,
   "metadata": {},
   "outputs": [],
   "source": [
    "def get_mass_majors_df():\n",
    "    '''Function to initially pull and merge the two (2) needed\n",
    "    College Scorecard tables for period 2018-2019.'''\n",
    "    filename_01 = \"~/codeup/external_data_tap/data_capstone_project/FieldOfStudyData1718_1819_PP.csv\"\n",
    "    filename_02 = \"~/codeup/external_data_tap/data_capstone_project/MERGED2018_19_PP.csv\"\n",
    "    df_parent = pd.read_csv(filename_01)\n",
    "    df_child = pd.read_csv(filename_02, low_memory=False)\n",
    "    df_parent[\"UNITID\"] = df_parent[\"UNITID\"].astype(\"Int64\", errors='ignore')\n",
    "    df_child[\"UNITID\"] = df_child[\"UNITID\"].astype(\"Int64\", errors='ignore')\n",
    "    df = df_parent.merge(\n",
    "    df_child,\n",
    "    how = \"left\",\n",
    "    on = \"UNITID\",\n",
    "    copy = False\n",
    "    )\n",
    "    print(f'dataframe shape: {df.shape}')\n",
    "    return df\n"
   ]
  },
  {
   "cell_type": "code",
   "execution_count": 3,
   "metadata": {},
   "outputs": [
    {
     "name": "stdout",
     "output_type": "stream",
     "text": [
      "dataframe shape: (224849, 3109)\n"
     ]
    }
   ],
   "source": [
    "df = get_mass_majors_df()"
   ]
  },
  {
   "cell_type": "code",
   "execution_count": 4,
   "metadata": {},
   "outputs": [
    {
     "name": "stdout",
     "output_type": "stream",
     "text": [
      "<class 'pandas.core.frame.DataFrame'>\n",
      "Int64Index: 224849 entries, 0 to 224848\n",
      "Columns: 3109 entries, UNITID to MD_EARN_WNE_MALE1_P10\n",
      "dtypes: Int64(1), float64(1687), int64(4), object(1417)\n",
      "memory usage: 5.2+ GB\n"
     ]
    }
   ],
   "source": [
    "df.info()"
   ]
  },
  {
   "cell_type": "code",
   "execution_count": 5,
   "metadata": {},
   "outputs": [
    {
     "data": {
      "text/html": [
       "<div>\n",
       "<style scoped>\n",
       "    .dataframe tbody tr th:only-of-type {\n",
       "        vertical-align: middle;\n",
       "    }\n",
       "\n",
       "    .dataframe tbody tr th {\n",
       "        vertical-align: top;\n",
       "    }\n",
       "\n",
       "    .dataframe thead th {\n",
       "        text-align: right;\n",
       "    }\n",
       "</style>\n",
       "<table border=\"1\" class=\"dataframe\">\n",
       "  <thead>\n",
       "    <tr style=\"text-align: right;\">\n",
       "      <th></th>\n",
       "      <th>UNITID</th>\n",
       "      <th>OPEID6_x</th>\n",
       "      <th>INSTNM_x</th>\n",
       "      <th>CONTROL_x</th>\n",
       "      <th>MAIN_x</th>\n",
       "      <th>CIPCODE</th>\n",
       "      <th>CIPDESC</th>\n",
       "      <th>CREDLEV</th>\n",
       "      <th>CREDDESC</th>\n",
       "      <th>IPEDSCOUNT1</th>\n",
       "      <th>...</th>\n",
       "      <th>COUNT_WNE_MALE1_P8</th>\n",
       "      <th>MD_EARN_WNE_MALE1_P8</th>\n",
       "      <th>GT_THRESHOLD_P10</th>\n",
       "      <th>MD_EARN_WNE_INC1_P10</th>\n",
       "      <th>MD_EARN_WNE_INC2_P10</th>\n",
       "      <th>MD_EARN_WNE_INC3_P10</th>\n",
       "      <th>MD_EARN_WNE_INDEP1_P10</th>\n",
       "      <th>MD_EARN_WNE_INDEP0_P10</th>\n",
       "      <th>MD_EARN_WNE_MALE0_P10</th>\n",
       "      <th>MD_EARN_WNE_MALE1_P10</th>\n",
       "    </tr>\n",
       "  </thead>\n",
       "  <tbody>\n",
       "    <tr>\n",
       "      <th>0</th>\n",
       "      <td>100654</td>\n",
       "      <td>1002</td>\n",
       "      <td>Alabama A &amp; M University</td>\n",
       "      <td>Public</td>\n",
       "      <td>1</td>\n",
       "      <td>100</td>\n",
       "      <td>Agriculture, General.</td>\n",
       "      <td>3</td>\n",
       "      <td>Bachelors Degree</td>\n",
       "      <td>NaN</td>\n",
       "      <td>...</td>\n",
       "      <td>834.0</td>\n",
       "      <td>36639.0</td>\n",
       "      <td>0.6044</td>\n",
       "      <td>34076.0</td>\n",
       "      <td>35597.0</td>\n",
       "      <td>43145.0</td>\n",
       "      <td>40299.0</td>\n",
       "      <td>35424.0</td>\n",
       "      <td>36050.0</td>\n",
       "      <td>36377.0</td>\n",
       "    </tr>\n",
       "    <tr>\n",
       "      <th>1</th>\n",
       "      <td>100654</td>\n",
       "      <td>1002</td>\n",
       "      <td>Alabama A &amp; M University</td>\n",
       "      <td>Public</td>\n",
       "      <td>1</td>\n",
       "      <td>109</td>\n",
       "      <td>Animal Sciences.</td>\n",
       "      <td>3</td>\n",
       "      <td>Bachelors Degree</td>\n",
       "      <td>5.0</td>\n",
       "      <td>...</td>\n",
       "      <td>834.0</td>\n",
       "      <td>36639.0</td>\n",
       "      <td>0.6044</td>\n",
       "      <td>34076.0</td>\n",
       "      <td>35597.0</td>\n",
       "      <td>43145.0</td>\n",
       "      <td>40299.0</td>\n",
       "      <td>35424.0</td>\n",
       "      <td>36050.0</td>\n",
       "      <td>36377.0</td>\n",
       "    </tr>\n",
       "    <tr>\n",
       "      <th>2</th>\n",
       "      <td>100654</td>\n",
       "      <td>1002</td>\n",
       "      <td>Alabama A &amp; M University</td>\n",
       "      <td>Public</td>\n",
       "      <td>1</td>\n",
       "      <td>110</td>\n",
       "      <td>Food Science and Technology.</td>\n",
       "      <td>3</td>\n",
       "      <td>Bachelors Degree</td>\n",
       "      <td>9.0</td>\n",
       "      <td>...</td>\n",
       "      <td>834.0</td>\n",
       "      <td>36639.0</td>\n",
       "      <td>0.6044</td>\n",
       "      <td>34076.0</td>\n",
       "      <td>35597.0</td>\n",
       "      <td>43145.0</td>\n",
       "      <td>40299.0</td>\n",
       "      <td>35424.0</td>\n",
       "      <td>36050.0</td>\n",
       "      <td>36377.0</td>\n",
       "    </tr>\n",
       "    <tr>\n",
       "      <th>3</th>\n",
       "      <td>100654</td>\n",
       "      <td>1002</td>\n",
       "      <td>Alabama A &amp; M University</td>\n",
       "      <td>Public</td>\n",
       "      <td>1</td>\n",
       "      <td>110</td>\n",
       "      <td>Food Science and Technology.</td>\n",
       "      <td>5</td>\n",
       "      <td>Master's Degree</td>\n",
       "      <td>5.0</td>\n",
       "      <td>...</td>\n",
       "      <td>834.0</td>\n",
       "      <td>36639.0</td>\n",
       "      <td>0.6044</td>\n",
       "      <td>34076.0</td>\n",
       "      <td>35597.0</td>\n",
       "      <td>43145.0</td>\n",
       "      <td>40299.0</td>\n",
       "      <td>35424.0</td>\n",
       "      <td>36050.0</td>\n",
       "      <td>36377.0</td>\n",
       "    </tr>\n",
       "    <tr>\n",
       "      <th>4</th>\n",
       "      <td>100654</td>\n",
       "      <td>1002</td>\n",
       "      <td>Alabama A &amp; M University</td>\n",
       "      <td>Public</td>\n",
       "      <td>1</td>\n",
       "      <td>110</td>\n",
       "      <td>Food Science and Technology.</td>\n",
       "      <td>6</td>\n",
       "      <td>Doctoral Degree</td>\n",
       "      <td>1.0</td>\n",
       "      <td>...</td>\n",
       "      <td>834.0</td>\n",
       "      <td>36639.0</td>\n",
       "      <td>0.6044</td>\n",
       "      <td>34076.0</td>\n",
       "      <td>35597.0</td>\n",
       "      <td>43145.0</td>\n",
       "      <td>40299.0</td>\n",
       "      <td>35424.0</td>\n",
       "      <td>36050.0</td>\n",
       "      <td>36377.0</td>\n",
       "    </tr>\n",
       "  </tbody>\n",
       "</table>\n",
       "<p>5 rows × 3109 columns</p>\n",
       "</div>"
      ],
      "text/plain": [
       "   UNITID  OPEID6_x                  INSTNM_x CONTROL_x  MAIN_x  CIPCODE  \\\n",
       "0  100654      1002  Alabama A & M University    Public       1      100   \n",
       "1  100654      1002  Alabama A & M University    Public       1      109   \n",
       "2  100654      1002  Alabama A & M University    Public       1      110   \n",
       "3  100654      1002  Alabama A & M University    Public       1      110   \n",
       "4  100654      1002  Alabama A & M University    Public       1      110   \n",
       "\n",
       "                        CIPDESC  CREDLEV          CREDDESC  IPEDSCOUNT1  ...  \\\n",
       "0         Agriculture, General.        3  Bachelors Degree          NaN  ...   \n",
       "1              Animal Sciences.        3  Bachelors Degree          5.0  ...   \n",
       "2  Food Science and Technology.        3  Bachelors Degree          9.0  ...   \n",
       "3  Food Science and Technology.        5   Master's Degree          5.0  ...   \n",
       "4  Food Science and Technology.        6   Doctoral Degree          1.0  ...   \n",
       "\n",
       "   COUNT_WNE_MALE1_P8 MD_EARN_WNE_MALE1_P8 GT_THRESHOLD_P10  \\\n",
       "0               834.0              36639.0           0.6044   \n",
       "1               834.0              36639.0           0.6044   \n",
       "2               834.0              36639.0           0.6044   \n",
       "3               834.0              36639.0           0.6044   \n",
       "4               834.0              36639.0           0.6044   \n",
       "\n",
       "  MD_EARN_WNE_INC1_P10 MD_EARN_WNE_INC2_P10 MD_EARN_WNE_INC3_P10  \\\n",
       "0              34076.0              35597.0              43145.0   \n",
       "1              34076.0              35597.0              43145.0   \n",
       "2              34076.0              35597.0              43145.0   \n",
       "3              34076.0              35597.0              43145.0   \n",
       "4              34076.0              35597.0              43145.0   \n",
       "\n",
       "  MD_EARN_WNE_INDEP1_P10 MD_EARN_WNE_INDEP0_P10 MD_EARN_WNE_MALE0_P10  \\\n",
       "0                40299.0                35424.0               36050.0   \n",
       "1                40299.0                35424.0               36050.0   \n",
       "2                40299.0                35424.0               36050.0   \n",
       "3                40299.0                35424.0               36050.0   \n",
       "4                40299.0                35424.0               36050.0   \n",
       "\n",
       "  MD_EARN_WNE_MALE1_P10  \n",
       "0               36377.0  \n",
       "1               36377.0  \n",
       "2               36377.0  \n",
       "3               36377.0  \n",
       "4               36377.0  \n",
       "\n",
       "[5 rows x 3109 columns]"
      ]
     },
     "execution_count": 5,
     "metadata": {},
     "output_type": "execute_result"
    }
   ],
   "source": [
    "df.head()"
   ]
  },
  {
   "cell_type": "code",
   "execution_count": 6,
   "metadata": {},
   "outputs": [
    {
     "data": {
      "text/plain": [
       "30996.0    521\n",
       "22682.0    453\n",
       "17479.0    442\n",
       "28758.0    428\n",
       "11644.0    415\n",
       "          ... \n",
       "29652.0      1\n",
       "16054.0      1\n",
       "10604.0      1\n",
       "5533.0       1\n",
       "15476.0      1\n",
       "Name: NPT4_PUB, Length: 1784, dtype: int64"
      ]
     },
     "execution_count": 6,
     "metadata": {},
     "output_type": "execute_result"
    }
   ],
   "source": [
    "df.NPT4_PUB.value_counts()"
   ]
  },
  {
   "cell_type": "code",
   "execution_count": null,
   "metadata": {},
   "outputs": [],
   "source": []
  }
 ],
 "metadata": {
  "kernelspec": {
   "display_name": "Python 3.9.12 ('base')",
   "language": "python",
   "name": "python3"
  },
  "language_info": {
   "codemirror_mode": {
    "name": "ipython",
    "version": 3
   },
   "file_extension": ".py",
   "mimetype": "text/x-python",
   "name": "python",
   "nbconvert_exporter": "python",
   "pygments_lexer": "ipython3",
   "version": "3.9.12"
  },
  "orig_nbformat": 4,
  "vscode": {
   "interpreter": {
    "hash": "3067ead486e059ec00ffe7555bdb889e6e264a24dc711bf108106cc7baee8d5d"
   }
  }
 },
 "nbformat": 4,
 "nbformat_minor": 2
}
